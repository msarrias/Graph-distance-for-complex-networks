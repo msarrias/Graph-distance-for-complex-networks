{
 "cells": [
  {
   "cell_type": "code",
   "execution_count": 1,
   "metadata": {},
   "outputs": [],
   "source": [
    "import numpy as np\n",
    "import networkx as nx\n",
    "import scipy.linalg as la\n",
    "from matplotlib import pyplot as plt\n",
    "import fun as f\n",
    "import random, time, math, json\n",
    "from collections import Counter\n",
    "from SGD import SGD"
   ]
  },
  {
   "cell_type": "code",
   "execution_count": 3,
   "metadata": {},
   "outputs": [],
   "source": [
    "WS_models_k = nx.read_gpickle(\"00-Graphs/171120WS-Graphs-fixed-p-01.json\")"
   ]
  },
  {
   "cell_type": "code",
   "execution_count": 4,
   "metadata": {},
   "outputs": [],
   "source": [
    "k0_list = list(WS_models_k['G_k0'].keys())"
   ]
  },
  {
   "cell_type": "code",
   "execution_count": 5,
   "metadata": {},
   "outputs": [],
   "source": [
    "k0 = k0_list[0]\n",
    "exp_unnormL = SGD(ref = k0, \n",
    "                  solve = \"standard\", \n",
    "                  G_ref = WS_models_k['G_k0'][k0],\n",
    "                  G = WS_models_k['G_k'])"
   ]
  },
  {
   "cell_type": "code",
   "execution_count": 6,
   "metadata": {},
   "outputs": [
    {
     "name": "stdout",
     "output_type": "stream",
     "text": [
      "Eigen-decomposition of reference model with ref param : 10 completed.\n"
     ]
    }
   ],
   "source": [
    "exp_unnormL.eigenspectrum_G_ref()\n"
   ]
  },
  {
   "cell_type": "code",
   "execution_count": 7,
   "metadata": {},
   "outputs": [
    {
     "name": "stdout",
     "output_type": "stream",
     "text": [
      "Eigen-decomposition of the 2900 models completed.\n",
      "took 412.536 minutes.\n"
     ]
    }
   ],
   "source": [
    "exp_unnormL.eigenspectrum_G()"
   ]
  },
  {
   "cell_type": "code",
   "execution_count": 8,
   "metadata": {},
   "outputs": [
    {
     "name": "stdout",
     "output_type": "stream",
     "text": [
      "The spectral distance between G(10) and G(~) is an average  of the SGD between G(10) and the 50 replicate models for the 58 generations.\n",
      "\n",
      "d(G(10), G(10)): 0.05007278746853941, took: 0.7615 minutes\n",
      "d(G(10), G(15)): 0.0511731306084315, took: 0.6483 minutes\n",
      "d(G(10), G(20)): 0.05371906803434609, took: 0.6248 minutes\n",
      "d(G(10), G(25)): 0.054570587325818085, took: 0.6292 minutes\n",
      "d(G(10), G(30)): 0.055156736025752245, took: 0.634 minutes\n",
      "d(G(10), G(35)): 0.05534152109273816, took: 0.6256 minutes\n",
      "d(G(10), G(40)): 0.0557712927118902, took: 0.6519 minutes\n",
      "d(G(10), G(45)): 0.05616097427929043, took: 0.6215 minutes\n",
      "d(G(10), G(50)): 0.05662086115031657, took: 0.6448 minutes\n",
      "d(G(10), G(55)): 0.05696843249492657, took: 0.6386 minutes\n",
      "d(G(10), G(60)): 0.05654973110137187, took: 0.6282 minutes\n",
      "d(G(10), G(65)): 0.05716385435159592, took: 0.6192 minutes\n",
      "d(G(10), G(70)): 0.057306260411171456, took: 0.6156 minutes\n",
      "d(G(10), G(75)): 0.0575336699312957, took: 0.6155 minutes\n",
      "d(G(10), G(80)): 0.057476971110149516, took: 0.6133 minutes\n",
      "d(G(10), G(85)): 0.057204750503370524, took: 0.6235 minutes\n",
      "d(G(10), G(90)): 0.05738462074441065, took: 0.6208 minutes\n",
      "d(G(10), G(95)): 0.05773004237652417, took: 0.6123 minutes\n",
      "d(G(10), G(100)): 0.05793030247766124, took: 0.6183 minutes\n",
      "d(G(10), G(105)): 0.05763744879172265, took: 0.6187 minutes\n",
      "d(G(10), G(110)): 0.0570587399599758, took: 0.6166 minutes\n",
      "d(G(10), G(115)): 0.05717990150554371, took: 0.6235 minutes\n",
      "d(G(10), G(120)): 0.05804705044380496, took: 0.6334 minutes\n",
      "d(G(10), G(125)): 0.05738075937844523, took: 0.625 minutes\n",
      "d(G(10), G(130)): 0.05732263473752055, took: 0.6193 minutes\n",
      "d(G(10), G(135)): 0.05705572443696246, took: 0.6177 minutes\n",
      "d(G(10), G(140)): 0.05723294054297822, took: 0.6205 minutes\n",
      "d(G(10), G(145)): 0.05696970844952318, took: 0.6224 minutes\n",
      "d(G(10), G(150)): 0.057713013512784885, took: 0.6225 minutes\n",
      "d(G(10), G(155)): 0.05750492023272009, took: 0.6149 minutes\n",
      "d(G(10), G(160)): 0.0570626201680829, took: 0.625 minutes\n",
      "d(G(10), G(165)): 0.05739795283719335, took: 0.618 minutes\n",
      "d(G(10), G(170)): 0.05755917956369748, took: 0.6498 minutes\n",
      "d(G(10), G(175)): 0.057574357181464156, took: 0.6628 minutes\n",
      "d(G(10), G(180)): 0.05768678833481584, took: 0.6454 minutes\n",
      "d(G(10), G(185)): 0.05704910766874848, took: 0.619 minutes\n",
      "d(G(10), G(190)): 0.05721733918465912, took: 0.63 minutes\n",
      "d(G(10), G(195)): 0.057051775315905856, took: 0.6189 minutes\n",
      "d(G(10), G(200)): 0.05745174708868186, took: 0.6264 minutes\n",
      "d(G(10), G(205)): 0.058132683660771074, took: 0.6235 minutes\n",
      "d(G(10), G(210)): 0.057860038697587414, took: 0.6308 minutes\n",
      "d(G(10), G(215)): 0.057665989843621396, took: 0.6062 minutes\n",
      "d(G(10), G(220)): 0.05787453449555913, took: 0.6001 minutes\n",
      "d(G(10), G(225)): 0.05743956909183581, took: 0.5854 minutes\n",
      "d(G(10), G(230)): 0.057809869045302095, took: 0.5917 minutes\n",
      "d(G(10), G(235)): 0.05734828355170909, took: 0.5924 minutes\n",
      "d(G(10), G(240)): 0.057134650633069356, took: 0.5982 minutes\n",
      "d(G(10), G(245)): 0.057651497734344435, took: 0.5743 minutes\n",
      "d(G(10), G(250)): 0.05801774406163445, took: 0.5947 minutes\n",
      "d(G(10), G(255)): 0.05785470816546103, took: 0.5881 minutes\n",
      "d(G(10), G(260)): 0.05796368099388051, took: 0.583 minutes\n",
      "d(G(10), G(265)): 0.057380597152206676, took: 0.5781 minutes\n",
      "d(G(10), G(270)): 0.05769215381214507, took: 0.5741 minutes\n",
      "d(G(10), G(275)): 0.05805008816817549, took: 0.5645 minutes\n",
      "d(G(10), G(280)): 0.0593592985368015, took: 0.5602 minutes\n",
      "d(G(10), G(285)): 0.06061976976589392, took: 0.5592 minutes\n",
      "d(G(10), G(290)): 0.06352462992704129, took: 0.5594 minutes\n",
      "d(G(10), G(295)): 0.06966624151456517, took: 0.5515 minutes\n",
      "\n",
      "Process took 35.692466882864636 minutes with an average of 0.615378963878785 per generation\n"
     ]
    }
   ],
   "source": [
    "exp_unnormL.fit_SGD()"
   ]
  },
  {
   "cell_type": "code",
   "execution_count": 9,
   "metadata": {},
   "outputs": [],
   "source": [
    "exp_sgd_dic = {}\n",
    "exp_sgd_dic[k0] = exp_unnormL.rep_sgd"
   ]
  },
  {
   "cell_type": "code",
   "execution_count": 10,
   "metadata": {},
   "outputs": [
    {
     "name": "stdout",
     "output_type": "stream",
     "text": [
      "Eigen-decomposition of reference model with ref param : 40 completed.\n"
     ]
    }
   ],
   "source": [
    "new_ref = k0_list[1]\n",
    "\n",
    "exp_unnormL.reset_G_ref(new_ref, WS_models_k['G_k0'][new_ref])\n",
    "exp_unnormL.eigenspectrum_G_ref()"
   ]
  },
  {
   "cell_type": "code",
   "execution_count": 11,
   "metadata": {},
   "outputs": [
    {
     "name": "stdout",
     "output_type": "stream",
     "text": [
      "The spectral distance between G(40) and G(~) is an average  of the SGD between G(40) and the 50 replicate models for the 58 generations.\n",
      "\n",
      "d(G(40), G(10)): 0.05757888887607088, took: 0.5644 minutes\n",
      "d(G(40), G(15)): 0.05605162556579528, took: 0.5507 minutes\n",
      "d(G(40), G(20)): 0.05346415924204805, took: 0.5553 minutes\n",
      "d(G(40), G(25)): 0.05116259457334929, took: 0.547 minutes\n",
      "d(G(40), G(30)): 0.04943017801469196, took: 0.5434 minutes\n",
      "d(G(40), G(35)): 0.04878047654948494, took: 0.5385 minutes\n",
      "d(G(40), G(40)): 0.04817383302891327, took: 0.537 minutes\n",
      "d(G(40), G(45)): 0.04826392553499601, took: 0.5404 minutes\n",
      "d(G(40), G(50)): 0.04879561018256133, took: 0.5403 minutes\n",
      "d(G(40), G(55)): 0.049201830785722774, took: 0.5529 minutes\n",
      "d(G(40), G(60)): 0.04959026486438882, took: 0.5435 minutes\n",
      "d(G(40), G(65)): 0.0494626026182439, took: 0.5391 minutes\n",
      "d(G(40), G(70)): 0.0501678471928183, took: 0.5403 minutes\n",
      "d(G(40), G(75)): 0.05057065496516099, took: 0.541 minutes\n",
      "d(G(40), G(80)): 0.05049186844133967, took: 0.5392 minutes\n",
      "d(G(40), G(85)): 0.04984939258892512, took: 0.5423 minutes\n",
      "d(G(40), G(90)): 0.050420479181717236, took: 0.5793 minutes\n",
      "d(G(40), G(95)): 0.05113792538830447, took: 0.5584 minutes\n",
      "d(G(40), G(100)): 0.05140213798981428, took: 0.5548 minutes\n",
      "d(G(40), G(105)): 0.05127111932849882, took: 0.5468 minutes\n",
      "d(G(40), G(110)): 0.05085286360007719, took: 0.5425 minutes\n",
      "d(G(40), G(115)): 0.05105515713708904, took: 0.5415 minutes\n",
      "d(G(40), G(120)): 0.051359626008040934, took: 0.5438 minutes\n",
      "d(G(40), G(125)): 0.05112436259862865, took: 0.5412 minutes\n",
      "d(G(40), G(130)): 0.051534564087775035, took: 0.542 minutes\n",
      "d(G(40), G(135)): 0.0516915907185707, took: 0.5403 minutes\n",
      "d(G(40), G(140)): 0.052440090240130265, took: 0.5416 minutes\n",
      "d(G(40), G(145)): 0.051781877281683, took: 0.5394 minutes\n",
      "d(G(40), G(150)): 0.05248545691305909, took: 0.5423 minutes\n",
      "d(G(40), G(155)): 0.052275197131765296, took: 0.5413 minutes\n",
      "d(G(40), G(160)): 0.05245623586364138, took: 0.5383 minutes\n",
      "d(G(40), G(165)): 0.05204128739364786, took: 0.5385 minutes\n",
      "d(G(40), G(170)): 0.05183459713276034, took: 0.5407 minutes\n",
      "d(G(40), G(175)): 0.05184690521513126, took: 0.543 minutes\n",
      "d(G(40), G(180)): 0.05236802448538639, took: 0.5447 minutes\n",
      "d(G(40), G(185)): 0.052065681545111896, took: 0.5555 minutes\n",
      "d(G(40), G(190)): 0.05268268244854266, took: 0.5602 minutes\n",
      "d(G(40), G(195)): 0.05226417264653779, took: 0.5551 minutes\n",
      "d(G(40), G(200)): 0.05289087681157621, took: 0.5453 minutes\n",
      "d(G(40), G(205)): 0.05303180962052958, took: 0.5465 minutes\n",
      "d(G(40), G(210)): 0.053007104839347396, took: 0.5405 minutes\n",
      "d(G(40), G(215)): 0.053159921714084034, took: 0.5396 minutes\n",
      "d(G(40), G(220)): 0.05297007567446736, took: 0.5408 minutes\n",
      "d(G(40), G(225)): 0.05331136199493259, took: 0.5299 minutes\n",
      "d(G(40), G(230)): 0.05328768326451864, took: 0.5295 minutes\n",
      "d(G(40), G(235)): 0.05299251025630752, took: 0.5293 minutes\n",
      "d(G(40), G(240)): 0.0530872600078447, took: 0.5521 minutes\n",
      "d(G(40), G(245)): 0.05373446896387327, took: 0.5433 minutes\n",
      "d(G(40), G(250)): 0.05348792801821707, took: 0.5401 minutes\n",
      "d(G(40), G(255)): 0.05371481584567927, took: 0.542 minutes\n",
      "d(G(40), G(260)): 0.0540702840598622, took: 0.5508 minutes\n",
      "d(G(40), G(265)): 0.05447928234651081, took: 0.5374 minutes\n",
      "d(G(40), G(270)): 0.0555099656009635, took: 0.5414 minutes\n",
      "d(G(40), G(275)): 0.05576701208620914, took: 0.5414 minutes\n",
      "d(G(40), G(280)): 0.05718818040390183, took: 0.5407 minutes\n",
      "d(G(40), G(285)): 0.058915296970738044, took: 0.5423 minutes\n",
      "d(G(40), G(290)): 0.06294252012110058, took: 0.5419 minutes\n",
      "d(G(40), G(295)): 0.06982389098001929, took: 0.5385 minutes\n",
      "\n",
      "Process took 31.56031669775645 minutes with an average of 0.5441379123035519 per generation\n"
     ]
    }
   ],
   "source": [
    "exp_unnormL.fit_SGD()"
   ]
  },
  {
   "cell_type": "code",
   "execution_count": 12,
   "metadata": {},
   "outputs": [],
   "source": [
    "exp_sgd_dic[new_ref] = exp_unnormL.rep_sgd"
   ]
  },
  {
   "cell_type": "code",
   "execution_count": 13,
   "metadata": {},
   "outputs": [
    {
     "name": "stdout",
     "output_type": "stream",
     "text": [
      "Eigen-decomposition of reference model with ref param : 70 completed.\n"
     ]
    }
   ],
   "source": [
    "new_ref = k0_list[2]\n",
    "exp_unnormL.reset_G_ref(new_ref, WS_models_k['G_k0'][new_ref])\n",
    "exp_unnormL.eigenspectrum_G_ref()"
   ]
  },
  {
   "cell_type": "code",
   "execution_count": 14,
   "metadata": {},
   "outputs": [
    {
     "name": "stdout",
     "output_type": "stream",
     "text": [
      "The spectral distance between G(70) and G(~) is an average  of the SGD between G(70) and the 50 replicate models for the 58 generations.\n",
      "\n",
      "d(G(70), G(10)): 0.056410547929217444, took: 0.542 minutes\n",
      "d(G(70), G(15)): 0.055993284330419175, took: 0.5416 minutes\n",
      "d(G(70), G(20)): 0.0549303927368109, took: 0.5411 minutes\n",
      "d(G(70), G(25)): 0.05312505081316223, took: 0.5381 minutes\n",
      "d(G(70), G(30)): 0.05074729340216774, took: 0.5454 minutes\n",
      "d(G(70), G(35)): 0.05011119608929564, took: 0.5418 minutes\n",
      "d(G(70), G(40)): 0.04872504307055848, took: 0.5415 minutes\n",
      "d(G(70), G(45)): 0.04884674231709493, took: 0.5399 minutes\n",
      "d(G(70), G(50)): 0.04740538843193726, took: 0.5428 minutes\n",
      "d(G(70), G(55)): 0.04728167879490817, took: 0.5378 minutes\n",
      "d(G(70), G(60)): 0.04668647400902479, took: 0.5442 minutes\n",
      "d(G(70), G(65)): 0.046430209681894, took: 0.5405 minutes\n",
      "d(G(70), G(70)): 0.046452137249845586, took: 0.5413 minutes\n",
      "d(G(70), G(75)): 0.04650529963350818, took: 0.5395 minutes\n",
      "d(G(70), G(80)): 0.04644556531278008, took: 0.5432 minutes\n",
      "d(G(70), G(85)): 0.04629488439075362, took: 0.5494 minutes\n",
      "d(G(70), G(90)): 0.046520576666047676, took: 0.551 minutes\n",
      "d(G(70), G(95)): 0.04671790087937566, took: 0.5468 minutes\n",
      "d(G(70), G(100)): 0.04692850928297268, took: 0.5434 minutes\n",
      "d(G(70), G(105)): 0.04678783682142524, took: 0.5394 minutes\n",
      "d(G(70), G(110)): 0.04666094687441329, took: 0.5309 minutes\n",
      "d(G(70), G(115)): 0.04675872458286566, took: 0.5287 minutes\n",
      "d(G(70), G(120)): 0.04704369729133107, took: 0.5316 minutes\n",
      "d(G(70), G(125)): 0.04684076016462399, took: 0.5287 minutes\n",
      "d(G(70), G(130)): 0.047378739776717714, took: 0.5314 minutes\n",
      "d(G(70), G(135)): 0.047557474801425415, took: 0.5312 minutes\n",
      "d(G(70), G(140)): 0.04801490982176901, took: 0.5291 minutes\n",
      "d(G(70), G(145)): 0.047481692346390166, took: 0.5297 minutes\n",
      "d(G(70), G(150)): 0.047803674063250645, took: 0.5275 minutes\n",
      "d(G(70), G(155)): 0.047646275960150815, took: 0.5308 minutes\n",
      "d(G(70), G(160)): 0.047738279551957315, took: 0.5291 minutes\n",
      "d(G(70), G(165)): 0.04748204799593245, took: 0.5327 minutes\n",
      "d(G(70), G(170)): 0.04757809384826909, took: 0.5294 minutes\n",
      "d(G(70), G(175)): 0.04763685486952288, took: 0.53 minutes\n",
      "d(G(70), G(180)): 0.04768278052529987, took: 0.5353 minutes\n",
      "d(G(70), G(185)): 0.04769914124929267, took: 0.5307 minutes\n",
      "d(G(70), G(190)): 0.047760174812703234, took: 0.5293 minutes\n",
      "d(G(70), G(195)): 0.047416023427734676, took: 0.5309 minutes\n",
      "d(G(70), G(200)): 0.04801125846549455, took: 0.5302 minutes\n",
      "d(G(70), G(205)): 0.048562579283282226, took: 0.5292 minutes\n",
      "d(G(70), G(210)): 0.04859143790068294, took: 0.5289 minutes\n",
      "d(G(70), G(215)): 0.048284109794628556, took: 0.5288 minutes\n",
      "d(G(70), G(220)): 0.04827945505955013, took: 0.5341 minutes\n",
      "d(G(70), G(225)): 0.048228984057026726, took: 0.5308 minutes\n",
      "d(G(70), G(230)): 0.04859735613587037, took: 0.5299 minutes\n",
      "d(G(70), G(235)): 0.048241703260028544, took: 0.5286 minutes\n",
      "d(G(70), G(240)): 0.04851198240215802, took: 0.5288 minutes\n",
      "d(G(70), G(245)): 0.04873222164201788, took: 0.5305 minutes\n",
      "d(G(70), G(250)): 0.049388205834103846, took: 0.529 minutes\n",
      "d(G(70), G(255)): 0.049384972042260424, took: 0.5301 minutes\n",
      "d(G(70), G(260)): 0.04974189279505743, took: 0.5293 minutes\n",
      "d(G(70), G(265)): 0.0501883890516416, took: 0.5285 minutes\n",
      "d(G(70), G(270)): 0.05112116158137562, took: 0.5296 minutes\n",
      "d(G(70), G(275)): 0.05220372949832046, took: 0.53 minutes\n",
      "d(G(70), G(280)): 0.053250800145788695, took: 0.529 minutes\n",
      "d(G(70), G(285)): 0.054899694426955664, took: 0.5323 minutes\n",
      "d(G(70), G(290)): 0.05901145491587791, took: 0.5292 minutes\n",
      "d(G(70), G(295)): 0.06559094750304123, took: 0.526 minutes\n",
      "\n",
      "Process took 30.99077316522598 minutes with an average of 0.5343199216771399 per generation\n"
     ]
    }
   ],
   "source": [
    "exp_unnormL.fit_SGD()"
   ]
  },
  {
   "cell_type": "code",
   "execution_count": 15,
   "metadata": {},
   "outputs": [],
   "source": [
    "exp_sgd_dic[new_ref] = exp_unnormL.rep_sgd"
   ]
  },
  {
   "cell_type": "code",
   "execution_count": 16,
   "metadata": {},
   "outputs": [
    {
     "name": "stdout",
     "output_type": "stream",
     "text": [
      "Eigen-decomposition of reference model with ref param : 100 completed.\n"
     ]
    }
   ],
   "source": [
    "new_ref = k0_list[3]\n",
    "exp_unnormL.reset_G_ref(new_ref, WS_models_k['G_k0'][new_ref])\n",
    "exp_unnormL.eigenspectrum_G_ref()"
   ]
  },
  {
   "cell_type": "code",
   "execution_count": 17,
   "metadata": {},
   "outputs": [
    {
     "name": "stdout",
     "output_type": "stream",
     "text": [
      "The spectral distance between G(100) and G(~) is an average  of the SGD between G(100) and the 50 replicate models for the 58 generations.\n",
      "\n",
      "d(G(100), G(10)): 0.058164907869409796, took: 0.5278 minutes\n",
      "d(G(100), G(15)): 0.05803458624105707, took: 0.5265 minutes\n",
      "d(G(100), G(20)): 0.056306245830235475, took: 0.5272 minutes\n",
      "d(G(100), G(25)): 0.05513827587370884, took: 0.5268 minutes\n",
      "d(G(100), G(30)): 0.05344605725489826, took: 0.527 minutes\n",
      "d(G(100), G(35)): 0.05269527029265343, took: 0.5262 minutes\n",
      "d(G(100), G(40)): 0.05125285558428334, took: 0.5264 minutes\n",
      "d(G(100), G(45)): 0.05078521597746431, took: 0.5262 minutes\n",
      "d(G(100), G(50)): 0.049879929540430724, took: 0.5279 minutes\n",
      "d(G(100), G(55)): 0.04901675389201501, took: 0.5285 minutes\n",
      "d(G(100), G(60)): 0.049065611909626966, took: 0.5268 minutes\n",
      "d(G(100), G(65)): 0.04810391066565022, took: 0.5289 minutes\n",
      "d(G(100), G(70)): 0.04863180141670158, took: 0.5258 minutes\n",
      "d(G(100), G(75)): 0.047840266453101625, took: 0.5272 minutes\n",
      "d(G(100), G(80)): 0.04785149412386138, took: 0.5276 minutes\n",
      "d(G(100), G(85)): 0.047440642256382094, took: 0.5268 minutes\n",
      "d(G(100), G(90)): 0.04695486849317659, took: 0.5275 minutes\n",
      "d(G(100), G(95)): 0.04713181296909101, took: 0.5266 minutes\n",
      "d(G(100), G(100)): 0.04733937653296122, took: 0.5289 minutes\n",
      "d(G(100), G(105)): 0.046977441496154314, took: 0.5266 minutes\n",
      "d(G(100), G(110)): 0.04767096312266229, took: 0.5262 minutes\n",
      "d(G(100), G(115)): 0.04747167171777703, took: 0.5285 minutes\n",
      "d(G(100), G(120)): 0.04763363527122551, took: 0.5276 minutes\n",
      "d(G(100), G(125)): 0.04724880931791051, took: 0.5289 minutes\n",
      "d(G(100), G(130)): 0.04813257037970344, took: 0.5277 minutes\n",
      "d(G(100), G(135)): 0.0480999122968327, took: 0.5319 minutes\n",
      "d(G(100), G(140)): 0.04862784203528494, took: 0.5277 minutes\n",
      "d(G(100), G(145)): 0.0480162273496137, took: 0.527 minutes\n",
      "d(G(100), G(150)): 0.04816348172284432, took: 0.5271 minutes\n",
      "d(G(100), G(155)): 0.047947149945864825, took: 0.527 minutes\n",
      "d(G(100), G(160)): 0.048624774315434126, took: 0.5279 minutes\n",
      "d(G(100), G(165)): 0.048429364249454175, took: 0.5271 minutes\n",
      "d(G(100), G(170)): 0.04795001588314331, took: 0.5294 minutes\n",
      "d(G(100), G(175)): 0.04782626007364414, took: 0.5281 minutes\n",
      "d(G(100), G(180)): 0.04787173385329521, took: 0.5274 minutes\n",
      "d(G(100), G(185)): 0.04776392642790009, took: 0.5267 minutes\n",
      "d(G(100), G(190)): 0.04837727035301162, took: 0.5261 minutes\n",
      "d(G(100), G(195)): 0.04818343694433245, took: 0.5289 minutes\n",
      "d(G(100), G(200)): 0.048162507621542436, took: 0.527 minutes\n",
      "d(G(100), G(205)): 0.04825346032677619, took: 0.526 minutes\n",
      "d(G(100), G(210)): 0.04866213867367754, took: 0.527 minutes\n",
      "d(G(100), G(215)): 0.04822856837654209, took: 0.5259 minutes\n",
      "d(G(100), G(220)): 0.04885149349367786, took: 0.528 minutes\n",
      "d(G(100), G(225)): 0.048814703572369174, took: 0.5281 minutes\n",
      "d(G(100), G(230)): 0.04890014117987022, took: 0.5344 minutes\n",
      "d(G(100), G(235)): 0.04880022340362295, took: 0.5552 minutes\n",
      "d(G(100), G(240)): 0.04874354214779089, took: 0.6393 minutes\n",
      "d(G(100), G(245)): 0.049336559416573486, took: 0.5601 minutes\n",
      "d(G(100), G(250)): 0.049191933220661344, took: 0.5382 minutes\n",
      "d(G(100), G(255)): 0.049078251247050064, took: 0.5305 minutes\n",
      "d(G(100), G(260)): 0.049099408179265544, took: 0.5317 minutes\n",
      "d(G(100), G(265)): 0.05005140862714859, took: 0.5741 minutes\n",
      "d(G(100), G(270)): 0.05132727184215636, took: 0.5316 minutes\n",
      "d(G(100), G(275)): 0.051789859681705026, took: 0.5328 minutes\n",
      "d(G(100), G(280)): 0.05275777734142299, took: 0.5334 minutes\n",
      "d(G(100), G(285)): 0.0542193279776819, took: 0.5305 minutes\n",
      "d(G(100), G(290)): 0.05758175545817717, took: 0.5307 minutes\n",
      "d(G(100), G(295)): 0.06387040603357126, took: 0.5286 minutes\n",
      "\n",
      "Process took 30.857720414797466 minutes with an average of 0.5320247285667508 per generation\n"
     ]
    }
   ],
   "source": [
    "exp_unnormL.fit_SGD()"
   ]
  },
  {
   "cell_type": "code",
   "execution_count": 18,
   "metadata": {},
   "outputs": [],
   "source": [
    "exp_sgd_dic[new_ref] = exp_unnormL.rep_sgd"
   ]
  },
  {
   "cell_type": "code",
   "execution_count": 19,
   "metadata": {},
   "outputs": [
    {
     "name": "stdout",
     "output_type": "stream",
     "text": [
      "Eigen-decomposition of reference model with ref param : 130 completed.\n"
     ]
    }
   ],
   "source": [
    "new_ref = k0_list[4]\n",
    "exp_unnormL.reset_G_ref(new_ref, WS_models_k['G_k0'][new_ref])\n",
    "exp_unnormL.eigenspectrum_G_ref()"
   ]
  },
  {
   "cell_type": "code",
   "execution_count": 20,
   "metadata": {},
   "outputs": [
    {
     "name": "stdout",
     "output_type": "stream",
     "text": [
      "The spectral distance between G(130) and G(~) is an average  of the SGD between G(130) and the 50 replicate models for the 58 generations.\n",
      "\n",
      "d(G(130), G(10)): 0.05613106505782918, took: 0.5426 minutes\n",
      "d(G(130), G(15)): 0.056223036608576527, took: 0.5288 minutes\n",
      "d(G(130), G(20)): 0.05483111157841507, took: 0.5292 minutes\n",
      "d(G(130), G(25)): 0.0541031247832612, took: 0.5295 minutes\n",
      "d(G(130), G(30)): 0.05245274177814958, took: 0.5288 minutes\n",
      "d(G(130), G(35)): 0.05159245372653489, took: 0.5285 minutes\n",
      "d(G(130), G(40)): 0.050540976975157574, took: 0.5276 minutes\n",
      "d(G(130), G(45)): 0.04961911996842147, took: 0.5303 minutes\n",
      "d(G(130), G(50)): 0.048988444379108965, took: 0.5289 minutes\n",
      "d(G(130), G(55)): 0.048273025206516315, took: 0.5289 minutes\n",
      "d(G(130), G(60)): 0.04826015069075005, took: 0.528 minutes\n",
      "d(G(130), G(65)): 0.047195809194830345, took: 0.5297 minutes\n",
      "d(G(130), G(70)): 0.047307385010399765, took: 0.529 minutes\n",
      "d(G(130), G(75)): 0.046864921882193336, took: 0.5294 minutes\n",
      "d(G(130), G(80)): 0.046498583478916826, took: 0.5281 minutes\n",
      "d(G(130), G(85)): 0.046008103252297365, took: 0.5284 minutes\n",
      "d(G(130), G(90)): 0.04555278472620256, took: 0.5294 minutes\n",
      "d(G(130), G(95)): 0.04585941922752117, took: 0.5294 minutes\n",
      "d(G(130), G(100)): 0.04598043059488029, took: 0.5306 minutes\n",
      "d(G(130), G(105)): 0.04631506487946079, took: 0.5277 minutes\n",
      "d(G(130), G(110)): 0.04602896136081475, took: 0.5276 minutes\n",
      "d(G(130), G(115)): 0.04573044384554862, took: 0.5278 minutes\n",
      "d(G(130), G(120)): 0.045780804870777535, took: 0.5276 minutes\n",
      "d(G(130), G(125)): 0.04526425726806429, took: 0.5275 minutes\n",
      "d(G(130), G(130)): 0.04531628125400883, took: 0.527 minutes\n",
      "d(G(130), G(135)): 0.04544109178617953, took: 0.5282 minutes\n",
      "d(G(130), G(140)): 0.04605968094175939, took: 0.5268 minutes\n",
      "d(G(130), G(145)): 0.045568370642320985, took: 0.5288 minutes\n",
      "d(G(130), G(150)): 0.04557641838473586, took: 0.5277 minutes\n",
      "d(G(130), G(155)): 0.04513259925247493, took: 0.5415 minutes\n",
      "d(G(130), G(160)): 0.04558773879310702, took: 0.5399 minutes\n",
      "d(G(130), G(165)): 0.04584493751454511, took: 0.5372 minutes\n",
      "d(G(130), G(170)): 0.045362861053859914, took: 0.5375 minutes\n",
      "d(G(130), G(175)): 0.045829080963329306, took: 0.5385 minutes\n",
      "d(G(130), G(180)): 0.0457051414181165, took: 0.5365 minutes\n",
      "d(G(130), G(185)): 0.04555113128364949, took: 0.5373 minutes\n",
      "d(G(130), G(190)): 0.04582290946669189, took: 0.5416 minutes\n",
      "d(G(130), G(195)): 0.04552971868138391, took: 0.5389 minutes\n",
      "d(G(130), G(200)): 0.04570117302717403, took: 0.6452 minutes\n",
      "d(G(130), G(205)): 0.04593353685271082, took: 0.5858 minutes\n",
      "d(G(130), G(210)): 0.045742419728107164, took: 0.6512 minutes\n",
      "d(G(130), G(215)): 0.04538700650099587, took: 0.5517 minutes\n",
      "d(G(130), G(220)): 0.045862538058993214, took: 0.54 minutes\n",
      "d(G(130), G(225)): 0.0464742783554322, took: 0.5423 minutes\n",
      "d(G(130), G(230)): 0.04654115890983009, took: 0.5436 minutes\n",
      "d(G(130), G(235)): 0.04610608747385474, took: 0.5436 minutes\n",
      "d(G(130), G(240)): 0.04626424454699146, took: 0.5443 minutes\n",
      "d(G(130), G(245)): 0.046680884906281424, took: 0.5448 minutes\n",
      "d(G(130), G(250)): 0.04683052011239617, took: 0.5487 minutes\n",
      "d(G(130), G(255)): 0.04685984104710029, took: 0.5454 minutes\n",
      "d(G(130), G(260)): 0.04727233848528289, took: 0.5449 minutes\n",
      "d(G(130), G(265)): 0.04771281645928933, took: 0.5463 minutes\n",
      "d(G(130), G(270)): 0.04869273768822894, took: 0.5483 minutes\n",
      "d(G(130), G(275)): 0.04929577406010057, took: 0.5476 minutes\n",
      "d(G(130), G(280)): 0.05049316438877777, took: 0.5475 minutes\n",
      "d(G(130), G(285)): 0.05210946824389635, took: 0.5468 minutes\n",
      "d(G(130), G(290)): 0.05616018074868917, took: 0.5451 minutes\n",
      "d(G(130), G(295)): 0.06269583514516587, took: 0.6321 minutes\n",
      "\n",
      "Process took 31.436646620432537 minutes with an average of 0.5420057054223686 per generation\n"
     ]
    }
   ],
   "source": [
    "exp_unnormL.fit_SGD()"
   ]
  },
  {
   "cell_type": "code",
   "execution_count": 21,
   "metadata": {},
   "outputs": [],
   "source": [
    "exp_sgd_dic[new_ref] = exp_unnormL.rep_sgd"
   ]
  },
  {
   "cell_type": "code",
   "execution_count": 22,
   "metadata": {},
   "outputs": [
    {
     "name": "stdout",
     "output_type": "stream",
     "text": [
      "Eigen-decomposition of reference model with ref param : 160 completed.\n"
     ]
    }
   ],
   "source": [
    "new_ref = k0_list[5]\n",
    "exp_unnormL.reset_G_ref(new_ref, WS_models_k['G_k0'][new_ref])\n",
    "exp_unnormL.eigenspectrum_G_ref()"
   ]
  },
  {
   "cell_type": "code",
   "execution_count": 23,
   "metadata": {},
   "outputs": [
    {
     "name": "stdout",
     "output_type": "stream",
     "text": [
      "The spectral distance between G(160) and G(~) is an average  of the SGD between G(160) and the 50 replicate models for the 58 generations.\n",
      "\n",
      "d(G(160), G(10)): 0.05682056078907736, took: 0.5628 minutes\n",
      "d(G(160), G(15)): 0.05742390493977328, took: 0.5474 minutes\n",
      "d(G(160), G(20)): 0.05617639508759762, took: 0.5736 minutes\n",
      "d(G(160), G(25)): 0.05494950470929425, took: 0.6318 minutes\n",
      "d(G(160), G(30)): 0.05333240087642828, took: 0.5934 minutes\n",
      "d(G(160), G(35)): 0.05270883769302138, took: 0.605 minutes\n",
      "d(G(160), G(40)): 0.051390619184733685, took: 0.5853 minutes\n",
      "d(G(160), G(45)): 0.05039812554693835, took: 0.5525 minutes\n",
      "d(G(160), G(50)): 0.04999209774003702, took: 0.5717 minutes\n",
      "d(G(160), G(55)): 0.0497323732649927, took: 0.567 minutes\n",
      "d(G(160), G(60)): 0.04945397470867032, took: 0.5607 minutes\n",
      "d(G(160), G(65)): 0.04880130494983548, took: 0.5502 minutes\n",
      "d(G(160), G(70)): 0.04858124283572743, took: 0.5693 minutes\n",
      "d(G(160), G(75)): 0.048405987171648006, took: 0.5585 minutes\n",
      "d(G(160), G(80)): 0.04760188388424076, took: 0.6271 minutes\n",
      "d(G(160), G(85)): 0.0470406545713416, took: 0.5667 minutes\n",
      "d(G(160), G(90)): 0.046230375030863066, took: 0.5482 minutes\n",
      "d(G(160), G(95)): 0.04715284660861906, took: 0.5441 minutes\n",
      "d(G(160), G(100)): 0.04691156937783161, took: 0.589 minutes\n",
      "d(G(160), G(105)): 0.046534007897465736, took: 0.6153 minutes\n",
      "d(G(160), G(110)): 0.0460731301960312, took: 0.5725 minutes\n",
      "d(G(160), G(115)): 0.04623044050325516, took: 0.5616 minutes\n",
      "d(G(160), G(120)): 0.046944171835303125, took: 0.5945 minutes\n",
      "d(G(160), G(125)): 0.04643458119474059, took: 0.5803 minutes\n",
      "d(G(160), G(130)): 0.04601075449897815, took: 0.5774 minutes\n",
      "d(G(160), G(135)): 0.04551638395389308, took: 0.5757 minutes\n",
      "d(G(160), G(140)): 0.04550460771772447, took: 0.574 minutes\n",
      "d(G(160), G(145)): 0.045547119365678554, took: 0.5728 minutes\n",
      "d(G(160), G(150)): 0.04584661271117315, took: 0.5733 minutes\n",
      "d(G(160), G(155)): 0.04521259278088519, took: 0.559 minutes\n",
      "d(G(160), G(160)): 0.04538712818203603, took: 0.5552 minutes\n",
      "d(G(160), G(165)): 0.04603990721829364, took: 0.5623 minutes\n",
      "d(G(160), G(170)): 0.045927568847606785, took: 0.5638 minutes\n",
      "d(G(160), G(175)): 0.0462818984302627, took: 0.5568 minutes\n",
      "d(G(160), G(180)): 0.045692061456946514, took: 0.5692 minutes\n",
      "d(G(160), G(185)): 0.045199891747043405, took: 0.6107 minutes\n",
      "d(G(160), G(190)): 0.045365737834538525, took: 0.7408 minutes\n",
      "d(G(160), G(195)): 0.045539247781531345, took: 0.6384 minutes\n",
      "d(G(160), G(200)): 0.04529712649772819, took: 0.6017 minutes\n",
      "d(G(160), G(205)): 0.045888034123031246, took: 0.5932 minutes\n",
      "d(G(160), G(210)): 0.04566214621923187, took: 0.5853 minutes\n",
      "d(G(160), G(215)): 0.04530569943197653, took: 0.5757 minutes\n",
      "d(G(160), G(220)): 0.045786513160582014, took: 0.5691 minutes\n",
      "d(G(160), G(225)): 0.04569006272333211, took: 0.5605 minutes\n",
      "d(G(160), G(230)): 0.0457345823699902, took: 0.5667 minutes\n",
      "d(G(160), G(235)): 0.045800841188116274, took: 0.5757 minutes\n",
      "d(G(160), G(240)): 0.0458564263450834, took: 0.5719 minutes\n",
      "d(G(160), G(245)): 0.04609873374404308, took: 0.6104 minutes\n",
      "d(G(160), G(250)): 0.04634722293804887, took: 0.5777 minutes\n",
      "d(G(160), G(255)): 0.04671038815451468, took: 0.6091 minutes\n",
      "d(G(160), G(260)): 0.04703249956296704, took: 0.5631 minutes\n",
      "d(G(160), G(265)): 0.047302238450965824, took: 0.555 minutes\n",
      "d(G(160), G(270)): 0.04857772090939579, took: 0.5501 minutes\n",
      "d(G(160), G(275)): 0.04918557143415439, took: 0.5506 minutes\n",
      "d(G(160), G(280)): 0.0502825907661435, took: 0.5532 minutes\n",
      "d(G(160), G(285)): 0.05190769015683186, took: 0.548 minutes\n",
      "d(G(160), G(290)): 0.055872438197165517, took: 0.5629 minutes\n",
      "d(G(160), G(295)): 0.06218097522489177, took: 0.5756 minutes\n",
      "\n",
      "Process took 33.51389518578847 minutes with an average of 0.5778198977996564 per generation\n"
     ]
    }
   ],
   "source": [
    "exp_unnormL.fit_SGD()"
   ]
  },
  {
   "cell_type": "code",
   "execution_count": 24,
   "metadata": {},
   "outputs": [],
   "source": [
    "exp_sgd_dic[new_ref] = exp_unnormL.rep_sgd"
   ]
  },
  {
   "cell_type": "code",
   "execution_count": 25,
   "metadata": {},
   "outputs": [
    {
     "name": "stdout",
     "output_type": "stream",
     "text": [
      "Eigen-decomposition of reference model with ref param : 190 completed.\n"
     ]
    }
   ],
   "source": [
    "new_ref = k0_list[6]\n",
    "exp_unnormL.reset_G_ref(new_ref, WS_models_k['G_k0'][new_ref])\n",
    "exp_unnormL.eigenspectrum_G_ref()"
   ]
  },
  {
   "cell_type": "code",
   "execution_count": 26,
   "metadata": {},
   "outputs": [
    {
     "name": "stdout",
     "output_type": "stream",
     "text": [
      "The spectral distance between G(190) and G(~) is an average  of the SGD between G(190) and the 50 replicate models for the 58 generations.\n",
      "\n",
      "d(G(190), G(10)): 0.05808053884100027, took: 0.5617 minutes\n",
      "d(G(190), G(15)): 0.05848811900626015, took: 0.5657 minutes\n",
      "d(G(190), G(20)): 0.05766765157998391, took: 0.568 minutes\n",
      "d(G(190), G(25)): 0.05676323560196392, took: 0.6083 minutes\n",
      "d(G(190), G(30)): 0.05501478966513469, took: 0.5826 minutes\n",
      "d(G(190), G(35)): 0.05469812287930252, took: 0.5799 minutes\n",
      "d(G(190), G(40)): 0.05338318776106919, took: 0.5669 minutes\n",
      "d(G(190), G(45)): 0.05217505978366149, took: 0.5714 minutes\n",
      "d(G(190), G(50)): 0.051525324275359025, took: 0.5696 minutes\n",
      "d(G(190), G(55)): 0.05091516689731468, took: 0.6146 minutes\n",
      "d(G(190), G(60)): 0.05032766592474148, took: 0.5713 minutes\n",
      "d(G(190), G(65)): 0.05026988721888636, took: 0.5991 minutes\n",
      "d(G(190), G(70)): 0.049778528997483446, took: 0.5789 minutes\n",
      "d(G(190), G(75)): 0.05025529797802062, took: 0.5598 minutes\n",
      "d(G(190), G(80)): 0.04931034532081747, took: 0.5761 minutes\n",
      "d(G(190), G(85)): 0.048908965721438574, took: 0.5737 minutes\n",
      "d(G(190), G(90)): 0.04840258208831246, took: 0.5994 minutes\n",
      "d(G(190), G(95)): 0.04920182419654782, took: 0.6167 minutes\n",
      "d(G(190), G(100)): 0.048812409402687544, took: 0.5907 minutes\n",
      "d(G(190), G(105)): 0.048318951985879995, took: 0.6936 minutes\n",
      "d(G(190), G(110)): 0.04755157220150364, took: 0.6315 minutes\n",
      "d(G(190), G(115)): 0.04796680047221601, took: 0.631 minutes\n",
      "d(G(190), G(120)): 0.04919426663107333, took: 0.6356 minutes\n",
      "d(G(190), G(125)): 0.048585094936375244, took: 0.6784 minutes\n",
      "d(G(190), G(130)): 0.04769258336453192, took: 0.6155 minutes\n",
      "d(G(190), G(135)): 0.047585876744625465, took: 0.5704 minutes\n",
      "d(G(190), G(140)): 0.046308616580955454, took: 0.5961 minutes\n",
      "d(G(190), G(145)): 0.045885113416729614, took: 0.6458 minutes\n",
      "d(G(190), G(150)): 0.04649006327528573, took: 0.6023 minutes\n",
      "d(G(190), G(155)): 0.046128725398345255, took: 0.5866 minutes\n",
      "d(G(190), G(160)): 0.04615189327084994, took: 0.5966 minutes\n",
      "d(G(190), G(165)): 0.04724654796297419, took: 0.625 minutes\n",
      "d(G(190), G(170)): 0.04715717262519656, took: 0.6395 minutes\n",
      "d(G(190), G(175)): 0.047152104693873466, took: 0.5902 minutes\n",
      "d(G(190), G(180)): 0.046378196551229135, took: 0.6408 minutes\n",
      "d(G(190), G(185)): 0.04611949858034368, took: 0.6494 minutes\n",
      "d(G(190), G(190)): 0.04640573473705722, took: 0.6302 minutes\n",
      "d(G(190), G(195)): 0.04574921468168502, took: 0.6012 minutes\n",
      "d(G(190), G(200)): 0.045950892734238115, took: 0.5722 minutes\n",
      "d(G(190), G(205)): 0.04641012680755084, took: 0.5769 minutes\n",
      "d(G(190), G(210)): 0.04674186013862689, took: 0.5796 minutes\n",
      "d(G(190), G(215)): 0.04664047702249235, took: 0.5694 minutes\n",
      "d(G(190), G(220)): 0.046601867459152284, took: 0.5703 minutes\n",
      "d(G(190), G(225)): 0.04620623381983788, took: 0.5921 minutes\n",
      "d(G(190), G(230)): 0.04612639224891223, took: 0.589 minutes\n",
      "d(G(190), G(235)): 0.04585150464434538, took: 0.5743 minutes\n",
      "d(G(190), G(240)): 0.04616068300120019, took: 0.565 minutes\n",
      "d(G(190), G(245)): 0.04580730697082619, took: 0.5619 minutes\n",
      "d(G(190), G(250)): 0.04669546808009473, took: 0.5861 minutes\n",
      "d(G(190), G(255)): 0.047022369866261314, took: 0.6238 minutes\n",
      "d(G(190), G(260)): 0.04743903355852806, took: 0.6771 minutes\n",
      "d(G(190), G(265)): 0.04834592492415353, took: 0.6234 minutes\n",
      "d(G(190), G(270)): 0.049864436283738156, took: 0.5902 minutes\n",
      "d(G(190), G(275)): 0.05045899009015029, took: 0.5934 minutes\n",
      "d(G(190), G(280)): 0.05140915326834362, took: 0.5734 minutes\n",
      "d(G(190), G(285)): 0.05276012011564763, took: 0.5861 minutes\n",
      "d(G(190), G(290)): 0.05666099629214532, took: 0.6527 minutes\n",
      "d(G(190), G(295)): 0.06304224300826884, took: 0.6299 minutes\n",
      "\n",
      "Process took 34.80134368340175 minutes with an average of 0.600016634286135 per generation\n"
     ]
    }
   ],
   "source": [
    "exp_unnormL.fit_SGD()"
   ]
  },
  {
   "cell_type": "code",
   "execution_count": 27,
   "metadata": {},
   "outputs": [],
   "source": [
    "exp_sgd_dic[new_ref] = exp_unnormL.rep_sgd"
   ]
  },
  {
   "cell_type": "code",
   "execution_count": 28,
   "metadata": {},
   "outputs": [
    {
     "name": "stdout",
     "output_type": "stream",
     "text": [
      "Eigen-decomposition of reference model with ref param : 220 completed.\n"
     ]
    }
   ],
   "source": [
    "new_ref = k0_list[7]\n",
    "exp_unnormL.reset_G_ref(new_ref, WS_models_k['G_k0'][new_ref])\n",
    "exp_unnormL.eigenspectrum_G_ref()"
   ]
  },
  {
   "cell_type": "code",
   "execution_count": 29,
   "metadata": {},
   "outputs": [
    {
     "name": "stdout",
     "output_type": "stream",
     "text": [
      "The spectral distance between G(220) and G(~) is an average  of the SGD between G(220) and the 50 replicate models for the 58 generations.\n",
      "\n",
      "d(G(220), G(10)): 0.05596999560847236, took: 0.7479 minutes\n",
      "d(G(220), G(15)): 0.05647737629884756, took: 0.6674 minutes\n",
      "d(G(220), G(20)): 0.0551791216365816, took: 0.7543 minutes\n",
      "d(G(220), G(25)): 0.05438398872828745, took: 0.6094 minutes\n",
      "d(G(220), G(30)): 0.05311263609128519, took: 0.6565 minutes\n",
      "d(G(220), G(35)): 0.052477126267732446, took: 0.5827 minutes\n",
      "d(G(220), G(40)): 0.05059092163608467, took: 0.5824 minutes\n",
      "d(G(220), G(45)): 0.05049623180556179, took: 0.6241 minutes\n",
      "d(G(220), G(50)): 0.049886978900290105, took: 0.6283 minutes\n",
      "d(G(220), G(55)): 0.04941018534826888, took: 0.6642 minutes\n",
      "d(G(220), G(60)): 0.04909938539993732, took: 0.6139 minutes\n",
      "d(G(220), G(65)): 0.04824484016995432, took: 0.5574 minutes\n",
      "d(G(220), G(70)): 0.04804686207866581, took: 0.5596 minutes\n",
      "d(G(220), G(75)): 0.047398299378559265, took: 0.5656 minutes\n",
      "d(G(220), G(80)): 0.047103632537393955, took: 0.5712 minutes\n",
      "d(G(220), G(85)): 0.046664666969991414, took: 0.5729 minutes\n",
      "d(G(220), G(90)): 0.045901006063189545, took: 0.6086 minutes\n",
      "d(G(220), G(95)): 0.046202868758510894, took: 0.5528 minutes\n",
      "d(G(220), G(100)): 0.046441059318860084, took: 0.5581 minutes\n",
      "d(G(220), G(105)): 0.0456770609606054, took: 0.5781 minutes\n",
      "d(G(220), G(110)): 0.04580615129045036, took: 0.5525 minutes\n",
      "d(G(220), G(115)): 0.04554482560971828, took: 0.6234 minutes\n",
      "d(G(220), G(120)): 0.04567250773364839, took: 0.5932 minutes\n",
      "d(G(220), G(125)): 0.045647703671705904, took: 0.5929 minutes\n",
      "d(G(220), G(130)): 0.04513552678767567, took: 0.6037 minutes\n",
      "d(G(220), G(135)): 0.04524776674585684, took: 0.5827 minutes\n",
      "d(G(220), G(140)): 0.044544601157602816, took: 0.5706 minutes\n",
      "d(G(220), G(145)): 0.04490271907516072, took: 0.6348 minutes\n",
      "d(G(220), G(150)): 0.044691200936196766, took: 0.6501 minutes\n",
      "d(G(220), G(155)): 0.044452955021899034, took: 0.5617 minutes\n",
      "d(G(220), G(160)): 0.04474124784560947, took: 0.6031 minutes\n",
      "d(G(220), G(165)): 0.044774902275677514, took: 0.6494 minutes\n",
      "d(G(220), G(170)): 0.04494344311725322, took: 0.6353 minutes\n",
      "d(G(220), G(175)): 0.04561491112479902, took: 0.5965 minutes\n",
      "d(G(220), G(180)): 0.0450130958222154, took: 0.5717 minutes\n",
      "d(G(220), G(185)): 0.044545286358139376, took: 0.618 minutes\n",
      "d(G(220), G(190)): 0.04427739250244052, took: 0.6144 minutes\n",
      "d(G(220), G(195)): 0.04449598732878534, took: 0.5827 minutes\n",
      "d(G(220), G(200)): 0.04413161381798949, took: 0.6051 minutes\n",
      "d(G(220), G(205)): 0.044690688083295405, took: 0.5941 minutes\n",
      "d(G(220), G(210)): 0.04463282430800079, took: 0.7223 minutes\n",
      "d(G(220), G(215)): 0.04409956719010084, took: 0.5685 minutes\n",
      "d(G(220), G(220)): 0.04431844344519576, took: 0.5836 minutes\n",
      "d(G(220), G(225)): 0.044323618549353405, took: 0.592 minutes\n",
      "d(G(220), G(230)): 0.044755280495162975, took: 0.5808 minutes\n",
      "d(G(220), G(235)): 0.04450362352627153, took: 0.5816 minutes\n",
      "d(G(220), G(240)): 0.04438685674443784, took: 0.5835 minutes\n",
      "d(G(220), G(245)): 0.0448880615807232, took: 0.582 minutes\n",
      "d(G(220), G(250)): 0.045061942613098295, took: 0.5905 minutes\n",
      "d(G(220), G(255)): 0.045530389292152994, took: 0.5649 minutes\n",
      "d(G(220), G(260)): 0.04590344519491207, took: 0.5934 minutes\n",
      "d(G(220), G(265)): 0.0457954677314353, took: 0.5994 minutes\n",
      "d(G(220), G(270)): 0.047345744728841996, took: 0.6009 minutes\n",
      "d(G(220), G(275)): 0.04770016947506375, took: 0.632 minutes\n",
      "d(G(220), G(280)): 0.049106706845968774, took: 0.5552 minutes\n",
      "d(G(220), G(285)): 0.05050106587522843, took: 0.5544 minutes\n",
      "d(G(220), G(290)): 0.054797067007076865, took: 0.5522 minutes\n",
      "d(G(220), G(295)): 0.06227268868921958, took: 0.5549 minutes\n",
      "\n",
      "Process took 34.88361614942551 minutes with an average of 0.6014366263630747 per generation\n"
     ]
    }
   ],
   "source": [
    "exp_unnormL.fit_SGD()"
   ]
  },
  {
   "cell_type": "code",
   "execution_count": 30,
   "metadata": {},
   "outputs": [],
   "source": [
    "exp_sgd_dic[new_ref] = exp_unnormL.rep_sgd"
   ]
  },
  {
   "cell_type": "code",
   "execution_count": 31,
   "metadata": {},
   "outputs": [
    {
     "name": "stdout",
     "output_type": "stream",
     "text": [
      "Eigen-decomposition of reference model with ref param : 250 completed.\n"
     ]
    }
   ],
   "source": [
    "new_ref = k0_list[8]\n",
    "exp_unnormL.reset_G_ref(new_ref, WS_models_k['G_k0'][new_ref])\n",
    "exp_unnormL.eigenspectrum_G_ref()"
   ]
  },
  {
   "cell_type": "code",
   "execution_count": 32,
   "metadata": {},
   "outputs": [
    {
     "name": "stdout",
     "output_type": "stream",
     "text": [
      "The spectral distance between G(250) and G(~) is an average  of the SGD between G(250) and the 50 replicate models for the 58 generations.\n",
      "\n",
      "d(G(250), G(10)): 0.055760423687114154, took: 0.5757 minutes\n",
      "d(G(250), G(15)): 0.05694649426420841, took: 0.6297 minutes\n",
      "d(G(250), G(20)): 0.05611285502709198, took: 0.5933 minutes\n",
      "d(G(250), G(25)): 0.05495744767623318, took: 0.5509 minutes\n",
      "d(G(250), G(30)): 0.05337818781715684, took: 0.551 minutes\n",
      "d(G(250), G(35)): 0.053098622639560694, took: 0.5485 minutes\n",
      "d(G(250), G(40)): 0.05155887964800864, took: 0.5553 minutes\n",
      "d(G(250), G(45)): 0.05129854712705928, took: 0.5506 minutes\n",
      "d(G(250), G(50)): 0.04991302371222283, took: 0.547 minutes\n",
      "d(G(250), G(55)): 0.049602887679219096, took: 0.5477 minutes\n",
      "d(G(250), G(60)): 0.04919383911122765, took: 0.5465 minutes\n",
      "d(G(250), G(65)): 0.04870048353428462, took: 0.5419 minutes\n",
      "d(G(250), G(70)): 0.04853685512062948, took: 0.5469 minutes\n",
      "d(G(250), G(75)): 0.04804146731078766, took: 0.5461 minutes\n",
      "d(G(250), G(80)): 0.0479831361720768, took: 0.5503 minutes\n",
      "d(G(250), G(85)): 0.04734362035922724, took: 0.5866 minutes\n",
      "d(G(250), G(90)): 0.04685772099135033, took: 0.5789 minutes\n",
      "d(G(250), G(95)): 0.04677453147979595, took: 0.7805 minutes\n",
      "d(G(250), G(100)): 0.04701664839511519, took: 0.9278 minutes\n",
      "d(G(250), G(105)): 0.04645452319631462, took: 0.5913 minutes\n",
      "d(G(250), G(110)): 0.04665738353860742, took: 0.5904 minutes\n",
      "d(G(250), G(115)): 0.04608147533619263, took: 0.5937 minutes\n",
      "d(G(250), G(120)): 0.047060364801363566, took: 0.7179 minutes\n",
      "d(G(250), G(125)): 0.04653125178613195, took: 0.5867 minutes\n",
      "d(G(250), G(130)): 0.04623630223914946, took: 0.5721 minutes\n",
      "d(G(250), G(135)): 0.045851980932939886, took: 0.6124 minutes\n",
      "d(G(250), G(140)): 0.044851869201718596, took: 0.5981 minutes\n",
      "d(G(250), G(145)): 0.04454532245994646, took: 0.6311 minutes\n",
      "d(G(250), G(150)): 0.04501079523771114, took: 0.6295 minutes\n",
      "d(G(250), G(155)): 0.04512272320138981, took: 0.6386 minutes\n",
      "d(G(250), G(160)): 0.045136153252133084, took: 0.6504 minutes\n",
      "d(G(250), G(165)): 0.045914481117370363, took: 0.5728 minutes\n",
      "d(G(250), G(170)): 0.04528060888406027, took: 0.5985 minutes\n",
      "d(G(250), G(175)): 0.04571589549403372, took: 0.5651 minutes\n",
      "d(G(250), G(180)): 0.04515628056210164, took: 0.5736 minutes\n",
      "d(G(250), G(185)): 0.04505413081335142, took: 0.57 minutes\n",
      "d(G(250), G(190)): 0.0446349308493946, took: 0.5729 minutes\n",
      "d(G(250), G(195)): 0.04440336667010923, took: 0.5952 minutes\n",
      "d(G(250), G(200)): 0.04458126742158718, took: 0.632 minutes\n",
      "d(G(250), G(205)): 0.04484737924445826, took: 0.7148 minutes\n",
      "d(G(250), G(210)): 0.04512988805886607, took: 0.6487 minutes\n",
      "d(G(250), G(215)): 0.04505540460194854, took: 0.6247 minutes\n",
      "d(G(250), G(220)): 0.04500648266558827, took: 0.5801 minutes\n",
      "d(G(250), G(225)): 0.044540191730393176, took: 0.5964 minutes\n",
      "d(G(250), G(230)): 0.04454338538350834, took: 0.5961 minutes\n",
      "d(G(250), G(235)): 0.04407851977068845, took: 0.5773 minutes\n",
      "d(G(250), G(240)): 0.044045258689105984, took: 0.584 minutes\n",
      "d(G(250), G(245)): 0.04413598816361856, took: 0.5852 minutes\n",
      "d(G(250), G(250)): 0.04436909352403342, took: 0.6031 minutes\n",
      "d(G(250), G(255)): 0.04475192699342102, took: 0.6137 minutes\n",
      "d(G(250), G(260)): 0.04509770500152544, took: 0.6248 minutes\n",
      "d(G(250), G(265)): 0.04521500050621298, took: 0.5874 minutes\n",
      "d(G(250), G(270)): 0.047097780351501625, took: 0.6514 minutes\n",
      "d(G(250), G(275)): 0.04749512538543652, took: 0.6025 minutes\n",
      "d(G(250), G(280)): 0.04799277336796445, took: 0.5843 minutes\n",
      "d(G(250), G(285)): 0.04997728743663963, took: 0.5856 minutes\n",
      "d(G(250), G(290)): 0.05312152146929522, took: 0.5789 minutes\n",
      "d(G(250), G(295)): 0.05957831766411157, took: 0.5886 minutes\n",
      "\n",
      "Process took 34.875644799073534 minutes with an average of 0.6012967473474041 per generation\n"
     ]
    }
   ],
   "source": [
    "exp_unnormL.fit_SGD()"
   ]
  },
  {
   "cell_type": "code",
   "execution_count": 33,
   "metadata": {},
   "outputs": [],
   "source": [
    "exp_sgd_dic[new_ref] = exp_unnormL.rep_sgd"
   ]
  },
  {
   "cell_type": "code",
   "execution_count": 34,
   "metadata": {},
   "outputs": [
    {
     "name": "stdout",
     "output_type": "stream",
     "text": [
      "Eigen-decomposition of reference model with ref param : 280 completed.\n"
     ]
    }
   ],
   "source": [
    "new_ref = k0_list[9]\n",
    "exp_unnormL.reset_G_ref(new_ref, WS_models_k['G_k0'][new_ref])\n",
    "exp_unnormL.eigenspectrum_G_ref()"
   ]
  },
  {
   "cell_type": "code",
   "execution_count": 35,
   "metadata": {},
   "outputs": [
    {
     "name": "stdout",
     "output_type": "stream",
     "text": [
      "The spectral distance between G(280) and G(~) is an average  of the SGD between G(280) and the 50 replicate models for the 58 generations.\n",
      "\n",
      "d(G(280), G(10)): 0.06062950173967164, took: 0.6265 minutes\n",
      "d(G(280), G(15)): 0.06189245392429017, took: 0.6095 minutes\n",
      "d(G(280), G(20)): 0.06129101062826439, took: 0.5995 minutes\n",
      "d(G(280), G(25)): 0.060837859853776995, took: 0.5793 minutes\n",
      "d(G(280), G(30)): 0.05969420500363669, took: 0.603 minutes\n",
      "d(G(280), G(35)): 0.05945370397757206, took: 0.5899 minutes\n",
      "d(G(280), G(40)): 0.058531078561249804, took: 0.5898 minutes\n",
      "d(G(280), G(45)): 0.05790592924389733, took: 0.614 minutes\n",
      "d(G(280), G(50)): 0.05787144706810575, took: 0.6568 minutes\n",
      "d(G(280), G(55)): 0.056802340693858734, took: 0.6448 minutes\n",
      "d(G(280), G(60)): 0.05685490507220959, took: 0.6142 minutes\n",
      "d(G(280), G(65)): 0.05603221369641708, took: 0.5721 minutes\n",
      "d(G(280), G(70)): 0.05593984111696528, took: 0.5842 minutes\n",
      "d(G(280), G(75)): 0.055715173922348746, took: 0.5654 minutes\n",
      "d(G(280), G(80)): 0.05606886567120641, took: 0.7113 minutes\n",
      "d(G(280), G(85)): 0.055148879791687325, took: 0.6308 minutes\n",
      "d(G(280), G(90)): 0.05525904344075928, took: 0.5979 minutes\n",
      "d(G(280), G(95)): 0.05502721839368283, took: 0.6283 minutes\n",
      "d(G(280), G(100)): 0.05552316358929514, took: 0.5853 minutes\n",
      "d(G(280), G(105)): 0.05440080004953307, took: 0.6002 minutes\n",
      "d(G(280), G(110)): 0.05449377303746032, took: 0.5674 minutes\n",
      "d(G(280), G(115)): 0.054705984593840996, took: 0.6412 minutes\n",
      "d(G(280), G(120)): 0.05496934299381121, took: 0.5997 minutes\n",
      "d(G(280), G(125)): 0.05450052465117837, took: 0.5996 minutes\n",
      "d(G(280), G(130)): 0.05395567985837091, took: 0.586 minutes\n",
      "d(G(280), G(135)): 0.05413186103064031, took: 0.5913 minutes\n",
      "d(G(280), G(140)): 0.05392232454424573, took: 0.577 minutes\n",
      "d(G(280), G(145)): 0.0534378959212368, took: 0.6056 minutes\n",
      "d(G(280), G(150)): 0.053868728237639815, took: 0.6025 minutes\n",
      "d(G(280), G(155)): 0.05347661578731426, took: 0.6062 minutes\n",
      "d(G(280), G(160)): 0.05350041433567967, took: 0.6478 minutes\n",
      "d(G(280), G(165)): 0.05329836660751044, took: 0.5946 minutes\n",
      "d(G(280), G(170)): 0.05317785198531965, took: 0.5812 minutes\n",
      "d(G(280), G(175)): 0.05315086749437114, took: 0.6311 minutes\n",
      "d(G(280), G(180)): 0.0538078835805997, took: 0.6131 minutes\n",
      "d(G(280), G(185)): 0.053301595731903156, took: 0.6122 minutes\n",
      "d(G(280), G(190)): 0.0534674338157197, took: 0.6012 minutes\n",
      "d(G(280), G(195)): 0.05324792874600652, took: 0.5807 minutes\n",
      "d(G(280), G(200)): 0.05323137724659168, took: 0.5841 minutes\n",
      "d(G(280), G(205)): 0.05321675211010932, took: 0.5584 minutes\n",
      "d(G(280), G(210)): 0.05336945782705415, took: 0.5686 minutes\n",
      "d(G(280), G(215)): 0.05347133837024944, took: 0.5619 minutes\n",
      "d(G(280), G(220)): 0.05294584110536395, took: 0.5566 minutes\n",
      "d(G(280), G(225)): 0.05339181061965147, took: 0.559 minutes\n",
      "d(G(280), G(230)): 0.05271101492732752, took: 0.576 minutes\n",
      "d(G(280), G(235)): 0.05276995659206874, took: 0.5539 minutes\n",
      "d(G(280), G(240)): 0.0528461413448873, took: 0.5568 minutes\n",
      "d(G(280), G(245)): 0.052547785055545644, took: 0.5563 minutes\n",
      "d(G(280), G(250)): 0.05263043780354657, took: 0.5659 minutes\n",
      "d(G(280), G(255)): 0.052300243383529364, took: 0.5519 minutes\n",
      "d(G(280), G(260)): 0.05141187298183163, took: 0.5488 minutes\n",
      "d(G(280), G(265)): 0.05110090731840871, took: 0.5462 minutes\n",
      "d(G(280), G(270)): 0.05014816236995693, took: 0.5859 minutes\n",
      "d(G(280), G(275)): 0.04957271951996022, took: 0.6583 minutes\n",
      "d(G(280), G(280)): 0.04992409591105514, took: 0.5575 minutes\n",
      "d(G(280), G(285)): 0.04989300361744644, took: 0.5412 minutes\n",
      "d(G(280), G(290)): 0.051778512150858706, took: 0.5415 minutes\n",
      "d(G(280), G(295)): 0.05702529384238799, took: 0.5447 minutes\n",
      "\n",
      "Process took 34.31500848531723 minutes with an average of 0.5916329698315982 per generation\n"
     ]
    }
   ],
   "source": [
    "exp_unnormL.fit_SGD()"
   ]
  },
  {
   "cell_type": "code",
   "execution_count": 36,
   "metadata": {},
   "outputs": [],
   "source": [
    "exp_sgd_dic[new_ref] = exp_unnormL.rep_sgd"
   ]
  },
  {
   "cell_type": "code",
   "execution_count": 37,
   "metadata": {},
   "outputs": [],
   "source": [
    "mean_dic = {}\n",
    "std_dic = {}\n",
    "A_dic_ref = {}\n",
    "for key, value in exp_sgd_dic.items():\n",
    "    A_dic_ref[key] = (nx.adjacency_matrix(WS_models_k['G_k0'][key])).todense()\n",
    "    mean_dic[key] = [np.mean(value[i]) for i in exp_unnormL.keys]\n",
    "    std_dic[key] = [np.std(value[i]) for i in exp_unnormL.keys]"
   ]
  },
  {
   "cell_type": "code",
   "execution_count": 38,
   "metadata": {},
   "outputs": [],
   "source": [
    "Hamming_dist_dic = {}\n",
    "Hamming_dist_avg_dic = {}\n",
    "for key, A_p0 in A_dic_ref.items():\n",
    "    Hamming_dist_dic[key] = f.hamming_dist_models(A_p0, exp_unnormL.A_dic_G, 50)\n",
    "    Hamming_dist_avg_dic[key] = [np.mean(Hamming_dist_dic[key][k]) for k in exp_unnormL.keys]"
   ]
  },
  {
   "cell_type": "code",
   "execution_count": 39,
   "metadata": {},
   "outputs": [],
   "source": [
    "Results181120 = {}\n",
    "Results181120['mean_dist'] = mean_dic\n",
    "Results181120['std_dist'] = std_dic\n",
    "Results181120['hamming_dist'] = Hamming_dist_dic\n",
    "Results181120['hamming_dist_avg'] = Hamming_dist_avg_dic"
   ]
  },
  {
   "cell_type": "code",
   "execution_count": 40,
   "metadata": {},
   "outputs": [],
   "source": [
    "# import pickle\n",
    "\n",
    "# with open('18112020exp_sgd_dic-fixedp01.json', 'wb') as t:\n",
    "#     pickle.dump(exp_sgd_dic, t)\n",
    "# with open('18112020eigenv-fixedp01.json', 'wb') as t:\n",
    "#     pickle.dump(exp_unnormL.sort_eigenv_dic, t)\n",
    "# with open('02-Results/181120Results-fixedp01.json', 'wb') as t:\n",
    "#     pickle.dump(Results181120, t)"
   ]
  },
  {
   "cell_type": "markdown",
   "metadata": {},
   "source": [
    "## Spectral Graph Distance"
   ]
  },
  {
   "cell_type": "code",
   "execution_count": 41,
   "metadata": {
    "scrolled": false
   },
   "outputs": [
    {
     "data": {
      "image/png": "[encoded data removed]",
      "text/plain": [
       "<Figure size 936x648 with 10 Axes>"
      ]
     },
     "metadata": {
      "needs_background": "light"
     },
     "output_type": "display_data"
    }
   ],
   "source": [
    "k0_list = list(exp_sgd_dic.keys())\n",
    "k_list = list(exp_sgd_dic[k0_list[0]].keys())\n",
    "fig = plt.figure(figsize=(13, 9))\n",
    "for i in range(10):\n",
    "    k0 = k0_list[i]\n",
    "    plt.subplot(4, 3, i+1)\n",
    "    plt.tight_layout()\n",
    "    plt.title(r'$k_0$ = ' + str(k0))\n",
    "    plt.xlabel('k')\n",
    "    plt.ylabel('Spectral graph distance.')\n",
    "    plt.plot(exp_unnormL.keys, mean_dic[k0], '-o', color = 'red')\n",
    "    plt.plot(k_list[np.argmin(mean_dic[k0])], np.min(mean_dic[k0]), 'x', color = 'blue')\n",
    "    plt.axvline(x = k0, color = 'blue', linestyle = '--', label = \"k_0 = \"+ str(k0))\n",
    "    plt.fill_between(exp_unnormL.keys, [mean_dic[k0][i] - std_dic[k0][i] for i in range(len(mean_dic[k0]))],\n",
    "                     [mean_dic[k0][i] + std_dic[k0][i] for i in range(len(std_dic[k0]))], \n",
    "                     color = 'lightgrey')\n"
   ]
  },
  {
   "cell_type": "markdown",
   "metadata": {},
   "source": [
    "## Hamming Distance"
   ]
  },
  {
   "cell_type": "code",
   "execution_count": 42,
   "metadata": {},
   "outputs": [
    {
     "data": {
      "image/png": "[encoded data removed]",
      "text/plain": [
       "<Figure size 864x576 with 10 Axes>"
      ]
     },
     "metadata": {
      "needs_background": "light"
     },
     "output_type": "display_data"
    }
   ],
   "source": [
    "p0_list = list(exp_sgd_dic.keys())\n",
    "p0=p0_list[0]\n",
    "fig = plt.figure(figsize=(12, 8))\n",
    "for i in range(10):\n",
    "    p0=p0_list[i]\n",
    "    plt.subplot(4, 3, i+1)\n",
    "    plt.tight_layout()\n",
    "    plt.title('p_0 = ' + str(p0))\n",
    "    plt.xlabel('p')\n",
    "    plt.ylabel('SGD')\n",
    "    plt.axvline(x = p0, color = 'blue', linestyle = '--', label = \"p_0 = \"+ str(p0))\n",
    "    plt.plot(exp_unnormL.keys, Hamming_dist_avg_dic[p0], '-o', color = 'red')"
   ]
  }
 ],
 "metadata": {
  "kernelspec": {
   "display_name": "Python 3",
   "language": "python",
   "name": "python3"
  },
  "language_info": {
   "codemirror_mode": {
    "name": "ipython",
    "version": 3
   },
   "file_extension": ".py",
   "mimetype": "text/x-python",
   "name": "python",
   "nbconvert_exporter": "python",
   "pygments_lexer": "ipython3",
   "version": "3.6.8"
  }
 },
 "nbformat": 4,
 "nbformat_minor": 2
}
