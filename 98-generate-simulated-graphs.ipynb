{
 "cells": [
  {
   "cell_type": "code",
   "execution_count": 1,
   "metadata": {},
   "outputs": [],
   "source": [
    "import numpy as np\n",
    "import networkx as nx\n",
    "import fun as f\n",
    "import pickle\n",
    "from collections import Counter\n",
    "from matplotlib import pyplot as plt"
   ]
  },
  {
   "cell_type": "code",
   "execution_count": null,
   "metadata": {},
   "outputs": [],
   "source": [
    "## Generate and dump WS models\n",
    "# Guaranty condition for a connected graph:\n",
    "## N >> k >> ln(N) >> 1 "
   ]
  },
  {
   "cell_type": "code",
   "execution_count": null,
   "metadata": {},
   "outputs": [],
   "source": [
    "# Fixed P and N:"
   ]
  },
  {
   "cell_type": "code",
   "execution_count": 2,
   "metadata": {},
   "outputs": [],
   "source": [
    "n = 300\n",
    "replicates = 50\n",
    "k0_list = np.arange(10, n, 30)\n",
    "k_list = sorted(list(set([*k0_list, *[*np.arange(6, 10, 2) , *np.arange(10, n, 15)] ])))"
   ]
  },
  {
   "cell_type": "code",
   "execution_count": 3,
   "metadata": {},
   "outputs": [],
   "source": [
    "p = 0.05\n",
    "file_direct = \"00-Graphs/011220WS-Graphs-fixed-p-005.json\"\n",
    "f.generate_dump_WS_models_file_fixed_p(n, p, replicates, k0_list, k_list, file_direct)"
   ]
  },
  {
   "cell_type": "code",
   "execution_count": 3,
   "metadata": {},
   "outputs": [],
   "source": [
    "p = 0.1\n",
    "file_direct = \"00-Graphs/011220WS-Graphs-fixed-p-01.json\"\n",
    "f.generate_dump_WS_models_file_fixed_p(n, p, replicates, k0_list, k_list, file_direct)"
   ]
  },
  {
   "cell_type": "code",
   "execution_count": 4,
   "metadata": {},
   "outputs": [],
   "source": [
    "p = 0.5\n",
    "file_direct = \"00-Graphs/011220WS-Graphs-fixed-p-05.json\"\n",
    "f.generate_dump_WS_models_file_fixed_p(n, p, replicates, k0_list, k_list, file_direct)\n"
   ]
  },
  {
   "cell_type": "code",
   "execution_count": 5,
   "metadata": {},
   "outputs": [],
   "source": [
    "p = 0.9\n",
    "file_direct = \"00-Graphs/011220WS-Graphs-fixed-p-09.json\"\n",
    "f.generate_dump_WS_models_file_fixed_p(n, p, replicates, k0_list, k_list, file_direct)"
   ]
  },
  {
   "cell_type": "code",
   "execution_count": null,
   "metadata": {},
   "outputs": [],
   "source": [
    "# Fixed K and N:"
   ]
  },
  {
   "cell_type": "code",
   "execution_count": 2,
   "metadata": {},
   "outputs": [],
   "source": [
    "p0_list = np.round(np.arange(0.1, 1, 0.1).tolist(), 3)\n",
    "p_list = np.round(np.arange(0.02, 1.02, 0.02).tolist(), 3)"
   ]
  },
  {
   "cell_type": "code",
   "execution_count": 3,
   "metadata": {},
   "outputs": [],
   "source": [
    "n = 300\n",
    "replicates = 50\n",
    "k = 10\n",
    "file_direct = \"00-Graphs/011220WS-Graphs-fixed-k-10.json\"\n",
    "f.generate_dump_WS_models_file_fixed_k(n, k, replicates, p0_list, p_list, file_direct)"
   ]
  },
  {
   "cell_type": "code",
   "execution_count": null,
   "metadata": {},
   "outputs": [],
   "source": [
    "## Generate and dump ER models"
   ]
  },
  {
   "cell_type": "code",
   "execution_count": null,
   "metadata": {},
   "outputs": [],
   "source": [
    "n = 150\n",
    "replicates = 50\n",
    "p0_list = np.round(np.arange(0.1, 1, 0.1).tolist(), 3)\n",
    "p_list = np.round(np.arange(0.02, 1, 0.02).tolist(), 3)\n",
    "filedirect = \"00-Graphs/011220ER-Graphs-fixed-n-150.json\"\n",
    "f.generate_dump_ER_models_fixed_n(p_list, p0_list, replicates, n, filedirect)"
   ]
  }
 ],
 "metadata": {
  "kernelspec": {
   "display_name": "Python 3",
   "language": "python",
   "name": "python3"
  },
  "language_info": {
   "codemirror_mode": {
    "name": "ipython",
    "version": 3
   },
   "file_extension": ".py",
   "mimetype": "text/x-python",
   "name": "python",
   "nbconvert_exporter": "python",
   "pygments_lexer": "ipython3",
   "version": "3.6.8"
  }
 },
 "nbformat": 4,
 "nbformat_minor": 2
}
