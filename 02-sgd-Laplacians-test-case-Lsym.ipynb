{
 "cells": [
  {
   "cell_type": "code",
   "execution_count": 1,
   "metadata": {},
   "outputs": [],
   "source": [
    "import numpy as np\n",
    "import networkx as nx\n",
    "from scipy.integrate import quad\n",
    "import scipy.linalg as la\n",
    "from matplotlib import pyplot as plt\n",
    "import fun as f\n",
    "import random, time, math, json\n",
    "from collections import Counter\n",
    "from SGD import SGD_WSmodels"
   ]
  },
  {
   "cell_type": "code",
   "execution_count": 2,
   "metadata": {},
   "outputs": [],
   "source": [
    "exp_sgd_dic = {}\n",
    "readWSmodels = nx.read_gpickle(\"081120_WS_models.json\")"
   ]
  },
  {
   "cell_type": "code",
   "execution_count": 3,
   "metadata": {},
   "outputs": [],
   "source": [
    "exp_unnormLsym = SGD_WSmodels(p0 = 0.1,\n",
    "                              G_p0 = readWSmodels['G_p0'][0.1],\n",
    "                              G_p = readWSmodels['G_p'],\n",
    "                              k = 10,\n",
    "                              solve = \"generalized\")"
   ]
  },
  {
   "cell_type": "code",
   "execution_count": 4,
   "metadata": {},
   "outputs": [
    {
     "name": "stdout",
     "output_type": "stream",
     "text": [
      "Eigen-decomposition of reference model with rewiring prob p : 0.1 completed.\n"
     ]
    }
   ],
   "source": [
    "exp_unnormLsym.eigenspectrum_G_p0()\n"
   ]
  },
  {
   "cell_type": "code",
   "execution_count": 5,
   "metadata": {},
   "outputs": [
    {
     "name": "stdout",
     "output_type": "stream",
     "text": [
      "Eigen-decomposition of the 5000 WS models completed.\n",
      "took 13.47 minutes.\n"
     ]
    }
   ],
   "source": [
    "exp_unnormLsym.eigenspectrum_G_p()"
   ]
  },
  {
   "cell_type": "markdown",
   "metadata": {},
   "source": [
    "## SGD between G(0.1) and G(p)"
   ]
  },
  {
   "cell_type": "code",
   "execution_count": 6,
   "metadata": {},
   "outputs": [
    {
     "name": "stdout",
     "output_type": "stream",
     "text": [
      "The spectral distance between G(0.1) and G(p) is an average  of the SGD between G(0.1) and the 100 replicate models generated per each of the 50 rewiring probability.\n",
      "\n",
      "d(G(0.1), G(0.02)): 0.045940809937089266, took: 2.5405 minutes\n",
      "d(G(0.1), G(0.04)): 0.04299902776968222, took: 2.5564 minutes\n",
      "d(G(0.1), G(0.06)): 0.04155358043676147, took: 2.5381 minutes\n",
      "d(G(0.1), G(0.08)): 0.040749679529870846, took: 2.5336 minutes\n",
      "d(G(0.1), G(0.1)): 0.04067853571704211, took: 2.6654 minutes\n",
      "d(G(0.1), G(0.12)): 0.040548885502112525, took: 2.539 minutes\n",
      "d(G(0.1), G(0.14)): 0.040780321238661085, took: 2.5192 minutes\n",
      "d(G(0.1), G(0.16)): 0.0411803742828435, took: 2.5472 minutes\n",
      "d(G(0.1), G(0.18)): 0.04116965214374723, took: 98.8936 minutes\n",
      "d(G(0.1), G(0.2)): 0.041579132402846414, took: 2.5579 minutes\n",
      "d(G(0.1), G(0.22)): 0.04143371536747001, took: 2.5514 minutes\n",
      "d(G(0.1), G(0.24)): 0.04181675865492674, took: 2.635 minutes\n",
      "d(G(0.1), G(0.26)): 0.04183225179165749, took: 2.7665 minutes\n",
      "d(G(0.1), G(0.28)): 0.042172060894285046, took: 2.524 minutes\n",
      "d(G(0.1), G(0.3)): 0.04223732967286317, took: 2.6007 minutes\n",
      "d(G(0.1), G(0.32)): 0.04239005609882626, took: 2.7959 minutes\n",
      "d(G(0.1), G(0.34)): 0.042357537168255674, took: 2.8082 minutes\n",
      "d(G(0.1), G(0.36)): 0.042536070201258554, took: 2.7794 minutes\n",
      "d(G(0.1), G(0.38)): 0.04266950877924561, took: 2.7185 minutes\n",
      "d(G(0.1), G(0.4)): 0.04265065011247602, took: 2.8434 minutes\n",
      "d(G(0.1), G(0.42)): 0.04276414761758364, took: 2.6338 minutes\n",
      "d(G(0.1), G(0.44)): 0.0426251862481884, took: 2.7804 minutes\n",
      "d(G(0.1), G(0.46)): 0.04277399137063481, took: 2.7716 minutes\n",
      "d(G(0.1), G(0.48)): 0.042764933885091005, took: 2.7154 minutes\n",
      "d(G(0.1), G(0.5)): 0.0428146885689964, took: 2.6817 minutes\n",
      "d(G(0.1), G(0.52)): 0.04283665264635161, took: 2.693 minutes\n",
      "d(G(0.1), G(0.54)): 0.042627056537704586, took: 2.7085 minutes\n",
      "d(G(0.1), G(0.56)): 0.04285287503375889, took: 2.7076 minutes\n",
      "d(G(0.1), G(0.58)): 0.04261567996359192, took: 2.7924 minutes\n",
      "d(G(0.1), G(0.6)): 0.04241679155602752, took: 2.3546 minutes\n",
      "d(G(0.1), G(0.62)): 0.042717838433068166, took: 2.5815 minutes\n",
      "d(G(0.1), G(0.64)): 0.042800366221874435, took: 2.5445 minutes\n",
      "d(G(0.1), G(0.66)): 0.04273959951003764, took: 2.5468 minutes\n",
      "d(G(0.1), G(0.68)): 0.042779808699770244, took: 2.5535 minutes\n",
      "d(G(0.1), G(0.7)): 0.04275415691862374, took: 2.5839 minutes\n",
      "d(G(0.1), G(0.72)): 0.04267174196684648, took: 2.6052 minutes\n",
      "d(G(0.1), G(0.74)): 0.042901653878230646, took: 2.4491 minutes\n",
      "d(G(0.1), G(0.76)): 0.04279412616520059, took: 2.4992 minutes\n",
      "d(G(0.1), G(0.78)): 0.04278296627455232, took: 2.4251 minutes\n",
      "d(G(0.1), G(0.8)): 0.04275243154534895, took: 2.4315 minutes\n",
      "d(G(0.1), G(0.82)): 0.04300152885693052, took: 2.525 minutes\n",
      "d(G(0.1), G(0.84)): 0.042768011718015086, took: 2.4552 minutes\n",
      "d(G(0.1), G(0.86)): 0.04293509947403143, took: 2.4362 minutes\n",
      "d(G(0.1), G(0.88)): 0.04291153879894385, took: 2.4783 minutes\n",
      "d(G(0.1), G(0.9)): 0.04267274117677044, took: 2.4743 minutes\n",
      "d(G(0.1), G(0.92)): 0.04298334380708923, took: 2.4375 minutes\n",
      "d(G(0.1), G(0.94)): 0.0428058291691019, took: 2.514 minutes\n",
      "d(G(0.1), G(0.96)): 0.04271103829742054, took: 2.4801 minutes\n",
      "d(G(0.1), G(0.98)): 0.04302204394919453, took: 2.49 minutes\n",
      "d(G(0.1), G(1.0)): 0.04271658377579924, took: 2.4526 minutes\n",
      "\n",
      "Process took 225.71713114976882 minutes with an average of 4.514322844107946 per p\n"
     ]
    }
   ],
   "source": [
    "exp_unnormLsym.fit_SGD()"
   ]
  },
  {
   "cell_type": "code",
   "execution_count": 8,
   "metadata": {},
   "outputs": [],
   "source": [
    "exp_sgd_dic[0.1] = exp_unnormLsym.rep_sgd"
   ]
  },
  {
   "cell_type": "markdown",
   "metadata": {},
   "source": [
    "## SGD between G(0.2) and G(p)"
   ]
  },
  {
   "cell_type": "code",
   "execution_count": 9,
   "metadata": {},
   "outputs": [],
   "source": [
    "exp_unnormLsym.reset_G_p0(new_p0 = 0.2, new_G_p0 = readWSmodels['G_p0'][0.2])"
   ]
  },
  {
   "cell_type": "code",
   "execution_count": 10,
   "metadata": {},
   "outputs": [
    {
     "name": "stdout",
     "output_type": "stream",
     "text": [
      "Eigen-decomposition of reference model with rewiring prob p : 0.2 completed.\n"
     ]
    }
   ],
   "source": [
    "exp_unnormLsym.eigenspectrum_G_p0()"
   ]
  },
  {
   "cell_type": "code",
   "execution_count": 12,
   "metadata": {},
   "outputs": [
    {
     "name": "stdout",
     "output_type": "stream",
     "text": [
      "The spectral distance between G(0.2) and G(p) is an average  of the SGD between G(0.2) and the 100 replicate models generated per each of the 50 rewiring probability.\n",
      "\n",
      "d(G(0.2), G(0.02)): 0.050616335753215856, took: 2.3784 minutes\n",
      "d(G(0.2), G(0.04)): 0.047262079787930816, took: 2.3673 minutes\n",
      "d(G(0.2), G(0.06)): 0.04547576865260812, took: 2.4971 minutes\n",
      "d(G(0.2), G(0.08)): 0.04410345933472762, took: 2.5207 minutes\n",
      "d(G(0.2), G(0.1)): 0.04328822307758859, took: 2.337 minutes\n",
      "d(G(0.2), G(0.12)): 0.04282043239747526, took: 2.3857 minutes\n",
      "d(G(0.2), G(0.14)): 0.04251139399676828, took: 2.4179 minutes\n",
      "d(G(0.2), G(0.16)): 0.042601881665838205, took: 2.4756 minutes\n",
      "d(G(0.2), G(0.18)): 0.042482000469212904, took: 2.536 minutes\n",
      "d(G(0.2), G(0.2)): 0.04253156118692731, took: 2.2718 minutes\n",
      "d(G(0.2), G(0.22)): 0.04222551122106032, took: 2.2857 minutes\n",
      "d(G(0.2), G(0.24)): 0.04237007294617192, took: 2.2535 minutes\n",
      "d(G(0.2), G(0.26)): 0.04233669305119373, took: 2.3558 minutes\n",
      "d(G(0.2), G(0.28)): 0.04246455518757206, took: 2.3081 minutes\n",
      "d(G(0.2), G(0.3)): 0.04243097186125611, took: 2.2887 minutes\n",
      "d(G(0.2), G(0.32)): 0.04251066756809999, took: 2.2978 minutes\n",
      "d(G(0.2), G(0.34)): 0.04251598163349676, took: 2.3141 minutes\n",
      "d(G(0.2), G(0.36)): 0.04267909570680399, took: 2.3069 minutes\n",
      "d(G(0.2), G(0.38)): 0.04258874432820076, took: 2.2897 minutes\n",
      "d(G(0.2), G(0.4)): 0.04276216820776921, took: 2.3032 minutes\n",
      "d(G(0.2), G(0.42)): 0.042643397327579616, took: 2.3234 minutes\n",
      "d(G(0.2), G(0.44)): 0.04279828776078611, took: 14.7877 minutes\n",
      "d(G(0.2), G(0.46)): 0.04291103674427585, took: 2.3345 minutes\n",
      "d(G(0.2), G(0.48)): 0.04281250646514752, took: 2.2784 minutes\n",
      "d(G(0.2), G(0.5)): 0.04278272177475802, took: 2.2966 minutes\n",
      "d(G(0.2), G(0.52)): 0.04273085291107473, took: 2.2553 minutes\n",
      "d(G(0.2), G(0.54)): 0.04243582248765826, took: 2.2848 minutes\n",
      "d(G(0.2), G(0.56)): 0.042698556861834255, took: 2.2676 minutes\n",
      "d(G(0.2), G(0.58)): 0.04274633451796286, took: 2.2908 minutes\n",
      "d(G(0.2), G(0.6)): 0.042504177625324886, took: 2.281 minutes\n",
      "d(G(0.2), G(0.62)): 0.042618225645888436, took: 2.3072 minutes\n",
      "d(G(0.2), G(0.64)): 0.04273188185713896, took: 2.3032 minutes\n",
      "d(G(0.2), G(0.66)): 0.04275221471886295, took: 2.3068 minutes\n",
      "d(G(0.2), G(0.68)): 0.04272873967397584, took: 2.2985 minutes\n",
      "d(G(0.2), G(0.7)): 0.0427964438527248, took: 2.3626 minutes\n",
      "d(G(0.2), G(0.72)): 0.04268073892660601, took: 2.3266 minutes\n",
      "d(G(0.2), G(0.74)): 0.04301144065083379, took: 2.3195 minutes\n",
      "d(G(0.2), G(0.76)): 0.04294424364137533, took: 2.2785 minutes\n",
      "d(G(0.2), G(0.78)): 0.042818999071574125, took: 2.2971 minutes\n",
      "d(G(0.2), G(0.8)): 0.04285187857498209, took: 2.2822 minutes\n",
      "d(G(0.2), G(0.82)): 0.042734833332340696, took: 2.2945 minutes\n",
      "d(G(0.2), G(0.84)): 0.042864402244310276, took: 2.2859 minutes\n",
      "d(G(0.2), G(0.86)): 0.042799767097001125, took: 2.2549 minutes\n",
      "d(G(0.2), G(0.88)): 0.04262859493144932, took: 2.2654 minutes\n",
      "d(G(0.2), G(0.9)): 0.042656192913771374, took: 2.2883 minutes\n",
      "d(G(0.2), G(0.92)): 0.04282007254237148, took: 2.2791 minutes\n",
      "d(G(0.2), G(0.94)): 0.04280228526708565, took: 2.2673 minutes\n",
      "d(G(0.2), G(0.96)): 0.04283166412473513, took: 2.2856 minutes\n",
      "d(G(0.2), G(0.98)): 0.04294442561132103, took: 2.2845 minutes\n",
      "d(G(0.2), G(1.0)): 0.042896017225089296, took: 2.294 minutes\n",
      "\n",
      "Process took 128.47346053123474 minutes with an average of 2.5694512143135073 per p\n"
     ]
    }
   ],
   "source": [
    "exp_unnormLsym.fit_SGD()"
   ]
  },
  {
   "cell_type": "code",
   "execution_count": 13,
   "metadata": {},
   "outputs": [],
   "source": [
    "exp_sgd_dic[0.2] = exp_unnormLsym.rep_sgd"
   ]
  },
  {
   "cell_type": "markdown",
   "metadata": {},
   "source": [
    "## SGD between G(0.3) and G(p)"
   ]
  },
  {
   "cell_type": "code",
   "execution_count": 14,
   "metadata": {},
   "outputs": [
    {
     "name": "stdout",
     "output_type": "stream",
     "text": [
      "Eigen-decomposition of reference model with rewiring prob p : 0.3 completed.\n"
     ]
    }
   ],
   "source": [
    "p0 = 0.3\n",
    "exp_unnormLsym.reset_G_p0(new_p0 = p0, new_G_p0 = readWSmodels['G_p0'][p0])\n",
    "exp_unnormLsym.eigenspectrum_G_p0()"
   ]
  },
  {
   "cell_type": "code",
   "execution_count": 15,
   "metadata": {},
   "outputs": [
    {
     "name": "stdout",
     "output_type": "stream",
     "text": [
      "The spectral distance between G(0.3) and G(p) is an average  of the SGD between G(0.3) and the 100 replicate models generated per each of the 50 rewiring probability.\n",
      "\n",
      "d(G(0.3), G(0.02)): 0.050958201060538603, took: 2.3362 minutes\n",
      "d(G(0.3), G(0.04)): 0.04747228677753958, took: 2.2816 minutes\n",
      "d(G(0.3), G(0.06)): 0.045420106227844495, took: 2.296 minutes\n",
      "d(G(0.3), G(0.08)): 0.04397637730742377, took: 2.3088 minutes\n",
      "d(G(0.3), G(0.1)): 0.04271389845019669, took: 2.3022 minutes\n",
      "d(G(0.3), G(0.12)): 0.04204228087735904, took: 2.2888 minutes\n",
      "d(G(0.3), G(0.14)): 0.0414627947688091, took: 2.2631 minutes\n",
      "d(G(0.3), G(0.16)): 0.041191170011408935, took: 2.3312 minutes\n",
      "d(G(0.3), G(0.18)): 0.040815851539556094, took: 2.2928 minutes\n",
      "d(G(0.3), G(0.2)): 0.04067962832581482, took: 2.2537 minutes\n",
      "d(G(0.3), G(0.22)): 0.04011618465979555, took: 2.298 minutes\n",
      "d(G(0.3), G(0.24)): 0.04023955608111317, took: 2.287 minutes\n",
      "d(G(0.3), G(0.26)): 0.0399986358680574, took: 2.3006 minutes\n",
      "d(G(0.3), G(0.28)): 0.04005382077673529, took: 2.2796 minutes\n",
      "d(G(0.3), G(0.3)): 0.039943093021981096, took: 2.2665 minutes\n",
      "d(G(0.3), G(0.32)): 0.0398259611210227, took: 2.2771 minutes\n",
      "d(G(0.3), G(0.34)): 0.03984018739168432, took: 2.2451 minutes\n",
      "d(G(0.3), G(0.36)): 0.03976008072693349, took: 2.2551 minutes\n",
      "d(G(0.3), G(0.38)): 0.039659918958591604, took: 2.2651 minutes\n",
      "d(G(0.3), G(0.4)): 0.03969607608419452, took: 2.2643 minutes\n",
      "d(G(0.3), G(0.42)): 0.03965803845120281, took: 2.2483 minutes\n",
      "d(G(0.3), G(0.44)): 0.03977723559724763, took: 2.2988 minutes\n",
      "d(G(0.3), G(0.46)): 0.0394572261080911, took: 2.2749 minutes\n",
      "d(G(0.3), G(0.48)): 0.03968729043263496, took: 2.2446 minutes\n",
      "d(G(0.3), G(0.5)): 0.03972673236935513, took: 2.2546 minutes\n",
      "d(G(0.3), G(0.52)): 0.039611236050430466, took: 2.2657 minutes\n",
      "d(G(0.3), G(0.54)): 0.03950316170953181, took: 2.2606 minutes\n",
      "d(G(0.3), G(0.56)): 0.03988532674211358, took: 2.2742 minutes\n",
      "d(G(0.3), G(0.58)): 0.03962314533251452, took: 2.2659 minutes\n",
      "d(G(0.3), G(0.6)): 0.039299851981303834, took: 2.2696 minutes\n",
      "d(G(0.3), G(0.62)): 0.03958080319273764, took: 2.2683 minutes\n",
      "d(G(0.3), G(0.64)): 0.039704958272518534, took: 2.2491 minutes\n",
      "d(G(0.3), G(0.66)): 0.039690305557291146, took: 2.2562 minutes\n",
      "d(G(0.3), G(0.68)): 0.03974222706535648, took: 2.2719 minutes\n",
      "d(G(0.3), G(0.7)): 0.039554089394133, took: 2.3117 minutes\n",
      "d(G(0.3), G(0.72)): 0.03976168220287605, took: 2.2592 minutes\n",
      "d(G(0.3), G(0.74)): 0.03987875526841701, took: 2.2595 minutes\n",
      "d(G(0.3), G(0.76)): 0.039682404047646794, took: 2.262 minutes\n",
      "d(G(0.3), G(0.78)): 0.03981190609800594, took: 2.2708 minutes\n",
      "d(G(0.3), G(0.8)): 0.0397567334032535, took: 2.2741 minutes\n",
      "d(G(0.3), G(0.82)): 0.03984705735665623, took: 2.3155 minutes\n",
      "d(G(0.3), G(0.84)): 0.03964355244107928, took: 2.3578 minutes\n",
      "d(G(0.3), G(0.86)): 0.03975907099097656, took: 2.2707 minutes\n",
      "d(G(0.3), G(0.88)): 0.03969035575893181, took: 2.2584 minutes\n",
      "d(G(0.3), G(0.9)): 0.0396921017343191, took: 2.2423 minutes\n",
      "d(G(0.3), G(0.92)): 0.03989986921978711, took: 2.2466 minutes\n",
      "d(G(0.3), G(0.94)): 0.03970211492545384, took: 2.2383 minutes\n",
      "d(G(0.3), G(0.96)): 0.03973250213950269, took: 2.2455 minutes\n",
      "d(G(0.3), G(0.98)): 0.039894792643425554, took: 2.2482 minutes\n",
      "d(G(0.3), G(1.0)): 0.039674487964299995, took: 2.258 minutes\n",
      "\n",
      "Process took 113.71448355118433 minutes with an average of 2.274282167116801 per p\n"
     ]
    }
   ],
   "source": [
    "exp_unnormLsym.fit_SGD()"
   ]
  },
  {
   "cell_type": "code",
   "execution_count": 16,
   "metadata": {},
   "outputs": [],
   "source": [
    "exp_sgd_dic[p0] = exp_unnormLsym.rep_sgd"
   ]
  },
  {
   "cell_type": "markdown",
   "metadata": {},
   "source": [
    "## SGD between G(0.4) and G(p)"
   ]
  },
  {
   "cell_type": "code",
   "execution_count": 17,
   "metadata": {},
   "outputs": [
    {
     "name": "stdout",
     "output_type": "stream",
     "text": [
      "Eigen-decomposition of reference model with rewiring prob p : 0.4 completed.\n"
     ]
    }
   ],
   "source": [
    "p0 = 0.4\n",
    "exp_unnormLsym.reset_G_p0(new_p0 = p0, new_G_p0 = readWSmodels['G_p0'][p0])\n",
    "exp_unnormLsym.eigenspectrum_G_p0()"
   ]
  },
  {
   "cell_type": "code",
   "execution_count": 18,
   "metadata": {},
   "outputs": [
    {
     "name": "stdout",
     "output_type": "stream",
     "text": [
      "The spectral distance between G(0.4) and G(p) is an average  of the SGD between G(0.4) and the 100 replicate models generated per each of the 50 rewiring probability.\n",
      "\n",
      "d(G(0.4), G(0.02)): 0.053348794389312275, took: 2.2583 minutes\n",
      "d(G(0.4), G(0.04)): 0.05088905245026406, took: 2.2235 minutes\n",
      "d(G(0.4), G(0.06)): 0.04899070800814592, took: 2.2207 minutes\n",
      "d(G(0.4), G(0.08)): 0.04762057784709884, took: 2.2195 minutes\n",
      "d(G(0.4), G(0.1)): 0.04653863728561962, took: 2.2139 minutes\n",
      "d(G(0.4), G(0.12)): 0.04561680903748124, took: 2.2116 minutes\n",
      "d(G(0.4), G(0.14)): 0.04504946703870143, took: 2.2178 minutes\n",
      "d(G(0.4), G(0.16)): 0.044536410230631096, took: 2.229 minutes\n",
      "d(G(0.4), G(0.18)): 0.0440619653847695, took: 2.2095 minutes\n",
      "d(G(0.4), G(0.2)): 0.04388854071111615, took: 2.2311 minutes\n",
      "d(G(0.4), G(0.22)): 0.04339469372299261, took: 2.2311 minutes\n",
      "d(G(0.4), G(0.24)): 0.04294076305165201, took: 2.2225 minutes\n",
      "d(G(0.4), G(0.26)): 0.042753907925759865, took: 2.2234 minutes\n",
      "d(G(0.4), G(0.28)): 0.042798533739904186, took: 2.2208 minutes\n",
      "d(G(0.4), G(0.3)): 0.04250297641079893, took: 2.2274 minutes\n",
      "d(G(0.4), G(0.32)): 0.042274372093600895, took: 2.2443 minutes\n",
      "d(G(0.4), G(0.34)): 0.04213420569728551, took: 2.2651 minutes\n",
      "d(G(0.4), G(0.36)): 0.042165506298087366, took: 2.2355 minutes\n",
      "d(G(0.4), G(0.38)): 0.04196151471483047, took: 2.2166 minutes\n",
      "d(G(0.4), G(0.4)): 0.041936635509314174, took: 2.2237 minutes\n",
      "d(G(0.4), G(0.42)): 0.04184104253047354, took: 2.2366 minutes\n",
      "d(G(0.4), G(0.44)): 0.04173493527933191, took: 2.2284 minutes\n",
      "d(G(0.4), G(0.46)): 0.041637910905718244, took: 2.2169 minutes\n",
      "d(G(0.4), G(0.48)): 0.04162443941888304, took: 2.2422 minutes\n",
      "d(G(0.4), G(0.5)): 0.04167630818724044, took: 2.2164 minutes\n",
      "d(G(0.4), G(0.52)): 0.04166571984056154, took: 2.2102 minutes\n",
      "d(G(0.4), G(0.54)): 0.04156460727842371, took: 2.217 minutes\n",
      "d(G(0.4), G(0.56)): 0.04157600188407379, took: 2.2198 minutes\n",
      "d(G(0.4), G(0.58)): 0.0414425780570424, took: 2.2235 minutes\n",
      "d(G(0.4), G(0.6)): 0.041242846532921484, took: 2.2229 minutes\n",
      "d(G(0.4), G(0.62)): 0.04142624050088669, took: 2.2239 minutes\n",
      "d(G(0.4), G(0.64)): 0.04122898281877647, took: 2.2192 minutes\n",
      "d(G(0.4), G(0.66)): 0.041485781757711455, took: 2.2191 minutes\n",
      "d(G(0.4), G(0.68)): 0.041393322843116, took: 2.2333 minutes\n",
      "d(G(0.4), G(0.7)): 0.04123684181258055, took: 2.2393 minutes\n",
      "d(G(0.4), G(0.72)): 0.04122797093424544, took: 2.2314 minutes\n",
      "d(G(0.4), G(0.74)): 0.04152313045912001, took: 2.2466 minutes\n",
      "d(G(0.4), G(0.76)): 0.04137315030539973, took: 2.2249 minutes\n",
      "d(G(0.4), G(0.78)): 0.04148542843111355, took: 2.2343 minutes\n",
      "d(G(0.4), G(0.8)): 0.04149690004986307, took: 2.2283 minutes\n",
      "d(G(0.4), G(0.82)): 0.04148647680345321, took: 2.2421 minutes\n",
      "d(G(0.4), G(0.84)): 0.041403603808807296, took: 2.2409 minutes\n",
      "d(G(0.4), G(0.86)): 0.04177474773307774, took: 2.2128 minutes\n",
      "d(G(0.4), G(0.88)): 0.04163378737866607, took: 2.2097 minutes\n",
      "d(G(0.4), G(0.9)): 0.0414493920609977, took: 2.2132 minutes\n",
      "d(G(0.4), G(0.92)): 0.041544756392156545, took: 2.2696 minutes\n",
      "d(G(0.4), G(0.94)): 0.041420700537839285, took: 2.2114 minutes\n",
      "d(G(0.4), G(0.96)): 0.04166025910334509, took: 2.2195 minutes\n",
      "d(G(0.4), G(0.98)): 0.04174975321489503, took: 2.2129 minutes\n",
      "d(G(0.4), G(1.0)): 0.04118435780972408, took: 2.2202 minutes\n",
      "\n",
      "Process took 111.33226650158564 minutes with an average of 2.2266393489042917 per p\n"
     ]
    }
   ],
   "source": [
    "exp_unnormLsym.fit_SGD()"
   ]
  },
  {
   "cell_type": "code",
   "execution_count": 19,
   "metadata": {},
   "outputs": [],
   "source": [
    "exp_sgd_dic[p0] = exp_unnormLsym.rep_sgd"
   ]
  },
  {
   "cell_type": "markdown",
   "metadata": {},
   "source": [
    "## SGD between G(0.5) and G(p)"
   ]
  },
  {
   "cell_type": "code",
   "execution_count": 20,
   "metadata": {},
   "outputs": [
    {
     "name": "stdout",
     "output_type": "stream",
     "text": [
      "Eigen-decomposition of reference model with rewiring prob p : 0.5 completed.\n"
     ]
    }
   ],
   "source": [
    "p0 = 0.5\n",
    "exp_unnormLsym.reset_G_p0(new_p0 = p0, new_G_p0 = readWSmodels['G_p0'][p0])\n",
    "exp_unnormLsym.eigenspectrum_G_p0()"
   ]
  },
  {
   "cell_type": "code",
   "execution_count": 21,
   "metadata": {},
   "outputs": [
    {
     "name": "stdout",
     "output_type": "stream",
     "text": [
      "The spectral distance between G(0.5) and G(p) is an average  of the SGD between G(0.5) and the 100 replicate models generated per each of the 50 rewiring probability.\n",
      "\n",
      "d(G(0.5), G(0.02)): 0.05227278306964221, took: 2.1773 minutes\n",
      "d(G(0.5), G(0.04)): 0.04943593870698968, took: 2.1674 minutes\n",
      "d(G(0.5), G(0.06)): 0.04732749390892381, took: 2.2119 minutes\n",
      "d(G(0.5), G(0.08)): 0.045811327570647674, took: 2.1932 minutes\n",
      "d(G(0.5), G(0.1)): 0.04436737582889169, took: 2.1625 minutes\n",
      "d(G(0.5), G(0.12)): 0.04382826965404884, took: 2.1787 minutes\n",
      "d(G(0.5), G(0.14)): 0.04311517893153332, took: 2.163 minutes\n",
      "d(G(0.5), G(0.16)): 0.04280980425282635, took: 2.1694 minutes\n",
      "d(G(0.5), G(0.18)): 0.04198992334093065, took: 2.1728 minutes\n",
      "d(G(0.5), G(0.2)): 0.04175534524279859, took: 2.1626 minutes\n",
      "d(G(0.5), G(0.22)): 0.041360580825982526, took: 2.1632 minutes\n",
      "d(G(0.5), G(0.24)): 0.040918620379844714, took: 2.1608 minutes\n",
      "d(G(0.5), G(0.26)): 0.04060011734993898, took: 2.1687 minutes\n",
      "d(G(0.5), G(0.28)): 0.04070817678576825, took: 2.1758 minutes\n",
      "d(G(0.5), G(0.3)): 0.04048988259625709, took: 2.1811 minutes\n",
      "d(G(0.5), G(0.32)): 0.040134603695488595, took: 2.1786 minutes\n",
      "d(G(0.5), G(0.34)): 0.03992018478959302, took: 2.1694 minutes\n",
      "d(G(0.5), G(0.36)): 0.03993871971777568, took: 2.1603 minutes\n",
      "d(G(0.5), G(0.38)): 0.039869989631753165, took: 2.1698 minutes\n",
      "d(G(0.5), G(0.4)): 0.03972710530657955, took: 2.1646 minutes\n",
      "d(G(0.5), G(0.42)): 0.039449681302079515, took: 2.167 minutes\n",
      "d(G(0.5), G(0.44)): 0.039281906855287825, took: 2.1605 minutes\n",
      "d(G(0.5), G(0.46)): 0.03935118670556125, took: 2.1639 minutes\n",
      "d(G(0.5), G(0.48)): 0.03944644958692449, took: 2.1652 minutes\n",
      "d(G(0.5), G(0.5)): 0.039285861248089075, took: 2.1718 minutes\n",
      "d(G(0.5), G(0.52)): 0.039088364079142124, took: 2.1739 minutes\n",
      "d(G(0.5), G(0.54)): 0.03893465432016576, took: 2.1724 minutes\n",
      "d(G(0.5), G(0.56)): 0.03914124792037509, took: 2.1633 minutes\n",
      "d(G(0.5), G(0.58)): 0.03908051100548054, took: 2.1905 minutes\n",
      "d(G(0.5), G(0.6)): 0.03878487181334064, took: 2.1608 minutes\n",
      "d(G(0.5), G(0.62)): 0.0387677722837224, took: 2.2058 minutes\n",
      "d(G(0.5), G(0.64)): 0.03872461460911723, took: 2.1616 minutes\n",
      "d(G(0.5), G(0.66)): 0.038830481269471584, took: 2.1658 minutes\n",
      "d(G(0.5), G(0.68)): 0.03876160637936985, took: 2.166 minutes\n",
      "d(G(0.5), G(0.7)): 0.03881411172039042, took: 2.1604 minutes\n",
      "d(G(0.5), G(0.72)): 0.038779729232888215, took: 2.1776 minutes\n",
      "d(G(0.5), G(0.74)): 0.038778141312804985, took: 2.1643 minutes\n",
      "d(G(0.5), G(0.76)): 0.038676670496911016, took: 2.1711 minutes\n",
      "d(G(0.5), G(0.78)): 0.03874625109637483, took: 2.1706 minutes\n",
      "d(G(0.5), G(0.8)): 0.03873966055981545, took: 2.1782 minutes\n",
      "d(G(0.5), G(0.82)): 0.03895125848968936, took: 2.1651 minutes\n",
      "d(G(0.5), G(0.84)): 0.038701992549036335, took: 2.1722 minutes\n",
      "d(G(0.5), G(0.86)): 0.03878106949582531, took: 2.1705 minutes\n",
      "d(G(0.5), G(0.88)): 0.038742571175969416, took: 2.1809 minutes\n",
      "d(G(0.5), G(0.9)): 0.03861967521394452, took: 2.1757 minutes\n",
      "d(G(0.5), G(0.92)): 0.03882491233982665, took: 2.2121 minutes\n",
      "d(G(0.5), G(0.94)): 0.03883143316021699, took: 2.1959 minutes\n",
      "d(G(0.5), G(0.96)): 0.03881231122377756, took: 2.2164 minutes\n",
      "d(G(0.5), G(0.98)): 0.03883123932905422, took: 2.2381 minutes\n",
      "d(G(0.5), G(1.0)): 0.038664858809051655, took: 2.1789 minutes\n",
      "\n",
      "Process took 108.7675930817922 minutes with an average of 2.1753461198806763 per p\n"
     ]
    }
   ],
   "source": [
    "exp_unnormLsym.fit_SGD()"
   ]
  },
  {
   "cell_type": "code",
   "execution_count": 22,
   "metadata": {},
   "outputs": [],
   "source": [
    "exp_sgd_dic[p0] = exp_unnormLsym.rep_sgd"
   ]
  },
  {
   "cell_type": "markdown",
   "metadata": {},
   "source": [
    "## SGD between G(0.6) and G(p)"
   ]
  },
  {
   "cell_type": "code",
   "execution_count": 23,
   "metadata": {},
   "outputs": [
    {
     "name": "stdout",
     "output_type": "stream",
     "text": [
      "Eigen-decomposition of reference model with rewiring prob p : 0.6 completed.\n"
     ]
    }
   ],
   "source": [
    "p0 = 0.6\n",
    "exp_unnormLsym.reset_G_p0(new_p0 = p0, new_G_p0 = readWSmodels['G_p0'][p0])\n",
    "exp_unnormLsym.eigenspectrum_G_p0()"
   ]
  },
  {
   "cell_type": "code",
   "execution_count": 24,
   "metadata": {},
   "outputs": [
    {
     "name": "stdout",
     "output_type": "stream",
     "text": [
      "The spectral distance between G(0.6) and G(p) is an average  of the SGD between G(0.6) and the 100 replicate models generated per each of the 50 rewiring probability.\n",
      "\n",
      "d(G(0.6), G(0.02)): 0.05233548875557938, took: 2.2019 minutes\n",
      "d(G(0.6), G(0.04)): 0.04994230536885316, took: 2.1979 minutes\n",
      "d(G(0.6), G(0.06)): 0.04791688446953349, took: 2.1993 minutes\n",
      "d(G(0.6), G(0.08)): 0.04639676255392123, took: 2.2008 minutes\n",
      "d(G(0.6), G(0.1)): 0.045263470499089874, took: 2.2296 minutes\n",
      "d(G(0.6), G(0.12)): 0.04429319380352454, took: 2.2274 minutes\n",
      "d(G(0.6), G(0.14)): 0.04373823080672066, took: 2.2104 minutes\n",
      "d(G(0.6), G(0.16)): 0.04329782949377981, took: 2.2083 minutes\n",
      "d(G(0.6), G(0.18)): 0.04270361199068542, took: 2.212 minutes\n",
      "d(G(0.6), G(0.2)): 0.0427165285216692, took: 2.2107 minutes\n",
      "d(G(0.6), G(0.22)): 0.042033396047686515, took: 2.2078 minutes\n",
      "d(G(0.6), G(0.24)): 0.04196211806246406, took: 2.214 minutes\n",
      "d(G(0.6), G(0.26)): 0.041601148036549726, took: 2.2029 minutes\n",
      "d(G(0.6), G(0.28)): 0.041606599605497244, took: 2.21 minutes\n",
      "d(G(0.6), G(0.3)): 0.041192752756957385, took: 2.2148 minutes\n",
      "d(G(0.6), G(0.32)): 0.04104845339845356, took: 2.2045 minutes\n",
      "d(G(0.6), G(0.34)): 0.04103407164304163, took: 2.2114 minutes\n",
      "d(G(0.6), G(0.36)): 0.04105598044255104, took: 2.214 minutes\n",
      "d(G(0.6), G(0.38)): 0.04076826138521942, took: 2.216 minutes\n",
      "d(G(0.6), G(0.4)): 0.04051697893053917, took: 2.2118 minutes\n",
      "d(G(0.6), G(0.42)): 0.040589411160391636, took: 2.3748 minutes\n",
      "d(G(0.6), G(0.44)): 0.040448470806613415, took: 2.3874 minutes\n",
      "d(G(0.6), G(0.46)): 0.04036386575947113, took: 2.3722 minutes\n",
      "d(G(0.6), G(0.48)): 0.04018728849613928, took: 2.3744 minutes\n",
      "d(G(0.6), G(0.5)): 0.04021482571054392, took: 2.3783 minutes\n",
      "d(G(0.6), G(0.52)): 0.039903205062656155, took: 2.3786 minutes\n",
      "d(G(0.6), G(0.54)): 0.03992981325633751, took: 2.373 minutes\n",
      "d(G(0.6), G(0.56)): 0.03995756024487222, took: 2.3757 minutes\n",
      "d(G(0.6), G(0.58)): 0.039895506976330423, took: 2.3819 minutes\n",
      "d(G(0.6), G(0.6)): 0.039724865745399726, took: 2.3751 minutes\n",
      "d(G(0.6), G(0.62)): 0.03975493579383013, took: 2.3937 minutes\n",
      "d(G(0.6), G(0.64)): 0.03978040898721213, took: 2.3944 minutes\n",
      "d(G(0.6), G(0.66)): 0.03965008897138307, took: 2.358 minutes\n",
      "d(G(0.6), G(0.68)): 0.039689468052337584, took: 2.2236 minutes\n",
      "d(G(0.6), G(0.7)): 0.03971703664863806, took: 2.2265 minutes\n",
      "d(G(0.6), G(0.72)): 0.03944230116646137, took: 2.2256 minutes\n",
      "d(G(0.6), G(0.74)): 0.039709770411630346, took: 2.2289 minutes\n",
      "d(G(0.6), G(0.76)): 0.03955454518069156, took: 2.2353 minutes\n",
      "d(G(0.6), G(0.78)): 0.0397589853058035, took: 2.2203 minutes\n",
      "d(G(0.6), G(0.8)): 0.039626287133047555, took: 2.2192 minutes\n",
      "d(G(0.6), G(0.82)): 0.03952456448852641, took: 2.239 minutes\n",
      "d(G(0.6), G(0.84)): 0.03974651901087634, took: 2.2306 minutes\n",
      "d(G(0.6), G(0.86)): 0.03977733609490546, took: 2.2276 minutes\n",
      "d(G(0.6), G(0.88)): 0.03944237020653736, took: 2.2217 minutes\n",
      "d(G(0.6), G(0.9)): 0.03943196435330257, took: 2.2117 minutes\n",
      "d(G(0.6), G(0.92)): 0.03985033899739815, took: 2.2133 minutes\n",
      "d(G(0.6), G(0.94)): 0.03956583019556807, took: 2.2198 minutes\n",
      "d(G(0.6), G(0.96)): 0.03959167659788176, took: 2.2136 minutes\n",
      "d(G(0.6), G(0.98)): 0.0396870720794431, took: 2.2155 minutes\n",
      "d(G(0.6), G(1.0)): 0.03949083515041955, took: 2.219 minutes\n",
      "\n",
      "Process took 112.91458123127619 minutes with an average of 2.258287557840347 per p\n"
     ]
    }
   ],
   "source": [
    "exp_unnormLsym.fit_SGD()"
   ]
  },
  {
   "cell_type": "code",
   "execution_count": 25,
   "metadata": {},
   "outputs": [],
   "source": [
    "exp_sgd_dic[p0] = exp_unnormLsym.rep_sgd"
   ]
  },
  {
   "cell_type": "markdown",
   "metadata": {},
   "source": [
    "## SGD between G(0.7) and G(p)"
   ]
  },
  {
   "cell_type": "code",
   "execution_count": 26,
   "metadata": {},
   "outputs": [
    {
     "name": "stdout",
     "output_type": "stream",
     "text": [
      "Eigen-decomposition of reference model with rewiring prob p : 0.7 completed.\n"
     ]
    }
   ],
   "source": [
    "p0 = 0.7\n",
    "exp_unnormLsym.reset_G_p0(new_p0 = p0, new_G_p0 = readWSmodels['G_p0'][p0])\n",
    "exp_unnormLsym.eigenspectrum_G_p0()"
   ]
  },
  {
   "cell_type": "code",
   "execution_count": 27,
   "metadata": {},
   "outputs": [
    {
     "name": "stdout",
     "output_type": "stream",
     "text": [
      "The spectral distance between G(0.7) and G(p) is an average  of the SGD between G(0.7) and the 100 replicate models generated per each of the 50 rewiring probability.\n",
      "\n",
      "d(G(0.7), G(0.02)): 0.051705936986182206, took: 2.2099 minutes\n",
      "d(G(0.7), G(0.04)): 0.04890191245107906, took: 2.2124 minutes\n",
      "d(G(0.7), G(0.06)): 0.0468341994976372, took: 2.2244 minutes\n",
      "d(G(0.7), G(0.08)): 0.04532420394562931, took: 2.242 minutes\n",
      "d(G(0.7), G(0.1)): 0.04383114073967387, took: 2.2186 minutes\n",
      "d(G(0.7), G(0.12)): 0.04316773165012723, took: 2.2383 minutes\n",
      "d(G(0.7), G(0.14)): 0.042657565361453785, took: 2.217 minutes\n",
      "d(G(0.7), G(0.16)): 0.04218044126933476, took: 2.2067 minutes\n",
      "d(G(0.7), G(0.18)): 0.04184653062407, took: 2.21 minutes\n",
      "d(G(0.7), G(0.2)): 0.041613648367340564, took: 2.2403 minutes\n",
      "d(G(0.7), G(0.22)): 0.04094547250880939, took: 2.2107 minutes\n",
      "d(G(0.7), G(0.24)): 0.04086850762224005, took: 2.2119 minutes\n",
      "d(G(0.7), G(0.26)): 0.04042013785504237, took: 2.2135 minutes\n",
      "d(G(0.7), G(0.28)): 0.040590640923256795, took: 2.215 minutes\n",
      "d(G(0.7), G(0.3)): 0.040291652868618646, took: 2.2187 minutes\n",
      "d(G(0.7), G(0.32)): 0.039901240244236774, took: 2.2614 minutes\n",
      "d(G(0.7), G(0.34)): 0.040116244728973675, took: 2.2271 minutes\n",
      "d(G(0.7), G(0.36)): 0.03998533629317714, took: 2.2219 minutes\n",
      "d(G(0.7), G(0.38)): 0.03963868021222231, took: 2.2234 minutes\n",
      "d(G(0.7), G(0.4)): 0.039500233205229086, took: 2.2265 minutes\n",
      "d(G(0.7), G(0.42)): 0.03944522473972163, took: 2.2301 minutes\n",
      "d(G(0.7), G(0.44)): 0.039242332412404074, took: 2.2435 minutes\n",
      "d(G(0.7), G(0.46)): 0.039087323070335515, took: 2.2411 minutes\n",
      "d(G(0.7), G(0.48)): 0.039251359728899204, took: 2.2325 minutes\n",
      "d(G(0.7), G(0.5)): 0.03912178279726359, took: 2.2318 minutes\n",
      "d(G(0.7), G(0.52)): 0.03898242233530317, took: 2.2551 minutes\n",
      "d(G(0.7), G(0.54)): 0.03880254457696923, took: 2.2842 minutes\n",
      "d(G(0.7), G(0.56)): 0.038856918234067866, took: 2.2306 minutes\n",
      "d(G(0.7), G(0.58)): 0.03883774480746759, took: 2.2188 minutes\n",
      "d(G(0.7), G(0.6)): 0.038550813034956895, took: 2.2066 minutes\n",
      "d(G(0.7), G(0.62)): 0.03845354091641509, took: 2.2106 minutes\n",
      "d(G(0.7), G(0.64)): 0.03835801795191684, took: 2.231 minutes\n",
      "d(G(0.7), G(0.66)): 0.03827462412813317, took: 2.2291 minutes\n",
      "d(G(0.7), G(0.68)): 0.038454024547706724, took: 2.2318 minutes\n",
      "d(G(0.7), G(0.7)): 0.038440859845739826, took: 2.2274 minutes\n",
      "d(G(0.7), G(0.72)): 0.038229705256227826, took: 12.4193 minutes\n",
      "d(G(0.7), G(0.74)): 0.03847021416719769, took: 2.3377 minutes\n",
      "d(G(0.7), G(0.76)): 0.03834494494292431, took: 2.5912 minutes\n",
      "d(G(0.7), G(0.78)): 0.038232453352945235, took: 2.3847 minutes\n",
      "d(G(0.7), G(0.8)): 0.03824375211174044, took: 2.2395 minutes\n",
      "d(G(0.7), G(0.82)): 0.0381339035445005, took: 2.5451 minutes\n",
      "d(G(0.7), G(0.84)): 0.03827834169701221, took: 2.7744 minutes\n",
      "d(G(0.7), G(0.86)): 0.038402224597939176, took: 2.7424 minutes\n",
      "d(G(0.7), G(0.88)): 0.03834507294181564, took: 2.4617 minutes\n",
      "d(G(0.7), G(0.9)): 0.03812195285954114, took: 2.4828 minutes\n",
      "d(G(0.7), G(0.92)): 0.03850115541208631, took: 2.7823 minutes\n",
      "d(G(0.7), G(0.94)): 0.038496785098787865, took: 2.5546 minutes\n",
      "d(G(0.7), G(0.96)): 0.03842255473926624, took: 2.5174 minutes\n",
      "d(G(0.7), G(0.98)): 0.038360069623352984, took: 2.491 minutes\n",
      "d(G(0.7), G(1.0)): 0.03821568440615979, took: 2.4718 minutes\n",
      "\n",
      "Process took 125.75009237130483 minutes with an average of 2.5149877420266473 per p\n"
     ]
    }
   ],
   "source": [
    "exp_unnormLsym.fit_SGD()"
   ]
  },
  {
   "cell_type": "code",
   "execution_count": 28,
   "metadata": {},
   "outputs": [],
   "source": [
    "exp_sgd_dic[p0] = exp_unnormLsym.rep_sgd"
   ]
  },
  {
   "cell_type": "markdown",
   "metadata": {},
   "source": [
    "## SGD between G(0.8) and G(p)"
   ]
  },
  {
   "cell_type": "code",
   "execution_count": 29,
   "metadata": {},
   "outputs": [
    {
     "name": "stdout",
     "output_type": "stream",
     "text": [
      "Eigen-decomposition of reference model with rewiring prob p : 0.8 completed.\n"
     ]
    }
   ],
   "source": [
    "p0 = 0.8\n",
    "exp_unnormLsym.reset_G_p0(new_p0 = p0, new_G_p0 = readWSmodels['G_p0'][p0])\n",
    "exp_unnormLsym.eigenspectrum_G_p0()"
   ]
  },
  {
   "cell_type": "code",
   "execution_count": 30,
   "metadata": {},
   "outputs": [
    {
     "name": "stdout",
     "output_type": "stream",
     "text": [
      "The spectral distance between G(0.8) and G(p) is an average  of the SGD between G(0.8) and the 100 replicate models generated per each of the 50 rewiring probability.\n",
      "\n",
      "d(G(0.8), G(0.02)): 0.05308425261777206, took: 2.5871 minutes\n",
      "d(G(0.8), G(0.04)): 0.05047384091902808, took: 2.6634 minutes\n",
      "d(G(0.8), G(0.06)): 0.04860742680097061, took: 2.493 minutes\n",
      "d(G(0.8), G(0.08)): 0.04697112440717672, took: 2.6093 minutes\n",
      "d(G(0.8), G(0.1)): 0.045775071310859075, took: 2.5576 minutes\n",
      "d(G(0.8), G(0.12)): 0.044880261867479974, took: 2.2796 minutes\n",
      "d(G(0.8), G(0.14)): 0.04412737245882483, took: 2.4235 minutes\n",
      "d(G(0.8), G(0.16)): 0.04360658165551424, took: 2.2804 minutes\n",
      "d(G(0.8), G(0.18)): 0.043113997835940145, took: 2.2414 minutes\n",
      "d(G(0.8), G(0.2)): 0.0427458963070425, took: 2.2346 minutes\n",
      "d(G(0.8), G(0.22)): 0.04222192298282132, took: 2.2259 minutes\n",
      "d(G(0.8), G(0.24)): 0.04206355855059273, took: 2.2486 minutes\n",
      "d(G(0.8), G(0.26)): 0.04182858513800183, took: 23.7981 minutes\n",
      "d(G(0.8), G(0.28)): 0.04167802090245124, took: 2.2405 minutes\n",
      "d(G(0.8), G(0.3)): 0.04150968346001669, took: 2.2376 minutes\n",
      "d(G(0.8), G(0.32)): 0.04124748652318307, took: 2.2627 minutes\n",
      "d(G(0.8), G(0.34)): 0.04102958621346477, took: 2.2628 minutes\n",
      "d(G(0.8), G(0.36)): 0.0408567802489668, took: 5.484 minutes\n",
      "d(G(0.8), G(0.38)): 0.040801053828385614, took: 2.2799 minutes\n",
      "d(G(0.8), G(0.4)): 0.04067006744786363, took: 2.2453 minutes\n",
      "d(G(0.8), G(0.42)): 0.040436740237764425, took: 2.3672 minutes\n",
      "d(G(0.8), G(0.44)): 0.04034064707874121, took: 2.3772 minutes\n",
      "d(G(0.8), G(0.46)): 0.040258243175992206, took: 2.4321 minutes\n",
      "d(G(0.8), G(0.48)): 0.040308212014328874, took: 2.3985 minutes\n",
      "d(G(0.8), G(0.5)): 0.04013352142801188, took: 2.3982 minutes\n",
      "d(G(0.8), G(0.52)): 0.04012132610868981, took: 2.3883 minutes\n",
      "d(G(0.8), G(0.54)): 0.03968329151029648, took: 2.389 minutes\n",
      "d(G(0.8), G(0.56)): 0.03991374928525479, took: 2.3537 minutes\n",
      "d(G(0.8), G(0.58)): 0.03968398949820803, took: 2.308 minutes\n",
      "d(G(0.8), G(0.6)): 0.03934184759594878, took: 2.4315 minutes\n",
      "d(G(0.8), G(0.62)): 0.03947613951906332, took: 2.3627 minutes\n",
      "d(G(0.8), G(0.64)): 0.039282131199341784, took: 2.3998 minutes\n",
      "d(G(0.8), G(0.66)): 0.039527482238930996, took: 2.2908 minutes\n",
      "d(G(0.8), G(0.68)): 0.03934349831018523, took: 2.3779 minutes\n",
      "d(G(0.8), G(0.7)): 0.03942629207831124, took: 2.4313 minutes\n",
      "d(G(0.8), G(0.72)): 0.03905018243720536, took: 2.4231 minutes\n",
      "d(G(0.8), G(0.74)): 0.039141131706488835, took: 2.4191 minutes\n",
      "d(G(0.8), G(0.76)): 0.03914920606018241, took: 2.4582 minutes\n",
      "d(G(0.8), G(0.78)): 0.03918135338183357, took: 2.4009 minutes\n",
      "d(G(0.8), G(0.8)): 0.03916035126861993, took: 2.3874 minutes\n",
      "d(G(0.8), G(0.82)): 0.03914880991915403, took: 2.4328 minutes\n",
      "d(G(0.8), G(0.84)): 0.03919575079279905, took: 2.4366 minutes\n",
      "d(G(0.8), G(0.86)): 0.03934926189854945, took: 2.4254 minutes\n",
      "d(G(0.8), G(0.88)): 0.03934085397450042, took: 2.3143 minutes\n",
      "d(G(0.8), G(0.9)): 0.03916994584602476, took: 2.2849 minutes\n",
      "d(G(0.8), G(0.92)): 0.039273537279226466, took: 2.3023 minutes\n",
      "d(G(0.8), G(0.94)): 0.039232359543904714, took: 2.2892 minutes\n",
      "d(G(0.8), G(0.96)): 0.03919758193997294, took: 2.2825 minutes\n",
      "d(G(0.8), G(0.98)): 0.03925270856895009, took: 2.2689 minutes\n",
      "d(G(0.8), G(1.0)): 0.038967985327254685, took: 2.2506 minutes\n",
      "\n",
      "Process took 142.73782396316528 minutes with an average of 2.8547418440977737 per p\n"
     ]
    }
   ],
   "source": [
    "exp_unnormLsym.fit_SGD()"
   ]
  },
  {
   "cell_type": "code",
   "execution_count": 31,
   "metadata": {},
   "outputs": [],
   "source": [
    "exp_sgd_dic[p0] = exp_unnormLsym.rep_sgd"
   ]
  },
  {
   "cell_type": "markdown",
   "metadata": {},
   "source": [
    "## SGD between G(0.9) and G(p)"
   ]
  },
  {
   "cell_type": "code",
   "execution_count": 32,
   "metadata": {},
   "outputs": [
    {
     "name": "stdout",
     "output_type": "stream",
     "text": [
      "Eigen-decomposition of reference model with rewiring prob p : 0.9 completed.\n"
     ]
    }
   ],
   "source": [
    "p0 = 0.9\n",
    "exp_unnormLsym.reset_G_p0(new_p0 = p0, new_G_p0 = readWSmodels['G_p0'][p0])\n",
    "exp_unnormLsym.eigenspectrum_G_p0()"
   ]
  },
  {
   "cell_type": "code",
   "execution_count": 33,
   "metadata": {},
   "outputs": [
    {
     "name": "stdout",
     "output_type": "stream",
     "text": [
      "The spectral distance between G(0.9) and G(p) is an average  of the SGD between G(0.9) and the 100 replicate models generated per each of the 50 rewiring probability.\n",
      "\n",
      "d(G(0.9), G(0.02)): 0.05221544642385991, took: 2.2915 minutes\n",
      "d(G(0.9), G(0.04)): 0.04936201894111287, took: 2.2568 minutes\n",
      "d(G(0.9), G(0.06)): 0.04743109148320737, took: 2.2854 minutes\n",
      "d(G(0.9), G(0.08)): 0.0459248584912019, took: 2.2749 minutes\n",
      "d(G(0.9), G(0.1)): 0.044703853645930824, took: 2.3029 minutes\n",
      "d(G(0.9), G(0.12)): 0.04416425225343259, took: 2.2709 minutes\n",
      "d(G(0.9), G(0.14)): 0.04351180965741986, took: 2.3521 minutes\n",
      "d(G(0.9), G(0.16)): 0.04288806806429188, took: 2.4094 minutes\n",
      "d(G(0.9), G(0.18)): 0.04263540081928099, took: 2.4068 minutes\n",
      "d(G(0.9), G(0.2)): 0.04231691176196865, took: 2.3958 minutes\n",
      "d(G(0.9), G(0.22)): 0.04184314457384696, took: 2.3813 minutes\n",
      "d(G(0.9), G(0.24)): 0.041676434638668276, took: 2.4119 minutes\n",
      "d(G(0.9), G(0.26)): 0.04139647729589711, took: 2.5675 minutes\n",
      "d(G(0.9), G(0.28)): 0.04134250321943223, took: 2.5506 minutes\n",
      "d(G(0.9), G(0.3)): 0.04111667199160528, took: 2.5051 minutes\n",
      "d(G(0.9), G(0.32)): 0.04111071533677929, took: 2.5871 minutes\n",
      "d(G(0.9), G(0.34)): 0.04081034440750332, took: 2.2953 minutes\n",
      "d(G(0.9), G(0.36)): 0.04076617459472364, took: 2.4715 minutes\n",
      "d(G(0.9), G(0.38)): 0.04049655033040158, took: 2.3136 minutes\n",
      "d(G(0.9), G(0.4)): 0.04058243365100293, took: 2.2954 minutes\n",
      "d(G(0.9), G(0.42)): 0.04036448572455642, took: 2.3576 minutes\n",
      "d(G(0.9), G(0.44)): 0.04037301586291367, took: 2.3535 minutes\n",
      "d(G(0.9), G(0.46)): 0.0399856039156706, took: 2.3709 minutes\n",
      "d(G(0.9), G(0.48)): 0.04004495634790142, took: 2.3192 minutes\n",
      "d(G(0.9), G(0.5)): 0.040138055262438146, took: 2.5043 minutes\n",
      "d(G(0.9), G(0.52)): 0.039808207820082056, took: 2.311 minutes\n",
      "d(G(0.9), G(0.54)): 0.03973552198762689, took: 2.3458 minutes\n",
      "d(G(0.9), G(0.56)): 0.039662903240145944, took: 2.4561 minutes\n",
      "d(G(0.9), G(0.58)): 0.03965544356330727, took: 2.4432 minutes\n",
      "d(G(0.9), G(0.6)): 0.03920726948160962, took: 2.4724 minutes\n",
      "d(G(0.9), G(0.62)): 0.03926615462346838, took: 2.4294 minutes\n",
      "d(G(0.9), G(0.64)): 0.039260087255741836, took: 2.4511 minutes\n",
      "d(G(0.9), G(0.66)): 0.03935489751298191, took: 2.461 minutes\n",
      "d(G(0.9), G(0.68)): 0.03899978563386565, took: 2.457 minutes\n",
      "d(G(0.9), G(0.7)): 0.03907799980657021, took: 2.5471 minutes\n",
      "d(G(0.9), G(0.72)): 0.03905230400529253, took: 2.4497 minutes\n",
      "d(G(0.9), G(0.74)): 0.03920371752945244, took: 2.4268 minutes\n",
      "d(G(0.9), G(0.76)): 0.03915479132292013, took: 2.3781 minutes\n",
      "d(G(0.9), G(0.78)): 0.039122969755364195, took: 2.3784 minutes\n",
      "d(G(0.9), G(0.8)): 0.038903580585739755, took: 2.3895 minutes\n",
      "d(G(0.9), G(0.82)): 0.039080891584452555, took: 2.3805 minutes\n",
      "d(G(0.9), G(0.84)): 0.03907883558247291, took: 2.3925 minutes\n",
      "d(G(0.9), G(0.86)): 0.03915595347994956, took: 2.389 minutes\n",
      "d(G(0.9), G(0.88)): 0.038863005322392286, took: 2.37 minutes\n",
      "d(G(0.9), G(0.9)): 0.038817281377531765, took: 2.4357 minutes\n",
      "d(G(0.9), G(0.92)): 0.03908618416940231, took: 2.382 minutes\n",
      "d(G(0.9), G(0.94)): 0.038951860729251574, took: 2.383 minutes\n",
      "d(G(0.9), G(0.96)): 0.03892870321300168, took: 2.3561 minutes\n",
      "d(G(0.9), G(0.98)): 0.0393007640352379, took: 2.3516 minutes\n",
      "d(G(0.9), G(1.0)): 0.03883201587559831, took: 2.3559 minutes\n",
      "\n",
      "Process took 119.72481228113175 minutes with an average of 2.3944763251145678 per p\n"
     ]
    }
   ],
   "source": [
    "exp_unnormLsym.fit_SGD()"
   ]
  },
  {
   "cell_type": "code",
   "execution_count": 34,
   "metadata": {},
   "outputs": [],
   "source": [
    "exp_sgd_dic[p0] = exp_unnormLsym.rep_sgd"
   ]
  },
  {
   "cell_type": "code",
   "execution_count": 35,
   "metadata": {},
   "outputs": [],
   "source": [
    "mean_dic = {}\n",
    "std_dic = {}\n",
    "A_dic_ref = {}\n",
    "for key, value in exp_sgd_dic.items():\n",
    "    A_dic_ref[key] = (nx.adjacency_matrix(readWSmodels['G_p0'][key])).todense()\n",
    "    mean_dic[key] = [np.mean(value[i]) for i in exp_unnormLsym.p]\n",
    "    std_dic[key] = [np.std(value[i]) for i in exp_unnormLsym.p]"
   ]
  },
  {
   "cell_type": "code",
   "execution_count": 37,
   "metadata": {},
   "outputs": [],
   "source": [
    "Hamming_dist_dic = {}\n",
    "Hamming_dist_avg_dic = {}\n",
    "for key, A_p0 in A_dic_ref.items():\n",
    "    Hamming_dist_dic[key] = f.hamming_dist_models(A_p0, exp_unnormLsym.A_dic_G_p, 100)\n",
    "    Hamming_dist_avg_dic[key] = [np.mean(Hamming_dist_dic[key][ps]) for ps in exp_unnormLsym.p]"
   ]
  },
  {
   "cell_type": "code",
   "execution_count": 38,
   "metadata": {},
   "outputs": [],
   "source": [
    "json.dump( exp_sgd_dic, open( \"101120Lsym.json\", 'w' ) )"
   ]
  },
  {
   "cell_type": "code",
   "execution_count": 39,
   "metadata": {
    "scrolled": false
   },
   "outputs": [
    {
     "data": {
      "image/png": "[encoded data removed]",
      "text/plain": [
       "<Figure size 864x576 with 9 Axes>"
      ]
     },
     "metadata": {
      "needs_background": "light"
     },
     "output_type": "display_data"
    }
   ],
   "source": [
    "p0_list = list(exp_sgd_dic.keys())\n",
    "p0=p0_list[0]\n",
    "fig = plt.figure(figsize=(12, 8))\n",
    "for i in range(9):\n",
    "    p0=p0_list[i]\n",
    "    plt.subplot(3, 3, i+1)\n",
    "    plt.tight_layout()\n",
    "    plt.title('p_0 = ' + str(p0))\n",
    "    plt.xlabel('p')\n",
    "    plt.ylabel('SGD')\n",
    "    plt.plot(exp_unnormLsym.p, mean_dic[p0], '-o', color = 'red')\n",
    "    plt.axvline(x = p0, color = 'blue', linestyle = '--', label = \"p_0 = \"+ str(p0))\n",
    "    plt.fill_between(exp_unnormLsym.p, [mean_dic[p0][i] - std_dic[p0][i] for i in range(len(mean_dic[p0]))],\n",
    "                     [mean_dic[p0][i] + std_dic[p0][i] for i in range(len(std_dic[p0]))], \n",
    "                     color = 'lightgrey')\n"
   ]
  },
  {
   "cell_type": "code",
   "execution_count": 40,
   "metadata": {},
   "outputs": [
    {
     "data": {
      "image/png": "[encoded data removed]",
      "text/plain": [
       "<Figure size 864x576 with 9 Axes>"
      ]
     },
     "metadata": {
      "needs_background": "light"
     },
     "output_type": "display_data"
    }
   ],
   "source": [
    "p0_list = list(exp_sgd_dic.keys())\n",
    "p0=p0_list[0]\n",
    "fig = plt.figure(figsize=(12, 8))\n",
    "for i in range(9):\n",
    "    p0=p0_list[i]\n",
    "    plt.subplot(3, 3, i+1)\n",
    "    plt.tight_layout()\n",
    "    plt.title('p_0 = ' + str(p0))\n",
    "    plt.xlabel('p')\n",
    "    plt.ylabel('SGD')\n",
    "    plt.axvline(x = p0, color = 'blue', linestyle = '--', label = \"p_0 = \"+ str(p0))\n",
    "    plt.plot(exp_unnormLsym.p, Hamming_dist_avg_dic[p0], '-o', color = 'red')"
   ]
  }
 ],
 "metadata": {
  "kernelspec": {
   "display_name": "Python 3",
   "language": "python",
   "name": "python3"
  },
  "language_info": {
   "codemirror_mode": {
    "name": "ipython",
    "version": 3
   },
   "file_extension": ".py",
   "mimetype": "text/x-python",
   "name": "python",
   "nbconvert_exporter": "python",
   "pygments_lexer": "ipython3",
   "version": "3.6.8"
  }
 },
 "nbformat": 4,
 "nbformat_minor": 2
}
