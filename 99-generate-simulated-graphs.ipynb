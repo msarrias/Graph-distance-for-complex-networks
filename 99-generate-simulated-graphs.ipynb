{
 "cells": [
  {
   "cell_type": "code",
   "execution_count": 1,
   "metadata": {},
   "outputs": [],
   "source": [
    "import numpy as np\n",
    "import networkx as nx"
   ]
  },
  {
   "cell_type": "code",
   "execution_count": null,
   "metadata": {},
   "outputs": [],
   "source": [
    "def ERB(N, p):\n",
    "    g = nx.Graph() \n",
    "    g.add_nodes_from(range(1, N + 1)) \n",
    "    for i in g.nodes(): \n",
    "        for j in g.nodes(): \n",
    "            if (i < j):  \n",
    "                eps = random.random() \n",
    "                if (eps < p): \n",
    "                    g.add_edge(i, j)\n",
    "    return g"
   ]
  },
  {
   "cell_type": "code",
   "execution_count": null,
   "metadata": {},
   "outputs": [],
   "source": [
    "p0_list = np.round(np.arange(0.1, 1, 0.1).tolist(), 3)\n",
    "ER_G0 = {}\n",
    "for p in p0_list:\n",
    "    graph = ERB(n, p)\n",
    "    while not nx.is_connected(graph):\n",
    "        graph = ERB(n, p)\n",
    "    ER_G0[p] = graph "
   ]
  },
  {
   "cell_type": "code",
   "execution_count": null,
   "metadata": {},
   "outputs": [],
   "source": [
    "p_list = np.round(np.arange(0.02, 1, 0.02).tolist(),3)\n",
    "ER_G = {}\n",
    "for p in p_list:\n",
    "    temp = {}\n",
    "    for rep in range(replicates):\n",
    "        graph = ERB(n,p)\n",
    "        while not nx.is_connected(graph):\n",
    "            graph = ERB(n, p)\n",
    "        temp[rep] = graph\n",
    "    ER_G[p] = temp"
   ]
  },
  {
   "cell_type": "code",
   "execution_count": null,
   "metadata": {},
   "outputs": [],
   "source": [
    "ER_Graphs = {}\n",
    "ER_Graphs['G_p0'] = ER_G0\n",
    "ER_Graphs['G_p'] = ER_G"
   ]
  },
  {
   "cell_type": "code",
   "execution_count": null,
   "metadata": {},
   "outputs": [],
   "source": [
    "#nx.write_gpickle(ER_Graphs, \"141120ER-Graphs.json\")"
   ]
  },
  {
   "cell_type": "code",
   "execution_count": 2,
   "metadata": {},
   "outputs": [],
   "source": [
    "def generate_WS_models_fix_k(k_list, p, replicates, n):\n",
    "    watts_strogatz_graphs_dic = {}\n",
    "    for k in k_list:\n",
    "        graph_dic = {}\n",
    "        for j in range(replicates):\n",
    "            graph_dic[j] = nx.watts_strogatz_graph(n, int(k), p)\n",
    "        watts_strogatz_graphs_dic[k] = graph_dic\n",
    "    return watts_strogatz_graphs_dic"
   ]
  },
  {
   "cell_type": "code",
   "execution_count": 3,
   "metadata": {},
   "outputs": [],
   "source": [
    "n=300\n",
    "p=0.1"
   ]
  },
  {
   "cell_type": "code",
   "execution_count": 4,
   "metadata": {},
   "outputs": [],
   "source": [
    "k0_list = np.arange(10,n,30)\n",
    "WS_models_G0 = {}\n",
    "for k in k0_list:\n",
    "    WS_models_G0[k] = nx.watts_strogatz_graph(n, int(k), p)"
   ]
  },
  {
   "cell_type": "code",
   "execution_count": 5,
   "metadata": {},
   "outputs": [],
   "source": [
    "k_list = np.arange(10,n,5)\n",
    "replicates = 50\n",
    "WS_models_Gk = generate_WS_models_fix_k(k_list, p, replicates, n)"
   ]
  },
  {
   "cell_type": "code",
   "execution_count": 6,
   "metadata": {},
   "outputs": [],
   "source": [
    "WS_models_k = {}\n",
    "WS_models_k['G_k0'] = WS_models_G0\n",
    "WS_models_k['G_k'] = WS_models_Gk"
   ]
  },
  {
   "cell_type": "code",
   "execution_count": 7,
   "metadata": {},
   "outputs": [],
   "source": [
    "nx.write_gpickle(WS_models_k, \"171120WS-Graphs-fixed-k-01.json\")"
   ]
  },
  {
   "cell_type": "code",
   "execution_count": null,
   "metadata": {},
   "outputs": [],
   "source": []
  }
 ],
 "metadata": {
  "kernelspec": {
   "display_name": "Python 3",
   "language": "python",
   "name": "python3"
  },
  "language_info": {
   "codemirror_mode": {
    "name": "ipython",
    "version": 3
   },
   "file_extension": ".py",
   "mimetype": "text/x-python",
   "name": "python",
   "nbconvert_exporter": "python",
   "pygments_lexer": "ipython3",
   "version": "3.6.8"
  }
 },
 "nbformat": 4,
 "nbformat_minor": 2
}
