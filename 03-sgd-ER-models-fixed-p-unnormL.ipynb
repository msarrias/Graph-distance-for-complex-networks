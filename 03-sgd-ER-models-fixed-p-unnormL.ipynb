{
 "cells": [
  {
   "cell_type": "code",
   "execution_count": 1,
   "metadata": {},
   "outputs": [],
   "source": [
    "import networkx as nx \n",
    "import numpy as np\n",
    "import scipy.linalg as la\n",
    "from collections import Counter\n",
    "import matplotlib.pyplot as plt \n",
    "from matplotlib.ticker import MultipleLocator\n",
    "import time \n",
    "from SGD import SGD\n",
    "import fun as f"
   ]
  },
  {
   "cell_type": "code",
   "execution_count": 2,
   "metadata": {},
   "outputs": [],
   "source": [
    "N = range(1, 300)\n",
    "c = 2\n",
    "critical_prob_func = [c * np.log(n)/n for n in N]"
   ]
  },
  {
   "cell_type": "code",
   "execution_count": 3,
   "metadata": {},
   "outputs": [],
   "source": [
    "probabilities = np.arange(0, 1.01, 0.02).tolist()\n",
    "replicates = 100\n",
    "threshold = .95\n",
    "models = {}\n",
    "as_connected = {}\n",
    "for n in N:\n",
    "    for p in probabilities:\n",
    "        tempj = {}\n",
    "        for r in range(replicates):\n",
    "            g = f.ERB(n, p)\n",
    "            tempj[r] = nx.is_connected(g)\n",
    "        ctr = Counter(tempj.values())\n",
    "        if ctr[True]/replicates >= threshold:\n",
    "            break\n",
    "    as_connected[n] = p"
   ]
  },
  {
   "cell_type": "code",
   "execution_count": 4,
   "metadata": {},
   "outputs": [],
   "source": [
    "n = 150\n",
    "probabilities = np.linspace(0,1,100)\n",
    "replicates = 100\n",
    "tempi = {}\n",
    "for p in probabilities:\n",
    "    tempj = {}\n",
    "    for r in range(replicates):\n",
    "        g = f.ERB(n, p)\n",
    "        tempj[r] = nx.is_connected(g)\n",
    "    ctr = Counter(tempj.values())\n",
    "    tempi[p] = [ctr, ctr[True]/replicates]"
   ]
  },
  {
   "cell_type": "code",
   "execution_count": 5,
   "metadata": {},
   "outputs": [
    {
     "data": {
      "image/png": "[encoded data removed]",
      "text/plain": [
       "<Figure size 1080x288 with 2 Axes>"
      ]
     },
     "metadata": {
      "needs_background": "light"
     },
     "output_type": "display_data"
    }
   ],
   "source": [
    "#Probability of having a single component for a ER model with \n",
    "# fixed n and different values of p.\n",
    "fig, axs = plt.subplots(1,2,figsize=(15,4))\n",
    "\n",
    "axs[0].plot(list(as_connected.values()), label = r'observed $p_c$')\n",
    "axs[0].plot(critical_prob_func, label = r' $\\frac{2 \\ ln(n)}{n}$')\n",
    "axs[0].set_xlabel('N')\n",
    "axs[0].set_ylabel(r'$p_c$')\n",
    "axs[0].legend()\n",
    "\n",
    "axs[1].plot(probabilities, [list(tempi.values())[i][1]\n",
    "                        for i in range(len(tempi.values()))])\n",
    "axs[1].xaxis.set_major_locator(MultipleLocator(0.20))\n",
    "axs[1].xaxis.set_minor_locator(MultipleLocator(0.05))\n",
    "axs[1].set_xlim(0,1)\n",
    "axs[1].set_xlabel('p')\n",
    "axs[1].set_ylabel('probability')\n",
    "axs[1].set_title(f'n = {n}')\n",
    "\n",
    "plt.show()"
   ]
  },
  {
   "cell_type": "code",
   "execution_count": 6,
   "metadata": {},
   "outputs": [],
   "source": [
    "ER_Graphs = nx.read_gpickle(\"141120ER-Graphs.json\")\n",
    "p = list(ER_Graphs['G_p0'].keys())"
   ]
  },
  {
   "cell_type": "code",
   "execution_count": 7,
   "metadata": {},
   "outputs": [],
   "source": [
    "ref = p[0]\n",
    "exp_unnormL = SGD(ref, solve = \"standard\",\n",
    "                  G_ref = ER_Graphs['G_p0'][ref],\n",
    "                  G = ER_Graphs['G_p'])"
   ]
  },
  {
   "cell_type": "code",
   "execution_count": 8,
   "metadata": {},
   "outputs": [
    {
     "name": "stdout",
     "output_type": "stream",
     "text": [
      "Eigen-decomposition of reference model with ref param : 0.1 completed.\n"
     ]
    }
   ],
   "source": [
    "exp_unnormL.eigenspectrum_G_ref()\n"
   ]
  },
  {
   "cell_type": "code",
   "execution_count": 9,
   "metadata": {
    "scrolled": true
   },
   "outputs": [
    {
     "name": "stdout",
     "output_type": "stream",
     "text": [
      "Eigen-decomposition of the 2450 models completed.\n",
      "took 1.257 minutes.\n"
     ]
    }
   ],
   "source": [
    "exp_unnormL.eigenspectrum_G()"
   ]
  },
  {
   "cell_type": "code",
   "execution_count": 10,
   "metadata": {},
   "outputs": [
    {
     "name": "stdout",
     "output_type": "stream",
     "text": [
      "The spectral distance between G(0.1) and G(~) is an average  of the SGD between G(0.1) and the 50 replicate models for the 49 generations.\n",
      "\n",
      "d(G(0.1), G(0.02)): 0.06864098038757246, took: 0.1535 minutes\n",
      "d(G(0.1), G(0.04)): 0.06156488427456829, took: 0.1399 minutes\n",
      "d(G(0.1), G(0.06)): 0.058652395533067087, took: 0.1402 minutes\n",
      "d(G(0.1), G(0.08)): 0.05943278345563905, took: 0.1445 minutes\n",
      "d(G(0.1), G(0.1)): 0.05873103901825783, took: 0.1461 minutes\n",
      "d(G(0.1), G(0.12)): 0.05841421276879621, took: 0.1529 minutes\n",
      "d(G(0.1), G(0.14)): 0.05713870103394553, took: 0.1406 minutes\n",
      "d(G(0.1), G(0.16)): 0.057757591383097384, took: 0.1412 minutes\n",
      "d(G(0.1), G(0.18)): 0.05787370669428659, took: 0.1379 minutes\n",
      "d(G(0.1), G(0.2)): 0.05728822030889517, took: 0.1524 minutes\n",
      "d(G(0.1), G(0.22)): 0.05700499124937954, took: 0.1437 minutes\n",
      "d(G(0.1), G(0.24)): 0.05756467463005052, took: 0.141 minutes\n",
      "d(G(0.1), G(0.26)): 0.057341663602693646, took: 0.1409 minutes\n",
      "d(G(0.1), G(0.28)): 0.057121236103776694, took: 0.1511 minutes\n",
      "d(G(0.1), G(0.3)): 0.057862950943644326, took: 0.1421 minutes\n",
      "d(G(0.1), G(0.32)): 0.05687887024881479, took: 0.1381 minutes\n",
      "d(G(0.1), G(0.34)): 0.05798524643075896, took: 0.1439 minutes\n",
      "d(G(0.1), G(0.36)): 0.05721934892457881, took: 0.2025 minutes\n",
      "d(G(0.1), G(0.38)): 0.05707047723310245, took: 0.1705 minutes\n",
      "d(G(0.1), G(0.4)): 0.056655507363088525, took: 0.1488 minutes\n",
      "d(G(0.1), G(0.42)): 0.05681564818096982, took: 0.1486 minutes\n",
      "d(G(0.1), G(0.44)): 0.05697566811476006, took: 0.15 minutes\n",
      "d(G(0.1), G(0.46)): 0.05758656397220139, took: 0.149 minutes\n",
      "d(G(0.1), G(0.48)): 0.057357716055337245, took: 0.1524 minutes\n",
      "d(G(0.1), G(0.5)): 0.05716392032943145, took: 0.1507 minutes\n",
      "d(G(0.1), G(0.52)): 0.05737180455026435, took: 0.153 minutes\n",
      "d(G(0.1), G(0.54)): 0.05700702249668042, took: 0.1502 minutes\n",
      "d(G(0.1), G(0.56)): 0.057007515622041705, took: 0.1504 minutes\n",
      "d(G(0.1), G(0.58)): 0.057555244134042054, took: 0.1511 minutes\n",
      "d(G(0.1), G(0.6)): 0.05699314865331414, took: 0.1499 minutes\n",
      "d(G(0.1), G(0.62)): 0.057800698296038934, took: 0.1466 minutes\n",
      "d(G(0.1), G(0.64)): 0.05705826525972583, took: 0.1481 minutes\n",
      "d(G(0.1), G(0.66)): 0.05783517885229395, took: 0.1512 minutes\n",
      "d(G(0.1), G(0.68)): 0.05869468330982991, took: 0.1839 minutes\n",
      "d(G(0.1), G(0.7)): 0.05789561249354746, took: 0.1714 minutes\n",
      "d(G(0.1), G(0.72)): 0.05779580387143333, took: 0.1509 minutes\n",
      "d(G(0.1), G(0.74)): 0.058208060258503475, took: 0.1536 minutes\n",
      "d(G(0.1), G(0.76)): 0.05844747234656122, took: 0.1534 minutes\n",
      "d(G(0.1), G(0.78)): 0.05825480705663256, took: 0.1549 minutes\n",
      "d(G(0.1), G(0.8)): 0.05830193092376151, took: 0.1514 minutes\n",
      "d(G(0.1), G(0.82)): 0.058477086069919526, took: 0.1522 minutes\n",
      "d(G(0.1), G(0.84)): 0.058263505786274664, took: 0.1509 minutes\n",
      "d(G(0.1), G(0.86)): 0.05904687824570869, took: 0.1493 minutes\n",
      "d(G(0.1), G(0.88)): 0.05911600523834493, took: 0.1503 minutes\n",
      "d(G(0.1), G(0.9)): 0.06021851913034819, took: 0.149 minutes\n",
      "d(G(0.1), G(0.92)): 0.060249871524216854, took: 0.1487 minutes\n",
      "d(G(0.1), G(0.94)): 0.062254940617825, took: 0.1494 minutes\n",
      "d(G(0.1), G(0.96)): 0.0658545446452026, took: 0.1498 minutes\n",
      "d(G(0.1), G(0.98)): 0.07817043925060348, took: 0.1484 minutes\n",
      "\n",
      "Process took 0.14844729900360107 minutes with an average of 0.15082927496254853 per generation\n"
     ]
    }
   ],
   "source": [
    "exp_unnormL.fit_SGD()"
   ]
  },
  {
   "cell_type": "code",
   "execution_count": 11,
   "metadata": {},
   "outputs": [],
   "source": [
    "exp_sgd_dic = {}"
   ]
  },
  {
   "cell_type": "code",
   "execution_count": 12,
   "metadata": {},
   "outputs": [],
   "source": [
    "exp_sgd_dic[ref] = exp_unnormL.rep_sgd"
   ]
  },
  {
   "cell_type": "code",
   "execution_count": 22,
   "metadata": {},
   "outputs": [],
   "source": [
    "new_ref = p[1]\n",
    "exp_unnormL.reset_G_ref(new_ref, new_G_ref = ER_Graphs['G_p0'][new_ref])"
   ]
  },
  {
   "cell_type": "code",
   "execution_count": 23,
   "metadata": {},
   "outputs": [
    {
     "name": "stdout",
     "output_type": "stream",
     "text": [
      "Eigen-decomposition of reference model with ref param : 0.2 completed.\n"
     ]
    }
   ],
   "source": [
    "exp_unnormL.eigenspectrum_G_ref()"
   ]
  },
  {
   "cell_type": "code",
   "execution_count": 24,
   "metadata": {},
   "outputs": [
    {
     "name": "stdout",
     "output_type": "stream",
     "text": [
      "The spectral distance between G(0.2) and G(~) is an average  of the SGD between G(0.2) and the 50 replicate models for the 49 generations.\n",
      "\n",
      "d(G(0.2), G(0.02)): 0.06681721286972628, took: 0.1976 minutes\n",
      "d(G(0.2), G(0.04)): 0.06017503238737369, took: 0.2009 minutes\n",
      "d(G(0.2), G(0.06)): 0.058293685759121375, took: 0.1747 minutes\n",
      "d(G(0.2), G(0.08)): 0.05851652945545569, took: 0.1994 minutes\n",
      "d(G(0.2), G(0.1)): 0.057750589732369254, took: 0.21 minutes\n",
      "d(G(0.2), G(0.12)): 0.05763910099621659, took: 0.1851 minutes\n",
      "d(G(0.2), G(0.14)): 0.05674607669553804, took: 0.174 minutes\n",
      "d(G(0.2), G(0.16)): 0.05643952448402554, took: 0.2005 minutes\n",
      "d(G(0.2), G(0.18)): 0.05658970076961509, took: 0.199 minutes\n",
      "d(G(0.2), G(0.2)): 0.0570506038357964, took: 0.1967 minutes\n",
      "d(G(0.2), G(0.22)): 0.056792078572310875, took: 0.1748 minutes\n",
      "d(G(0.2), G(0.24)): 0.05744262331846314, took: 0.2027 minutes\n",
      "d(G(0.2), G(0.26)): 0.05627319387621501, took: 0.2109 minutes\n",
      "d(G(0.2), G(0.28)): 0.05669101673280025, took: 0.1819 minutes\n",
      "d(G(0.2), G(0.3)): 0.05685309862270582, took: 0.1842 minutes\n",
      "d(G(0.2), G(0.32)): 0.056792134298117185, took: 0.1813 minutes\n",
      "d(G(0.2), G(0.34)): 0.057468111176889984, took: 0.2103 minutes\n",
      "d(G(0.2), G(0.36)): 0.05660372078661065, took: 0.1977 minutes\n",
      "d(G(0.2), G(0.38)): 0.056674310532216304, took: 0.2028 minutes\n",
      "d(G(0.2), G(0.4)): 0.0564835912790332, took: 0.1918 minutes\n",
      "d(G(0.2), G(0.42)): 0.05715414643782131, took: 0.1987 minutes\n",
      "d(G(0.2), G(0.44)): 0.0565159142956456, took: 0.2061 minutes\n",
      "d(G(0.2), G(0.46)): 0.056739651397192115, took: 0.1921 minutes\n",
      "d(G(0.2), G(0.48)): 0.05740141314477455, took: 0.213 minutes\n",
      "d(G(0.2), G(0.5)): 0.05711559358343568, took: 0.2263 minutes\n",
      "d(G(0.2), G(0.52)): 0.0573198808277179, took: 0.2026 minutes\n",
      "d(G(0.2), G(0.54)): 0.057532187423186346, took: 0.187 minutes\n",
      "d(G(0.2), G(0.56)): 0.05698483913884334, took: 0.198 minutes\n",
      "d(G(0.2), G(0.58)): 0.0573285618999252, took: 0.1958 minutes\n",
      "d(G(0.2), G(0.6)): 0.057182842182402924, took: 0.2012 minutes\n",
      "d(G(0.2), G(0.62)): 0.05754203919085306, took: 0.177 minutes\n",
      "d(G(0.2), G(0.64)): 0.05782481220115558, took: 0.177 minutes\n",
      "d(G(0.2), G(0.66)): 0.05846514479524073, took: 0.1985 minutes\n",
      "d(G(0.2), G(0.68)): 0.058254798120289136, took: 0.1987 minutes\n",
      "d(G(0.2), G(0.7)): 0.0581098803395577, took: 0.2035 minutes\n",
      "d(G(0.2), G(0.72)): 0.05772710206870095, took: 0.1801 minutes\n",
      "d(G(0.2), G(0.74)): 0.05845559760125508, took: 0.2001 minutes\n",
      "d(G(0.2), G(0.76)): 0.05772352589540287, took: 0.1912 minutes\n",
      "d(G(0.2), G(0.78)): 0.05780209103952593, took: 0.1913 minutes\n",
      "d(G(0.2), G(0.8)): 0.05753165515894357, took: 0.1702 minutes\n",
      "d(G(0.2), G(0.82)): 0.05828955312159309, took: 0.1773 minutes\n",
      "d(G(0.2), G(0.84)): 0.05847565927861668, took: 0.1965 minutes\n",
      "d(G(0.2), G(0.86)): 0.058465437124134614, took: 0.1989 minutes\n",
      "d(G(0.2), G(0.88)): 0.05981257892366115, took: 0.186 minutes\n",
      "d(G(0.2), G(0.9)): 0.06082146058867734, took: 0.1799 minutes\n",
      "d(G(0.2), G(0.92)): 0.06031122736837936, took: 0.2019 minutes\n",
      "d(G(0.2), G(0.94)): 0.0624321340593608, took: 0.1848 minutes\n",
      "d(G(0.2), G(0.96)): 0.0656558415681419, took: 0.1993 minutes\n",
      "d(G(0.2), G(0.98)): 0.07711618439589919, took: 0.1784 minutes\n",
      "\n",
      "Process took 0.17837986946105958 minutes with an average of 0.19362333137161877 per generation\n"
     ]
    }
   ],
   "source": [
    "exp_unnormL.fit_SGD()"
   ]
  },
  {
   "cell_type": "code",
   "execution_count": 25,
   "metadata": {},
   "outputs": [],
   "source": [
    "exp_sgd_dic[new_ref] = exp_unnormL.rep_sgd"
   ]
  },
  {
   "cell_type": "code",
   "execution_count": 26,
   "metadata": {},
   "outputs": [],
   "source": [
    "new_ref = p[2]\n",
    "exp_unnormL.reset_G_ref(new_ref, new_G_ref = ER_Graphs['G_p0'][new_ref])"
   ]
  },
  {
   "cell_type": "code",
   "execution_count": 27,
   "metadata": {},
   "outputs": [
    {
     "name": "stdout",
     "output_type": "stream",
     "text": [
      "Eigen-decomposition of reference model with ref param : 0.3 completed.\n"
     ]
    }
   ],
   "source": [
    "exp_unnormL.eigenspectrum_G_ref()"
   ]
  },
  {
   "cell_type": "code",
   "execution_count": 28,
   "metadata": {},
   "outputs": [
    {
     "name": "stdout",
     "output_type": "stream",
     "text": [
      "The spectral distance between G(0.3) and G(~) is an average  of the SGD between G(0.3) and the 50 replicate models for the 49 generations.\n",
      "\n",
      "d(G(0.3), G(0.02)): 0.06711595310919223, took: 0.2618 minutes\n",
      "d(G(0.3), G(0.04)): 0.06253928934853939, took: 0.2366 minutes\n",
      "d(G(0.3), G(0.06)): 0.05992833746850175, took: 0.2154 minutes\n",
      "d(G(0.3), G(0.08)): 0.0588365606287633, took: 0.2264 minutes\n",
      "d(G(0.3), G(0.1)): 0.05840996560203696, took: 0.2408 minutes\n",
      "d(G(0.3), G(0.12)): 0.05835250687519737, took: 0.2236 minutes\n",
      "d(G(0.3), G(0.14)): 0.05729209907525056, took: 0.2367 minutes\n",
      "d(G(0.3), G(0.16)): 0.056940164310170134, took: 0.2026 minutes\n",
      "d(G(0.3), G(0.18)): 0.05762895319826291, took: 0.2012 minutes\n",
      "d(G(0.3), G(0.2)): 0.05769751603752578, took: 0.2014 minutes\n",
      "d(G(0.3), G(0.22)): 0.05644630403598061, took: 0.1887 minutes\n",
      "d(G(0.3), G(0.24)): 0.056696571048744954, took: 0.1866 minutes\n",
      "d(G(0.3), G(0.26)): 0.057647406130969026, took: 0.1925 minutes\n",
      "d(G(0.3), G(0.28)): 0.0572357946347321, took: 0.1868 minutes\n",
      "d(G(0.3), G(0.3)): 0.056485142474075586, took: 0.1804 minutes\n",
      "d(G(0.3), G(0.32)): 0.056989688202900964, took: 0.1776 minutes\n",
      "d(G(0.3), G(0.34)): 0.0565507305683933, took: 0.196 minutes\n",
      "d(G(0.3), G(0.36)): 0.05650104608020088, took: 0.1946 minutes\n",
      "d(G(0.3), G(0.38)): 0.05654481310728996, took: 0.1962 minutes\n",
      "d(G(0.3), G(0.4)): 0.05692010056993754, took: 0.192 minutes\n",
      "d(G(0.3), G(0.42)): 0.056732383096750647, took: 0.1841 minutes\n",
      "d(G(0.3), G(0.44)): 0.05554659468974668, took: 0.1826 minutes\n",
      "d(G(0.3), G(0.46)): 0.056493918968741105, took: 0.1893 minutes\n",
      "d(G(0.3), G(0.48)): 0.05650899183169792, took: 0.2103 minutes\n",
      "d(G(0.3), G(0.5)): 0.05689915251921396, took: 0.1945 minutes\n",
      "d(G(0.3), G(0.52)): 0.0568226252884386, took: 0.1932 minutes\n",
      "d(G(0.3), G(0.54)): 0.05660449565189299, took: 0.193 minutes\n",
      "d(G(0.3), G(0.56)): 0.05656274042686103, took: 0.1874 minutes\n",
      "d(G(0.3), G(0.58)): 0.05623022720221904, took: 0.1876 minutes\n",
      "d(G(0.3), G(0.6)): 0.05698269407951015, took: 0.1901 minutes\n",
      "d(G(0.3), G(0.62)): 0.05722290386944788, took: 0.1898 minutes\n",
      "d(G(0.3), G(0.64)): 0.056372902118725615, took: 0.1795 minutes\n",
      "d(G(0.3), G(0.66)): 0.05661727856237922, took: 0.1942 minutes\n",
      "d(G(0.3), G(0.68)): 0.05677630359664754, took: 0.1891 minutes\n",
      "d(G(0.3), G(0.7)): 0.057038131598920246, took: 0.1821 minutes\n",
      "d(G(0.3), G(0.72)): 0.05649871699041392, took: 0.2047 minutes\n",
      "d(G(0.3), G(0.74)): 0.056714309012722876, took: 0.1971 minutes\n",
      "d(G(0.3), G(0.76)): 0.05691811792964816, took: 0.1842 minutes\n",
      "d(G(0.3), G(0.78)): 0.05721943426180854, took: 0.1821 minutes\n",
      "d(G(0.3), G(0.8)): 0.05687579224242709, took: 0.1976 minutes\n",
      "d(G(0.3), G(0.82)): 0.056716396884375034, took: 0.1847 minutes\n",
      "d(G(0.3), G(0.84)): 0.05709576690528307, took: 0.1802 minutes\n",
      "d(G(0.3), G(0.86)): 0.05792390485722593, took: 0.1929 minutes\n",
      "d(G(0.3), G(0.88)): 0.058089297397973895, took: 0.1927 minutes\n",
      "d(G(0.3), G(0.9)): 0.05933050778076412, took: 0.1868 minutes\n",
      "d(G(0.3), G(0.92)): 0.05923050258002102, took: 0.1803 minutes\n",
      "d(G(0.3), G(0.94)): 0.06067191011399656, took: 0.1908 minutes\n",
      "d(G(0.3), G(0.96)): 0.06402817630100212, took: 0.1899 minutes\n",
      "d(G(0.3), G(0.98)): 0.07435152054076903, took: 0.1776 minutes\n",
      "\n",
      "Process took 0.17773128350575765 minutes with an average of 0.19646099019212787 per generation\n"
     ]
    }
   ],
   "source": [
    "exp_unnormL.fit_SGD()"
   ]
  },
  {
   "cell_type": "code",
   "execution_count": 29,
   "metadata": {},
   "outputs": [],
   "source": [
    "exp_sgd_dic[new_ref] = exp_unnormL.rep_sgd"
   ]
  },
  {
   "cell_type": "code",
   "execution_count": 30,
   "metadata": {},
   "outputs": [],
   "source": [
    "new_ref = p[3]\n",
    "exp_unnormL.reset_G_ref(new_ref, new_G_ref = ER_Graphs['G_p0'][new_ref])"
   ]
  },
  {
   "cell_type": "code",
   "execution_count": 31,
   "metadata": {},
   "outputs": [
    {
     "name": "stdout",
     "output_type": "stream",
     "text": [
      "Eigen-decomposition of reference model with ref param : 0.4 completed.\n"
     ]
    }
   ],
   "source": [
    "exp_unnormL.eigenspectrum_G_ref()"
   ]
  },
  {
   "cell_type": "code",
   "execution_count": 32,
   "metadata": {},
   "outputs": [
    {
     "name": "stdout",
     "output_type": "stream",
     "text": [
      "The spectral distance between G(0.4) and G(~) is an average  of the SGD between G(0.4) and the 50 replicate models for the 49 generations.\n",
      "\n",
      "d(G(0.4), G(0.02)): 0.06847047495646728, took: 0.1965 minutes\n",
      "d(G(0.4), G(0.04)): 0.06133900234052131, took: 0.1966 minutes\n",
      "d(G(0.4), G(0.06)): 0.05822544775256109, took: 0.1847 minutes\n",
      "d(G(0.4), G(0.08)): 0.05891109735689378, took: 0.1807 minutes\n",
      "d(G(0.4), G(0.1)): 0.05773295818974065, took: 0.2216 minutes\n",
      "d(G(0.4), G(0.12)): 0.057000020870156404, took: 0.2123 minutes\n",
      "d(G(0.4), G(0.14)): 0.056668711430813284, took: 0.1958 minutes\n",
      "d(G(0.4), G(0.16)): 0.05704143169881579, took: 0.2005 minutes\n",
      "d(G(0.4), G(0.18)): 0.05636381148441856, took: 0.1819 minutes\n",
      "d(G(0.4), G(0.2)): 0.05714457305813689, took: 0.1788 minutes\n",
      "d(G(0.4), G(0.22)): 0.056384510233118516, took: 0.1884 minutes\n",
      "d(G(0.4), G(0.24)): 0.05635740362121007, took: 0.1869 minutes\n",
      "d(G(0.4), G(0.26)): 0.056707562836649024, took: 0.1741 minutes\n",
      "d(G(0.4), G(0.28)): 0.0564137170132107, took: 0.1865 minutes\n",
      "d(G(0.4), G(0.3)): 0.056187332983833424, took: 0.1893 minutes\n",
      "d(G(0.4), G(0.32)): 0.0566844090648836, took: 0.1836 minutes\n",
      "d(G(0.4), G(0.34)): 0.05633713988466727, took: 0.1741 minutes\n",
      "d(G(0.4), G(0.36)): 0.056274474143718264, took: 0.1775 minutes\n",
      "d(G(0.4), G(0.38)): 0.055257073523533415, took: 0.1965 minutes\n",
      "d(G(0.4), G(0.4)): 0.0563210827500222, took: 0.179 minutes\n",
      "d(G(0.4), G(0.42)): 0.056252982829643895, took: 0.1704 minutes\n",
      "d(G(0.4), G(0.44)): 0.05601037753954576, took: 0.192 minutes\n",
      "d(G(0.4), G(0.46)): 0.05688343675540943, took: 0.1848 minutes\n",
      "d(G(0.4), G(0.48)): 0.05628147792480636, took: 0.1759 minutes\n",
      "d(G(0.4), G(0.5)): 0.05700326852893749, took: 0.1932 minutes\n",
      "d(G(0.4), G(0.52)): 0.05666291093425092, took: 0.1942 minutes\n",
      "d(G(0.4), G(0.54)): 0.05601716403912077, took: 0.1905 minutes\n",
      "d(G(0.4), G(0.56)): 0.0561253194102595, took: 0.18 minutes\n",
      "d(G(0.4), G(0.58)): 0.05657800014223033, took: 0.1964 minutes\n",
      "d(G(0.4), G(0.6)): 0.05656440937733897, took: 0.1849 minutes\n",
      "d(G(0.4), G(0.62)): 0.05686571944206898, took: 0.1787 minutes\n",
      "d(G(0.4), G(0.64)): 0.05666821233528996, took: 0.1939 minutes\n",
      "d(G(0.4), G(0.66)): 0.05718472566646817, took: 0.1958 minutes\n",
      "d(G(0.4), G(0.68)): 0.0578897404079839, took: 0.1766 minutes\n",
      "d(G(0.4), G(0.7)): 0.058120080139344624, took: 0.1864 minutes\n",
      "d(G(0.4), G(0.72)): 0.05729925015866301, took: 0.1848 minutes\n",
      "d(G(0.4), G(0.74)): 0.05766756822386618, took: 0.2001 minutes\n",
      "d(G(0.4), G(0.76)): 0.05734579853672333, took: 0.1803 minutes\n",
      "d(G(0.4), G(0.78)): 0.05712046291908328, took: 0.1836 minutes\n",
      "d(G(0.4), G(0.8)): 0.0567716075188683, took: 0.187 minutes\n",
      "d(G(0.4), G(0.82)): 0.057516603538928915, took: 0.1838 minutes\n",
      "d(G(0.4), G(0.84)): 0.058039156250497416, took: 0.1794 minutes\n",
      "d(G(0.4), G(0.86)): 0.05897385145285962, took: 0.1873 minutes\n",
      "d(G(0.4), G(0.88)): 0.05954489274411308, took: 0.1873 minutes\n",
      "d(G(0.4), G(0.9)): 0.06033119315445521, took: 0.1802 minutes\n",
      "d(G(0.4), G(0.92)): 0.060426142736962556, took: 0.1884 minutes\n",
      "d(G(0.4), G(0.94)): 0.06241305042776953, took: 0.1869 minutes\n",
      "d(G(0.4), G(0.96)): 0.06572133360268911, took: 0.1918 minutes\n",
      "d(G(0.4), G(0.98)): 0.07776053502684271, took: 0.3361 minutes\n",
      "\n",
      "Process took 0.3361790657043457 minutes with an average of 0.19053026064723527 per generation\n"
     ]
    }
   ],
   "source": [
    "exp_unnormL.fit_SGD()"
   ]
  },
  {
   "cell_type": "code",
   "execution_count": 33,
   "metadata": {},
   "outputs": [],
   "source": [
    "exp_sgd_dic[new_ref] = exp_unnormL.rep_sgd"
   ]
  },
  {
   "cell_type": "code",
   "execution_count": 34,
   "metadata": {},
   "outputs": [],
   "source": [
    "new_ref = p[4]\n",
    "exp_unnormL.reset_G_ref(new_ref, new_G_ref = ER_Graphs['G_p0'][new_ref])"
   ]
  },
  {
   "cell_type": "code",
   "execution_count": 35,
   "metadata": {},
   "outputs": [
    {
     "name": "stdout",
     "output_type": "stream",
     "text": [
      "Eigen-decomposition of reference model with ref param : 0.5 completed.\n"
     ]
    }
   ],
   "source": [
    "exp_unnormL.eigenspectrum_G_ref()"
   ]
  },
  {
   "cell_type": "code",
   "execution_count": 36,
   "metadata": {},
   "outputs": [
    {
     "name": "stdout",
     "output_type": "stream",
     "text": [
      "The spectral distance between G(0.5) and G(~) is an average  of the SGD between G(0.5) and the 50 replicate models for the 49 generations.\n",
      "\n",
      "d(G(0.5), G(0.02)): 0.0664037530041801, took: 0.1919 minutes\n",
      "d(G(0.5), G(0.04)): 0.060112972575460964, took: 0.2143 minutes\n",
      "d(G(0.5), G(0.06)): 0.0574831799014809, took: 0.2272 minutes\n",
      "d(G(0.5), G(0.08)): 0.05615188957500125, took: 0.194 minutes\n",
      "d(G(0.5), G(0.1)): 0.05486997796339318, took: 0.2677 minutes\n",
      "d(G(0.5), G(0.12)): 0.055283766503185304, took: 0.3304 minutes\n",
      "d(G(0.5), G(0.14)): 0.05329786953517052, took: 0.3726 minutes\n",
      "d(G(0.5), G(0.16)): 0.05422750304543333, took: 0.2791 minutes\n",
      "d(G(0.5), G(0.18)): 0.053800901600610185, took: 0.266 minutes\n",
      "d(G(0.5), G(0.2)): 0.05392076757073978, took: 0.2231 minutes\n",
      "d(G(0.5), G(0.22)): 0.05342608169427839, took: 0.2055 minutes\n",
      "d(G(0.5), G(0.24)): 0.05326485857949548, took: 0.2014 minutes\n",
      "d(G(0.5), G(0.26)): 0.053336011092831884, took: 0.1936 minutes\n",
      "d(G(0.5), G(0.28)): 0.053859285805096774, took: 0.2065 minutes\n",
      "d(G(0.5), G(0.3)): 0.05319700702696404, took: 0.2126 minutes\n",
      "d(G(0.5), G(0.32)): 0.05330270068048335, took: 0.1975 minutes\n",
      "d(G(0.5), G(0.34)): 0.05341814954690781, took: 0.2126 minutes\n",
      "d(G(0.5), G(0.36)): 0.05268617194941365, took: 0.2102 minutes\n",
      "d(G(0.5), G(0.38)): 0.05287174253336472, took: 0.1985 minutes\n",
      "d(G(0.5), G(0.4)): 0.05261584732491226, took: 0.196 minutes\n",
      "d(G(0.5), G(0.42)): 0.05288121325213155, took: 0.2115 minutes\n",
      "d(G(0.5), G(0.44)): 0.05309707236854957, took: 0.2083 minutes\n",
      "d(G(0.5), G(0.46)): 0.05307956175807264, took: 0.1965 minutes\n",
      "d(G(0.5), G(0.48)): 0.05291737545827112, took: 0.1975 minutes\n",
      "d(G(0.5), G(0.5)): 0.05315851671206302, took: 0.2123 minutes\n",
      "d(G(0.5), G(0.52)): 0.053426350985986554, took: 0.2231 minutes\n",
      "d(G(0.5), G(0.54)): 0.0527413216095695, took: 0.1977 minutes\n",
      "d(G(0.5), G(0.56)): 0.0530928494533069, took: 0.1997 minutes\n",
      "d(G(0.5), G(0.58)): 0.05291418958405743, took: 0.2063 minutes\n",
      "d(G(0.5), G(0.6)): 0.05315564181614239, took: 0.2021 minutes\n",
      "d(G(0.5), G(0.62)): 0.05302012433959479, took: 0.1988 minutes\n",
      "d(G(0.5), G(0.64)): 0.05283828088985316, took: 0.2656 minutes\n",
      "d(G(0.5), G(0.66)): 0.05349310834029217, took: 0.2857 minutes\n",
      "d(G(0.5), G(0.68)): 0.053537059844952724, took: 0.2259 minutes\n",
      "d(G(0.5), G(0.7)): 0.052486890485959205, took: 0.22 minutes\n",
      "d(G(0.5), G(0.72)): 0.053236061662258874, took: 0.2204 minutes\n",
      "d(G(0.5), G(0.74)): 0.05384602881749859, took: 0.2164 minutes\n",
      "d(G(0.5), G(0.76)): 0.053088062457032494, took: 0.2155 minutes\n",
      "d(G(0.5), G(0.78)): 0.05364173290100216, took: 0.1971 minutes\n",
      "d(G(0.5), G(0.8)): 0.05351726561874513, took: 0.2206 minutes\n",
      "d(G(0.5), G(0.82)): 0.05373944376080361, took: 0.2309 minutes\n",
      "d(G(0.5), G(0.84)): 0.05360067337367184, took: 0.2074 minutes\n",
      "d(G(0.5), G(0.86)): 0.0546676746076747, took: 0.2023 minutes\n",
      "d(G(0.5), G(0.88)): 0.054576689653384386, took: 0.24 minutes\n",
      "d(G(0.5), G(0.9)): 0.056028095991867755, took: 0.2216 minutes\n",
      "d(G(0.5), G(0.92)): 0.0556464653419996, took: 0.2551 minutes\n",
      "d(G(0.5), G(0.94)): 0.05767852565108778, took: 0.2398 minutes\n",
      "d(G(0.5), G(0.96)): 0.06176266883334128, took: 0.2293 minutes\n",
      "d(G(0.5), G(0.98)): 0.07418260068017901, took: 0.1992 minutes\n",
      "\n",
      "Process took 0.19919630289077758 minutes with an average of 0.22341451912510152 per generation\n"
     ]
    }
   ],
   "source": [
    "exp_unnormL.fit_SGD()"
   ]
  },
  {
   "cell_type": "code",
   "execution_count": 37,
   "metadata": {},
   "outputs": [],
   "source": [
    "exp_sgd_dic[new_ref] = exp_unnormL.rep_sgd"
   ]
  },
  {
   "cell_type": "code",
   "execution_count": 38,
   "metadata": {},
   "outputs": [],
   "source": [
    "new_ref = p[5]\n",
    "exp_unnormL.reset_G_ref(new_ref, new_G_ref = ER_Graphs['G_p0'][new_ref])"
   ]
  },
  {
   "cell_type": "code",
   "execution_count": 39,
   "metadata": {},
   "outputs": [
    {
     "name": "stdout",
     "output_type": "stream",
     "text": [
      "Eigen-decomposition of reference model with ref param : 0.6 completed.\n"
     ]
    }
   ],
   "source": [
    "exp_unnormL.eigenspectrum_G_ref()"
   ]
  },
  {
   "cell_type": "code",
   "execution_count": 41,
   "metadata": {},
   "outputs": [
    {
     "name": "stdout",
     "output_type": "stream",
     "text": [
      "The spectral distance between G(0.6) and G(~) is an average  of the SGD between G(0.6) and the 50 replicate models for the 49 generations.\n",
      "\n",
      "d(G(0.6), G(0.02)): 0.06707638772461481, took: 0.2366 minutes\n",
      "d(G(0.6), G(0.04)): 0.06010314696191795, took: 0.2153 minutes\n",
      "d(G(0.6), G(0.06)): 0.057218872247527745, took: 0.3107 minutes\n",
      "d(G(0.6), G(0.08)): 0.057151613222495144, took: 0.2569 minutes\n",
      "d(G(0.6), G(0.1)): 0.05705390481971748, took: 0.2537 minutes\n",
      "d(G(0.6), G(0.12)): 0.056872548320841716, took: 0.209 minutes\n",
      "d(G(0.6), G(0.14)): 0.05643167047245762, took: 0.2435 minutes\n",
      "d(G(0.6), G(0.16)): 0.05583540771391307, took: 0.2207 minutes\n",
      "d(G(0.6), G(0.18)): 0.05594860712255795, took: 0.24 minutes\n",
      "d(G(0.6), G(0.2)): 0.05640599608865288, took: 0.2459 minutes\n",
      "d(G(0.6), G(0.22)): 0.05546643719993945, took: 0.2312 minutes\n",
      "d(G(0.6), G(0.24)): 0.055935481783277806, took: 0.2123 minutes\n",
      "d(G(0.6), G(0.26)): 0.05595184179610999, took: 0.1911 minutes\n",
      "d(G(0.6), G(0.28)): 0.05618495669463248, took: 0.2158 minutes\n",
      "d(G(0.6), G(0.3)): 0.055888471459072095, took: 0.2304 minutes\n",
      "d(G(0.6), G(0.32)): 0.055882593884061096, took: 0.2079 minutes\n",
      "d(G(0.6), G(0.34)): 0.056458484323012946, took: 0.224 minutes\n",
      "d(G(0.6), G(0.36)): 0.05600495924368268, took: 0.2316 minutes\n",
      "d(G(0.6), G(0.38)): 0.05521145266857355, took: 0.2125 minutes\n",
      "d(G(0.6), G(0.4)): 0.05577638814646692, took: 0.2034 minutes\n",
      "d(G(0.6), G(0.42)): 0.05538331071123837, took: 0.2147 minutes\n",
      "d(G(0.6), G(0.44)): 0.05559087326670026, took: 0.2156 minutes\n",
      "d(G(0.6), G(0.46)): 0.056657471492567835, took: 0.2145 minutes\n",
      "d(G(0.6), G(0.48)): 0.05647281898896121, took: 0.1991 minutes\n",
      "d(G(0.6), G(0.5)): 0.05651990910143615, took: 0.2105 minutes\n",
      "d(G(0.6), G(0.52)): 0.05642447874890957, took: 0.2185 minutes\n",
      "d(G(0.6), G(0.54)): 0.05694668109518956, took: 0.2036 minutes\n",
      "d(G(0.6), G(0.56)): 0.05577463191068691, took: 0.1959 minutes\n",
      "d(G(0.6), G(0.58)): 0.05614756179392957, took: 0.2126 minutes\n",
      "d(G(0.6), G(0.6)): 0.05571943302337482, took: 0.2105 minutes\n",
      "d(G(0.6), G(0.62)): 0.05630447009880634, took: 0.2031 minutes\n",
      "d(G(0.6), G(0.64)): 0.056521685825272866, took: 0.1922 minutes\n",
      "d(G(0.6), G(0.66)): 0.05716521197948644, took: 0.217 minutes\n",
      "d(G(0.6), G(0.68)): 0.05686524578908291, took: 0.2529 minutes\n",
      "d(G(0.6), G(0.7)): 0.05736233599841047, took: 0.3193 minutes\n",
      "d(G(0.6), G(0.72)): 0.05709648077390781, took: 0.2664 minutes\n",
      "d(G(0.6), G(0.74)): 0.0574198835472933, took: 0.2283 minutes\n",
      "d(G(0.6), G(0.76)): 0.057148491412125024, took: 0.2034 minutes\n",
      "d(G(0.6), G(0.78)): 0.05675794309290606, took: 0.2072 minutes\n",
      "d(G(0.6), G(0.8)): 0.057434575246985906, took: 0.2218 minutes\n",
      "d(G(0.6), G(0.82)): 0.05776860206127958, took: 0.2178 minutes\n",
      "d(G(0.6), G(0.84)): 0.05772878133632507, took: 0.1995 minutes\n",
      "d(G(0.6), G(0.86)): 0.058615647223356514, took: 0.2159 minutes\n",
      "d(G(0.6), G(0.88)): 0.058693413811494025, took: 0.2272 minutes\n",
      "d(G(0.6), G(0.9)): 0.05915902232637396, took: 0.2153 minutes\n",
      "d(G(0.6), G(0.92)): 0.05959512806664838, took: 0.2087 minutes\n",
      "d(G(0.6), G(0.94)): 0.06211966203347507, took: 0.2197 minutes\n",
      "d(G(0.6), G(0.96)): 0.06524687320236841, took: 0.221 minutes\n",
      "d(G(0.6), G(0.98)): 0.07515489981287979, took: 0.2174 minutes\n",
      "\n",
      "Process took 0.2174668788909912 minutes with an average of 0.2233024890730981 per generation\n"
     ]
    }
   ],
   "source": [
    "exp_unnormL.fit_SGD()"
   ]
  },
  {
   "cell_type": "code",
   "execution_count": 42,
   "metadata": {},
   "outputs": [],
   "source": [
    "exp_sgd_dic[new_ref] = exp_unnormL.rep_sgd"
   ]
  },
  {
   "cell_type": "code",
   "execution_count": 45,
   "metadata": {},
   "outputs": [],
   "source": [
    "new_ref = p[6]\n",
    "exp_unnormL.reset_G_ref(new_ref, new_G_ref = ER_Graphs['G_p0'][new_ref])"
   ]
  },
  {
   "cell_type": "code",
   "execution_count": 46,
   "metadata": {},
   "outputs": [
    {
     "name": "stdout",
     "output_type": "stream",
     "text": [
      "Eigen-decomposition of reference model with ref param : 0.7 completed.\n"
     ]
    }
   ],
   "source": [
    "exp_unnormL.eigenspectrum_G_ref()"
   ]
  },
  {
   "cell_type": "code",
   "execution_count": 47,
   "metadata": {},
   "outputs": [
    {
     "name": "stdout",
     "output_type": "stream",
     "text": [
      "The spectral distance between G(0.7) and G(~) is an average  of the SGD between G(0.7) and the 50 replicate models for the 49 generations.\n",
      "\n",
      "d(G(0.7), G(0.02)): 0.06760162469300982, took: 0.2167 minutes\n",
      "d(G(0.7), G(0.04)): 0.06253768315848525, took: 0.2181 minutes\n",
      "d(G(0.7), G(0.06)): 0.060185206682805, took: 0.2536 minutes\n",
      "d(G(0.7), G(0.08)): 0.05921446629635709, took: 0.2709 minutes\n",
      "d(G(0.7), G(0.1)): 0.05821947631491499, took: 0.2569 minutes\n",
      "d(G(0.7), G(0.12)): 0.05827864342973508, took: 0.2535 minutes\n",
      "d(G(0.7), G(0.14)): 0.057887945162327974, took: 0.2244 minutes\n",
      "d(G(0.7), G(0.16)): 0.058043956536424135, took: 0.2471 minutes\n",
      "d(G(0.7), G(0.18)): 0.057700164131761864, took: 0.3004 minutes\n",
      "d(G(0.7), G(0.2)): 0.05796739899402974, took: 0.4454 minutes\n",
      "d(G(0.7), G(0.22)): 0.05687238210159297, took: 0.423 minutes\n",
      "d(G(0.7), G(0.24)): 0.05727694029853916, took: 0.2888 minutes\n",
      "d(G(0.7), G(0.26)): 0.058177026967126046, took: 0.2393 minutes\n",
      "d(G(0.7), G(0.28)): 0.057436458095283, took: 0.2249 minutes\n",
      "d(G(0.7), G(0.3)): 0.05743368792075401, took: 0.2421 minutes\n",
      "d(G(0.7), G(0.32)): 0.057146594359587494, took: 0.3732 minutes\n",
      "d(G(0.7), G(0.34)): 0.05738571554534663, took: 0.38 minutes\n",
      "d(G(0.7), G(0.36)): 0.05690457311494239, took: 0.288 minutes\n",
      "d(G(0.7), G(0.38)): 0.05727604455272298, took: 0.1996 minutes\n",
      "d(G(0.7), G(0.4)): 0.056233396909541634, took: 0.1833 minutes\n",
      "d(G(0.7), G(0.42)): 0.05692241842935679, took: 0.1805 minutes\n",
      "d(G(0.7), G(0.44)): 0.05655997384300575, took: 0.2025 minutes\n",
      "d(G(0.7), G(0.46)): 0.05684103047118401, took: 0.1865 minutes\n",
      "d(G(0.7), G(0.48)): 0.05731278654685359, took: 0.1963 minutes\n",
      "d(G(0.7), G(0.5)): 0.057646593751657774, took: 0.1959 minutes\n",
      "d(G(0.7), G(0.52)): 0.057782733251894154, took: 0.203 minutes\n",
      "d(G(0.7), G(0.54)): 0.05646321420403831, took: 0.1903 minutes\n",
      "d(G(0.7), G(0.56)): 0.057931488889368714, took: 0.1876 minutes\n",
      "d(G(0.7), G(0.58)): 0.05685595272822548, took: 0.1889 minutes\n",
      "d(G(0.7), G(0.6)): 0.058089491309421926, took: 0.2021 minutes\n",
      "d(G(0.7), G(0.62)): 0.057433428271121086, took: 0.2639 minutes\n",
      "d(G(0.7), G(0.64)): 0.05689323364443842, took: 0.2774 minutes\n",
      "d(G(0.7), G(0.66)): 0.057613676990865365, took: 0.2337 minutes\n",
      "d(G(0.7), G(0.68)): 0.05789294788784992, took: 0.2087 minutes\n",
      "d(G(0.7), G(0.7)): 0.057819955466872894, took: 0.2406 minutes\n",
      "d(G(0.7), G(0.72)): 0.05723326652981402, took: 0.2397 minutes\n",
      "d(G(0.7), G(0.74)): 0.0578987684057158, took: 0.2316 minutes\n",
      "d(G(0.7), G(0.76)): 0.057699817887662964, took: 0.214 minutes\n",
      "d(G(0.7), G(0.78)): 0.058102636584884036, took: 0.2277 minutes\n",
      "d(G(0.7), G(0.8)): 0.058262692345992795, took: 0.2349 minutes\n",
      "d(G(0.7), G(0.82)): 0.057853809576618, took: 0.2108 minutes\n",
      "d(G(0.7), G(0.84)): 0.05804440547240583, took: 0.2155 minutes\n",
      "d(G(0.7), G(0.86)): 0.05943929816499488, took: 0.2205 minutes\n",
      "d(G(0.7), G(0.88)): 0.05890676472069461, took: 0.2082 minutes\n",
      "d(G(0.7), G(0.9)): 0.060061538603765785, took: 0.2419 minutes\n",
      "d(G(0.7), G(0.92)): 0.05992174681074019, took: 0.2555 minutes\n",
      "d(G(0.7), G(0.94)): 0.06222547961693113, took: 0.2423 minutes\n",
      "d(G(0.7), G(0.96)): 0.06538434867754721, took: 0.2087 minutes\n",
      "d(G(0.7), G(0.98)): 0.07679736806930645, took: 0.2006 minutes\n",
      "\n",
      "Process took 0.20085328420003254 minutes with an average of 0.24161293912096088 per generation\n"
     ]
    }
   ],
   "source": [
    "exp_unnormL.fit_SGD()"
   ]
  },
  {
   "cell_type": "code",
   "execution_count": 48,
   "metadata": {},
   "outputs": [],
   "source": [
    "exp_sgd_dic[new_ref] = exp_unnormL.rep_sgd"
   ]
  },
  {
   "cell_type": "code",
   "execution_count": 49,
   "metadata": {},
   "outputs": [],
   "source": [
    "new_ref = p[7]\n",
    "exp_unnormL.reset_G_ref(new_ref, new_G_ref = ER_Graphs['G_p0'][new_ref])"
   ]
  },
  {
   "cell_type": "code",
   "execution_count": 50,
   "metadata": {},
   "outputs": [
    {
     "name": "stdout",
     "output_type": "stream",
     "text": [
      "Eigen-decomposition of reference model with ref param : 0.8 completed.\n"
     ]
    }
   ],
   "source": [
    "exp_unnormL.eigenspectrum_G_ref()"
   ]
  },
  {
   "cell_type": "code",
   "execution_count": 51,
   "metadata": {},
   "outputs": [
    {
     "name": "stdout",
     "output_type": "stream",
     "text": [
      "The spectral distance between G(0.8) and G(~) is an average  of the SGD between G(0.8) and the 50 replicate models for the 49 generations.\n",
      "\n",
      "d(G(0.8), G(0.02)): 0.0673483274381817, took: 0.2632 minutes\n",
      "d(G(0.8), G(0.04)): 0.060825196494487754, took: 0.2259 minutes\n",
      "d(G(0.8), G(0.06)): 0.058804078279977016, took: 0.2013 minutes\n",
      "d(G(0.8), G(0.08)): 0.05803448571790654, took: 0.2108 minutes\n",
      "d(G(0.8), G(0.1)): 0.05698068132846679, took: 0.2371 minutes\n",
      "d(G(0.8), G(0.12)): 0.05611221871862124, took: 0.2287 minutes\n",
      "d(G(0.8), G(0.14)): 0.056083401112870745, took: 0.2156 minutes\n",
      "d(G(0.8), G(0.16)): 0.05580595561459207, took: 0.2215 minutes\n",
      "d(G(0.8), G(0.18)): 0.05556139510580013, took: 0.2526 minutes\n",
      "d(G(0.8), G(0.2)): 0.055467963460842686, took: 0.218 minutes\n",
      "d(G(0.8), G(0.22)): 0.05526273261630507, took: 0.268 minutes\n",
      "d(G(0.8), G(0.24)): 0.05550931747604828, took: 0.2528 minutes\n",
      "d(G(0.8), G(0.26)): 0.05586086196996362, took: 0.2261 minutes\n",
      "d(G(0.8), G(0.28)): 0.05598734955748373, took: 0.1932 minutes\n",
      "d(G(0.8), G(0.3)): 0.05441047972775446, took: 0.2151 minutes\n",
      "d(G(0.8), G(0.32)): 0.05502104900352735, took: 0.2322 minutes\n",
      "d(G(0.8), G(0.34)): 0.055472529645974294, took: 0.2146 minutes\n",
      "d(G(0.8), G(0.36)): 0.05495926607804779, took: 0.2089 minutes\n",
      "d(G(0.8), G(0.38)): 0.05494293806059825, took: 0.2154 minutes\n",
      "d(G(0.8), G(0.4)): 0.05441535512977385, took: 0.215 minutes\n",
      "d(G(0.8), G(0.42)): 0.05488666055932192, took: 0.1985 minutes\n",
      "d(G(0.8), G(0.44)): 0.0548168354060068, took: 0.2007 minutes\n",
      "d(G(0.8), G(0.46)): 0.05529564838299485, took: 0.221 minutes\n",
      "d(G(0.8), G(0.48)): 0.055124282599971465, took: 0.2109 minutes\n",
      "d(G(0.8), G(0.5)): 0.05579717830133255, took: 0.1932 minutes\n",
      "d(G(0.8), G(0.52)): 0.05583611827303521, took: 0.2016 minutes\n",
      "d(G(0.8), G(0.54)): 0.05474202200750647, took: 0.2437 minutes\n",
      "d(G(0.8), G(0.56)): 0.05539302506524746, took: 0.2374 minutes\n",
      "d(G(0.8), G(0.58)): 0.054953788536883555, took: 0.1907 minutes\n",
      "d(G(0.8), G(0.6)): 0.05554931301275747, took: 0.1986 minutes\n",
      "d(G(0.8), G(0.62)): 0.05589906173235299, took: 0.2508 minutes\n",
      "d(G(0.8), G(0.64)): 0.05558612046295642, took: 0.2041 minutes\n",
      "d(G(0.8), G(0.66)): 0.05628980041767437, took: 0.1999 minutes\n",
      "d(G(0.8), G(0.68)): 0.05557516983015378, took: 0.2024 minutes\n",
      "d(G(0.8), G(0.7)): 0.05602026004493512, took: 0.2281 minutes\n",
      "d(G(0.8), G(0.72)): 0.0558747948527727, took: 0.2299 minutes\n",
      "d(G(0.8), G(0.74)): 0.05639997808760932, took: 0.2064 minutes\n",
      "d(G(0.8), G(0.76)): 0.05538917849179535, took: 0.2103 minutes\n",
      "d(G(0.8), G(0.78)): 0.05665279597439579, took: 0.2297 minutes\n",
      "d(G(0.8), G(0.8)): 0.05590280811989494, took: 0.2587 minutes\n",
      "d(G(0.8), G(0.82)): 0.05655601440320881, took: 0.2212 minutes\n",
      "d(G(0.8), G(0.84)): 0.05659206922312916, took: 0.2241 minutes\n",
      "d(G(0.8), G(0.86)): 0.056977849633587895, took: 0.2106 minutes\n",
      "d(G(0.8), G(0.88)): 0.05763580203005593, took: 0.1962 minutes\n",
      "d(G(0.8), G(0.9)): 0.05840047183794819, took: 0.291 minutes\n",
      "d(G(0.8), G(0.92)): 0.05862447012846541, took: 0.2473 minutes\n",
      "d(G(0.8), G(0.94)): 0.060112505688087604, took: 0.2281 minutes\n",
      "d(G(0.8), G(0.96)): 0.06331595546082328, took: 0.1895 minutes\n",
      "d(G(0.8), G(0.98)): 0.07580014841582935, took: 0.2002 minutes\n",
      "\n",
      "Process took 0.20027806758880615 minutes with an average of 0.22124531682656737 per generation\n"
     ]
    }
   ],
   "source": [
    "exp_unnormL.fit_SGD()"
   ]
  },
  {
   "cell_type": "code",
   "execution_count": 52,
   "metadata": {},
   "outputs": [],
   "source": [
    "exp_sgd_dic[new_ref] = exp_unnormL.rep_sgd"
   ]
  },
  {
   "cell_type": "code",
   "execution_count": 53,
   "metadata": {},
   "outputs": [],
   "source": [
    "new_ref = p[8]\n",
    "exp_unnormL.reset_G_ref(new_ref, new_G_ref = ER_Graphs['G_p0'][new_ref])"
   ]
  },
  {
   "cell_type": "code",
   "execution_count": 54,
   "metadata": {},
   "outputs": [
    {
     "name": "stdout",
     "output_type": "stream",
     "text": [
      "Eigen-decomposition of reference model with ref param : 0.9 completed.\n"
     ]
    }
   ],
   "source": [
    "exp_unnormL.eigenspectrum_G_ref()"
   ]
  },
  {
   "cell_type": "code",
   "execution_count": 55,
   "metadata": {},
   "outputs": [
    {
     "name": "stdout",
     "output_type": "stream",
     "text": [
      "The spectral distance between G(0.9) and G(~) is an average  of the SGD between G(0.9) and the 50 replicate models for the 49 generations.\n",
      "\n",
      "d(G(0.9), G(0.02)): 0.07173341666693708, took: 0.2001 minutes\n",
      "d(G(0.9), G(0.04)): 0.06542587593402438, took: 0.1773 minutes\n",
      "d(G(0.9), G(0.06)): 0.0631248295798133, took: 0.1759 minutes\n",
      "d(G(0.9), G(0.08)): 0.06133622486835238, took: 0.2372 minutes\n",
      "d(G(0.9), G(0.1)): 0.06089109090039128, took: 0.2519 minutes\n",
      "d(G(0.9), G(0.12)): 0.06049260351657252, took: 0.2452 minutes\n",
      "d(G(0.9), G(0.14)): 0.05910196515140281, took: 0.2222 minutes\n",
      "d(G(0.9), G(0.16)): 0.05940273991211351, took: 0.1952 minutes\n",
      "d(G(0.9), G(0.18)): 0.058605211737983956, took: 0.2585 minutes\n",
      "d(G(0.9), G(0.2)): 0.059020554524503374, took: 0.2586 minutes\n",
      "d(G(0.9), G(0.22)): 0.058827386388576874, took: 0.2483 minutes\n",
      "d(G(0.9), G(0.24)): 0.05855352169350689, took: 0.2225 minutes\n",
      "d(G(0.9), G(0.26)): 0.05918922654135485, took: 0.1976 minutes\n",
      "d(G(0.9), G(0.28)): 0.058127258721831165, took: 0.1971 minutes\n",
      "d(G(0.9), G(0.3)): 0.058303567346188336, took: 0.2441 minutes\n",
      "d(G(0.9), G(0.32)): 0.057957630497069916, took: 0.1993 minutes\n",
      "d(G(0.9), G(0.34)): 0.05768436167219947, took: 0.1884 minutes\n",
      "d(G(0.9), G(0.36)): 0.057836651554367784, took: 0.2431 minutes\n",
      "d(G(0.9), G(0.38)): 0.05796357270827992, took: 0.209 minutes\n",
      "d(G(0.9), G(0.4)): 0.05833900190284513, took: 0.192 minutes\n",
      "d(G(0.9), G(0.42)): 0.05799001268241571, took: 0.1989 minutes\n",
      "d(G(0.9), G(0.44)): 0.05739495274328922, took: 0.2222 minutes\n",
      "d(G(0.9), G(0.46)): 0.05781535533259188, took: 0.2278 minutes\n",
      "d(G(0.9), G(0.48)): 0.058256564587079146, took: 0.2021 minutes\n",
      "d(G(0.9), G(0.5)): 0.05753147839348612, took: 0.229 minutes\n",
      "d(G(0.9), G(0.52)): 0.05811013637924984, took: 0.2143 minutes\n",
      "d(G(0.9), G(0.54)): 0.05774585697471363, took: 0.2107 minutes\n",
      "d(G(0.9), G(0.56)): 0.05807059003674107, took: 0.2596 minutes\n",
      "d(G(0.9), G(0.58)): 0.05787421029072941, took: 0.2166 minutes\n",
      "d(G(0.9), G(0.6)): 0.05822422001425967, took: 0.2625 minutes\n",
      "d(G(0.9), G(0.62)): 0.058665208789938125, took: 0.2346 minutes\n",
      "d(G(0.9), G(0.64)): 0.05753586182509715, took: 0.2289 minutes\n",
      "d(G(0.9), G(0.66)): 0.057405529851460975, took: 0.2272 minutes\n",
      "d(G(0.9), G(0.68)): 0.0577870584381888, took: 0.2091 minutes\n",
      "d(G(0.9), G(0.7)): 0.05680082001101518, took: 0.2159 minutes\n",
      "d(G(0.9), G(0.72)): 0.057438660458966576, took: 0.227 minutes\n",
      "d(G(0.9), G(0.74)): 0.057932341007150556, took: 0.2456 minutes\n",
      "d(G(0.9), G(0.76)): 0.0568967915394332, took: 0.2065 minutes\n",
      "d(G(0.9), G(0.78)): 0.05801472727021514, took: 0.2278 minutes\n",
      "d(G(0.9), G(0.8)): 0.05796705586225778, took: 0.2157 minutes\n",
      "d(G(0.9), G(0.82)): 0.05702089014002052, took: 0.2016 minutes\n",
      "d(G(0.9), G(0.84)): 0.05761044259321373, took: 0.2221 minutes\n",
      "d(G(0.9), G(0.86)): 0.05763368323855735, took: 0.2198 minutes\n",
      "d(G(0.9), G(0.88)): 0.058533507876873926, took: 0.2252 minutes\n",
      "d(G(0.9), G(0.9)): 0.05856788181124781, took: 0.3611 minutes\n",
      "d(G(0.9), G(0.92)): 0.058717466216235914, took: 0.2566 minutes\n",
      "d(G(0.9), G(0.94)): 0.0590538342593056, took: 0.2338 minutes\n",
      "d(G(0.9), G(0.96)): 0.0628320846312372, took: 0.2047 minutes\n",
      "d(G(0.9), G(0.98)): 0.07378474844274863, took: 0.1982 minutes\n",
      "\n",
      "Process took 0.198278550306956 minutes with an average of 0.2238455902962458 per generation\n"
     ]
    }
   ],
   "source": [
    "exp_unnormL.fit_SGD()"
   ]
  },
  {
   "cell_type": "code",
   "execution_count": 56,
   "metadata": {},
   "outputs": [],
   "source": [
    "exp_sgd_dic[new_ref] = exp_unnormL.rep_sgd"
   ]
  },
  {
   "cell_type": "code",
   "execution_count": 62,
   "metadata": {},
   "outputs": [],
   "source": [
    "mean_dic = {}\n",
    "std_dic = {}\n",
    "A_dic_ref = {}\n",
    "for key, value in exp_sgd_dic.items():\n",
    "    A_dic_ref[key] = (nx.adjacency_matrix(ER_Graphs['G_p0'][key])).todense()\n",
    "    mean_dic[key] = [np.mean(value[i]) for i in exp_unnormL.keys]\n",
    "    std_dic[key] = [np.std(value[i]) for i in exp_unnormL.keys]"
   ]
  },
  {
   "cell_type": "code",
   "execution_count": 64,
   "metadata": {},
   "outputs": [
    {
     "data": {
      "image/png": "[encoded data removed]",
      "text/plain": [
       "<Figure size 864x576 with 9 Axes>"
      ]
     },
     "metadata": {
      "needs_background": "light"
     },
     "output_type": "display_data"
    }
   ],
   "source": [
    "p0_list = list(exp_sgd_dic.keys())\n",
    "p0=p0_list[0]\n",
    "fig = plt.figure(figsize=(12, 8))\n",
    "for i in range(9):\n",
    "    p0=p0_list[i]\n",
    "    plt.subplot(3, 3, i+1)\n",
    "    plt.tight_layout()\n",
    "    plt.title('p_0 = ' + str(p0))\n",
    "    plt.xlabel('p')\n",
    "    plt.ylabel('SGD')\n",
    "    plt.plot(exp_unnormL.keys, mean_dic[p0], '-o', color = 'red')\n",
    "    plt.axvline(x = p0, color = 'blue', linestyle = '--', label = \"p_0 = \"+ str(p0))\n",
    "    plt.fill_between(exp_unnormL.keys, [mean_dic[p0][i] - std_dic[p0][i] for i in range(len(mean_dic[p0]))],\n",
    "                     [mean_dic[p0][i] + std_dic[p0][i] for i in range(len(std_dic[p0]))], \n",
    "                     color = 'lightgrey')\n"
   ]
  },
  {
   "cell_type": "code",
   "execution_count": null,
   "metadata": {},
   "outputs": [],
   "source": []
  }
 ],
 "metadata": {
  "kernelspec": {
   "display_name": "Python 3",
   "language": "python",
   "name": "python3"
  },
  "language_info": {
   "codemirror_mode": {
    "name": "ipython",
    "version": 3
   },
   "file_extension": ".py",
   "mimetype": "text/x-python",
   "name": "python",
   "nbconvert_exporter": "python",
   "pygments_lexer": "ipython3",
   "version": "3.6.8"
  }
 },
 "nbformat": 4,
 "nbformat_minor": 2
}
