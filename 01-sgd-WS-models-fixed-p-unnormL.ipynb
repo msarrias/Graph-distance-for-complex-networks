{
 "cells": [
  {
   "cell_type": "code",
   "execution_count": 1,
   "metadata": {},
   "outputs": [],
   "source": [
    "import numpy as np\n",
    "import networkx as nx\n",
    "from scipy.integrate import quad\n",
    "import scipy.linalg as la\n",
    "from matplotlib import pyplot as plt\n",
    "import fun as f\n",
    "import random, time, math, json\n",
    "from collections import Counter\n",
    "from SGD import SGD"
   ]
  },
  {
   "cell_type": "code",
   "execution_count": 2,
   "metadata": {},
   "outputs": [],
   "source": [
    "exp_sgd_dic = {}\n",
    "readWSmodels = nx.read_gpickle(\"081120_WS_models.json\")"
   ]
  },
  {
   "cell_type": "code",
   "execution_count": 3,
   "metadata": {},
   "outputs": [],
   "source": [
    "exp_unnormL = SGD_WSmodels(p0 = 0.1,\n",
    "                           G_p0 = readWSmodels['G_p0'][0.1],\n",
    "                           G_p = readWSmodels['G_p'],\n",
    "                           k = 10,\n",
    "                           solve = \"standard\")"
   ]
  },
  {
   "cell_type": "code",
   "execution_count": 4,
   "metadata": {},
   "outputs": [
    {
     "name": "stdout",
     "output_type": "stream",
     "text": [
      "Eigen-decomposition of reference model with rewiring prob p : 0.1 completed.\n"
     ]
    }
   ],
   "source": [
    "exp_unnormL.eigenspectrum_G_p0()\n"
   ]
  },
  {
   "cell_type": "code",
   "execution_count": 5,
   "metadata": {},
   "outputs": [
    {
     "name": "stdout",
     "output_type": "stream",
     "text": [
      "Eigen-decomposition of the 5000 WS models completed.\n",
      "took 3.8 minutes.\n"
     ]
    }
   ],
   "source": [
    "exp_unnormL.eigenspectrum_G_p()"
   ]
  },
  {
   "cell_type": "markdown",
   "metadata": {},
   "source": [
    "## SGD between G(0.1) and G(p)"
   ]
  },
  {
   "cell_type": "code",
   "execution_count": 6,
   "metadata": {},
   "outputs": [
    {
     "name": "stdout",
     "output_type": "stream",
     "text": [
      "The spectral distance between G(0.1) and G(p) is an average  of the SGD between G(0.1) and the 100 replicate models generated per each of the 50 rewiring probability.\n",
      "d(G(0.1), G(0.02)): 0.05532587786770878, took: 2.6629 minutes\n",
      "d(G(0.1), G(0.04)): 0.05177043811091202, took: 2.5936 minutes\n",
      "d(G(0.1), G(0.06)): 0.05060958092012184, took: 2.5525 minutes\n",
      "d(G(0.1), G(0.08)): 0.04960686630171773, took: 2.432 minutes\n",
      "d(G(0.1), G(0.1)): 0.049527114359612996, took: 2.5364 minutes\n",
      "d(G(0.1), G(0.12)): 0.049916740717189934, took: 2.5468 minutes\n",
      "d(G(0.1), G(0.14)): 0.05006771994879362, took: 2.2407 minutes\n",
      "d(G(0.1), G(0.16)): 0.050447383137612725, took: 2.2239 minutes\n",
      "d(G(0.1), G(0.18)): 0.050646453141269164, took: 2.223 minutes\n",
      "d(G(0.1), G(0.2)): 0.051161733144080845, took: 2.4595 minutes\n",
      "d(G(0.1), G(0.22)): 0.05086894220958632, took: 2.2998 minutes\n",
      "d(G(0.1), G(0.24)): 0.051461922965244454, took: 2.2351 minutes\n",
      "d(G(0.1), G(0.26)): 0.05167408635451337, took: 2.2305 minutes\n",
      "d(G(0.1), G(0.28)): 0.05178944431642748, took: 2.2241 minutes\n",
      "d(G(0.1), G(0.3)): 0.051757985518542604, took: 2.3165 minutes\n",
      "d(G(0.1), G(0.32)): 0.05241359367656605, took: 2.3085 minutes\n",
      "d(G(0.1), G(0.34)): 0.05257589256271657, took: 2.3152 minutes\n",
      "d(G(0.1), G(0.36)): 0.05277128813469699, took: 2.3257 minutes\n",
      "d(G(0.1), G(0.38)): 0.05254380419296747, took: 2.3287 minutes\n",
      "d(G(0.1), G(0.4)): 0.05337842193798073, took: 2.3555 minutes\n",
      "d(G(0.1), G(0.42)): 0.05318076647049225, took: 2.3727 minutes\n",
      "d(G(0.1), G(0.44)): 0.053224621251898224, took: 2.4359 minutes\n",
      "d(G(0.1), G(0.46)): 0.053288076581990626, took: 2.4277 minutes\n",
      "d(G(0.1), G(0.48)): 0.05404403932247984, took: 2.454 minutes\n",
      "d(G(0.1), G(0.5)): 0.05390527741203428, took: 2.4866 minutes\n",
      "d(G(0.1), G(0.52)): 0.05381899846730169, took: 2.353 minutes\n",
      "d(G(0.1), G(0.54)): 0.05402358968260544, took: 2.2958 minutes\n",
      "d(G(0.1), G(0.56)): 0.05424121412481872, took: 2.4803 minutes\n",
      "d(G(0.1), G(0.58)): 0.054072917473516904, took: 2.4255 minutes\n",
      "d(G(0.1), G(0.6)): 0.05408430800084919, took: 2.3313 minutes\n",
      "d(G(0.1), G(0.62)): 0.05446712033755406, took: 2.3622 minutes\n",
      "d(G(0.1), G(0.64)): 0.05439499798777079, took: 2.4295 minutes\n",
      "d(G(0.1), G(0.66)): 0.054349023796636364, took: 2.4253 minutes\n",
      "d(G(0.1), G(0.68)): 0.05470078925131514, took: 2.4613 minutes\n",
      "d(G(0.1), G(0.7)): 0.05466559920891903, took: 2.4038 minutes\n",
      "d(G(0.1), G(0.72)): 0.054943924726415905, took: 2.3522 minutes\n",
      "d(G(0.1), G(0.74)): 0.05494664043153365, took: 2.4257 minutes\n",
      "d(G(0.1), G(0.76)): 0.05488125879394774, took: 2.5227 minutes\n",
      "d(G(0.1), G(0.78)): 0.054768722253536586, took: 2.419 minutes\n",
      "d(G(0.1), G(0.8)): 0.05502518991035457, took: 2.4419 minutes\n",
      "d(G(0.1), G(0.82)): 0.055075407582798545, took: 2.4851 minutes\n",
      "d(G(0.1), G(0.84)): 0.05510621720953401, took: 2.382 minutes\n",
      "d(G(0.1), G(0.86)): 0.055319847999633805, took: 2.3328 minutes\n",
      "d(G(0.1), G(0.88)): 0.05498607917534229, took: 2.2863 minutes\n",
      "d(G(0.1), G(0.9)): 0.05545502194764598, took: 2.4053 minutes\n",
      "d(G(0.1), G(0.92)): 0.05498870357821581, took: 2.3892 minutes\n",
      "d(G(0.1), G(0.94)): 0.05509188199518765, took: 2.2588 minutes\n",
      "d(G(0.1), G(0.96)): 0.055159715904733606, took: 2.4406 minutes\n",
      "d(G(0.1), G(0.98)): 0.05533969213290116, took: 2.4101 minutes\n",
      "d(G(0.1), G(1.0)): 0.05511915092703932, took: 2.3989 minutes\n",
      "Process took 119.5070547302564 minutes with an average of 2.390129057010015 per p\n"
     ]
    }
   ],
   "source": [
    "exp_unnormL.fit_SGD()"
   ]
  },
  {
   "cell_type": "code",
   "execution_count": 11,
   "metadata": {},
   "outputs": [],
   "source": [
    "exp_sgd_dic[0.1] = exp_unnormL.rep_sgd"
   ]
  },
  {
   "cell_type": "markdown",
   "metadata": {},
   "source": [
    "## SGD between G(0.2) and G(p)"
   ]
  },
  {
   "cell_type": "code",
   "execution_count": 14,
   "metadata": {},
   "outputs": [],
   "source": [
    "exp_unnormL.reset_G_p0(new_p0 = 0.2, new_G_p0 = readWSmodels['G_p0'][0.2])"
   ]
  },
  {
   "cell_type": "code",
   "execution_count": 15,
   "metadata": {},
   "outputs": [
    {
     "name": "stdout",
     "output_type": "stream",
     "text": [
      "Eigen-decomposition of reference model with rewiring prob p : 0.2 completed.\n"
     ]
    }
   ],
   "source": [
    "exp_unnormL.eigenspectrum_G_p0()"
   ]
  },
  {
   "cell_type": "code",
   "execution_count": 16,
   "metadata": {},
   "outputs": [
    {
     "name": "stdout",
     "output_type": "stream",
     "text": [
      "The spectral distance between G(0.2) and G(p) is an average  of the SGD between G(0.2) and the 100 replicate models generated per each of the 50 rewiring probability.\n",
      "d(G(0.2), G(0.02)): 0.05740305255566535, took: 2.4525 minutes\n",
      "d(G(0.2), G(0.04)): 0.05352810272387911, took: 2.4093 minutes\n",
      "d(G(0.2), G(0.06)): 0.05188911849030735, took: 2.3602 minutes\n",
      "d(G(0.2), G(0.08)): 0.05083920063910236, took: 2.3527 minutes\n",
      "d(G(0.2), G(0.1)): 0.05042890924219072, took: 2.4878 minutes\n",
      "d(G(0.2), G(0.12)): 0.05022060660326134, took: 2.449 minutes\n",
      "d(G(0.2), G(0.14)): 0.050277150274999925, took: 2.406 minutes\n",
      "d(G(0.2), G(0.16)): 0.04987330800786804, took: 2.4198 minutes\n",
      "d(G(0.2), G(0.18)): 0.05052916747144809, took: 2.3658 minutes\n",
      "d(G(0.2), G(0.2)): 0.050723566636481004, took: 2.3365 minutes\n",
      "d(G(0.2), G(0.22)): 0.05013585787534848, took: 2.3382 minutes\n",
      "d(G(0.2), G(0.24)): 0.05041600976687751, took: 2.2815 minutes\n",
      "d(G(0.2), G(0.26)): 0.05072339319921307, took: 2.4057 minutes\n",
      "d(G(0.2), G(0.28)): 0.05048452846557481, took: 2.4075 minutes\n",
      "d(G(0.2), G(0.3)): 0.0507678986755543, took: 2.3734 minutes\n",
      "d(G(0.2), G(0.32)): 0.05074136126891402, took: 2.3416 minutes\n",
      "d(G(0.2), G(0.34)): 0.05110988719741198, took: 2.3309 minutes\n",
      "d(G(0.2), G(0.36)): 0.050861011088923325, took: 2.391 minutes\n",
      "d(G(0.2), G(0.38)): 0.05117075929737602, took: 2.3619 minutes\n",
      "d(G(0.2), G(0.4)): 0.051161727352906174, took: 2.4053 minutes\n",
      "d(G(0.2), G(0.42)): 0.051234227107880385, took: 2.3452 minutes\n",
      "d(G(0.2), G(0.44)): 0.05130016440597963, took: 2.4349 minutes\n",
      "d(G(0.2), G(0.46)): 0.05117674087424873, took: 2.4134 minutes\n",
      "d(G(0.2), G(0.48)): 0.051285415464046545, took: 2.2868 minutes\n",
      "d(G(0.2), G(0.5)): 0.051277350058163175, took: 2.3457 minutes\n",
      "d(G(0.2), G(0.52)): 0.051677424947738755, took: 2.3365 minutes\n",
      "d(G(0.2), G(0.54)): 0.05153596189146836, took: 2.371 minutes\n",
      "d(G(0.2), G(0.56)): 0.05141531552896229, took: 2.3851 minutes\n",
      "d(G(0.2), G(0.58)): 0.0516518832827866, took: 2.3399 minutes\n",
      "d(G(0.2), G(0.6)): 0.051556299233253805, took: 2.4077 minutes\n",
      "d(G(0.2), G(0.62)): 0.05181980364874862, took: 2.2863 minutes\n",
      "d(G(0.2), G(0.64)): 0.051643435816438564, took: 2.3001 minutes\n",
      "d(G(0.2), G(0.66)): 0.05172617167309451, took: 2.2792 minutes\n",
      "d(G(0.2), G(0.68)): 0.0516181687369877, took: 2.4445 minutes\n",
      "d(G(0.2), G(0.7)): 0.051672632980810734, took: 2.3415 minutes\n",
      "d(G(0.2), G(0.72)): 0.05227868001256969, took: 2.3053 minutes\n",
      "d(G(0.2), G(0.74)): 0.0520350830255967, took: 2.3023 minutes\n",
      "d(G(0.2), G(0.76)): 0.05213545726020453, took: 2.4024 minutes\n",
      "d(G(0.2), G(0.78)): 0.05191611654695957, took: 2.3315 minutes\n",
      "d(G(0.2), G(0.8)): 0.052206668946088074, took: 2.4932 minutes\n",
      "d(G(0.2), G(0.82)): 0.05197906006262536, took: 2.422 minutes\n",
      "d(G(0.2), G(0.84)): 0.052110182357147955, took: 2.4399 minutes\n",
      "d(G(0.2), G(0.86)): 0.052506793660087696, took: 2.4528 minutes\n",
      "d(G(0.2), G(0.88)): 0.05199777729659642, took: 2.438 minutes\n",
      "d(G(0.2), G(0.9)): 0.052258903834921905, took: 2.4103 minutes\n",
      "d(G(0.2), G(0.92)): 0.05219451081909383, took: 2.3454 minutes\n",
      "d(G(0.2), G(0.94)): 0.05228301050632472, took: 2.5975 minutes\n",
      "d(G(0.2), G(0.96)): 0.05252342937319491, took: 2.4908 minutes\n",
      "d(G(0.2), G(0.98)): 0.052472179850717664, took: 2.4739 minutes\n",
      "d(G(0.2), G(1.0)): 0.05212797054431204, took: 2.4854 minutes\n",
      "Process took 119.38563454945883 minutes with an average of 2.3876984758377073 per p\n"
     ]
    }
   ],
   "source": [
    "exp_unnormL.fit_SGD()"
   ]
  },
  {
   "cell_type": "code",
   "execution_count": 17,
   "metadata": {},
   "outputs": [],
   "source": [
    "exp_sgd_dic[0.2] = exp_unnormL.rep_sgd"
   ]
  },
  {
   "cell_type": "markdown",
   "metadata": {},
   "source": [
    "## SGD between G(0.3) and G(p)"
   ]
  },
  {
   "cell_type": "code",
   "execution_count": 21,
   "metadata": {},
   "outputs": [
    {
     "name": "stdout",
     "output_type": "stream",
     "text": [
      "Eigen-decomposition of reference model with rewiring prob p : 0.3 completed.\n"
     ]
    }
   ],
   "source": [
    "p0 = 0.3\n",
    "exp_unnormL.reset_G_p0(new_p0 = p0, new_G_p0 = readWSmodels['G_p0'][p0])\n",
    "exp_unnormL.eigenspectrum_G_p0()"
   ]
  },
  {
   "cell_type": "code",
   "execution_count": 22,
   "metadata": {},
   "outputs": [
    {
     "name": "stdout",
     "output_type": "stream",
     "text": [
      "The spectral distance between G(0.3) and G(p) is an average  of the SGD between G(0.3) and the 100 replicate models generated per each of the 50 rewiring probability.\n",
      "d(G(0.3), G(0.02)): 0.05905054303568936, took: 2.3718 minutes\n",
      "d(G(0.3), G(0.04)): 0.05551940787952174, took: 2.3923 minutes\n",
      "d(G(0.3), G(0.06)): 0.05392094962082312, took: 2.3965 minutes\n",
      "d(G(0.3), G(0.08)): 0.05193466267582119, took: 2.4078 minutes\n",
      "d(G(0.3), G(0.1)): 0.051367605945825526, took: 2.4022 minutes\n",
      "d(G(0.3), G(0.12)): 0.05067430487731776, took: 2.3562 minutes\n",
      "d(G(0.3), G(0.14)): 0.05039013083438422, took: 2.3577 minutes\n",
      "d(G(0.3), G(0.16)): 0.04976274240132559, took: 2.4442 minutes\n",
      "d(G(0.3), G(0.18)): 0.04973829028160387, took: 2.5439 minutes\n",
      "d(G(0.3), G(0.2)): 0.04942664386803073, took: 2.4375 minutes\n",
      "d(G(0.3), G(0.22)): 0.04897112539908394, took: 2.505 minutes\n",
      "d(G(0.3), G(0.24)): 0.04882249129653183, took: 2.4757 minutes\n",
      "d(G(0.3), G(0.26)): 0.04900056831385395, took: 2.5164 minutes\n",
      "d(G(0.3), G(0.28)): 0.048574349948786295, took: 2.7642 minutes\n",
      "d(G(0.3), G(0.3)): 0.048452608688218844, took: 2.742 minutes\n",
      "d(G(0.3), G(0.32)): 0.048663313979750836, took: 2.5875 minutes\n",
      "d(G(0.3), G(0.34)): 0.04877768565834456, took: 2.5775 minutes\n",
      "d(G(0.3), G(0.36)): 0.048478385131212845, took: 2.5655 minutes\n",
      "d(G(0.3), G(0.38)): 0.04861675984313912, took: 2.4764 minutes\n",
      "d(G(0.3), G(0.4)): 0.04851081182608131, took: 2.5747 minutes\n",
      "d(G(0.3), G(0.42)): 0.04857677142827337, took: 2.6455 minutes\n",
      "d(G(0.3), G(0.44)): 0.04852092811450673, took: 2.5984 minutes\n",
      "d(G(0.3), G(0.46)): 0.0484677052545161, took: 2.566 minutes\n",
      "d(G(0.3), G(0.48)): 0.04839851705501424, took: 2.4227 minutes\n",
      "d(G(0.3), G(0.5)): 0.04870644445965336, took: 2.4796 minutes\n",
      "d(G(0.3), G(0.52)): 0.04848872953195632, took: 2.4619 minutes\n",
      "d(G(0.3), G(0.54)): 0.04863456130357743, took: 2.4191 minutes\n",
      "d(G(0.3), G(0.56)): 0.04845046641065694, took: 2.5015 minutes\n",
      "d(G(0.3), G(0.58)): 0.0483771014790697, took: 2.5985 minutes\n",
      "d(G(0.3), G(0.6)): 0.04830682084260769, took: 2.5463 minutes\n",
      "d(G(0.3), G(0.62)): 0.04852647881102425, took: 2.4108 minutes\n",
      "d(G(0.3), G(0.64)): 0.04836612975327984, took: 2.5531 minutes\n",
      "d(G(0.3), G(0.66)): 0.04866427152160743, took: 2.5325 minutes\n",
      "d(G(0.3), G(0.68)): 0.048683661026775106, took: 2.483 minutes\n",
      "d(G(0.3), G(0.7)): 0.04842695982670154, took: 2.4962 minutes\n",
      "d(G(0.3), G(0.72)): 0.04878984658833763, took: 2.6564 minutes\n",
      "d(G(0.3), G(0.74)): 0.04904326108782484, took: 2.5288 minutes\n",
      "d(G(0.3), G(0.76)): 0.04876837777412418, took: 2.4767 minutes\n",
      "d(G(0.3), G(0.78)): 0.04867514006224332, took: 2.5184 minutes\n",
      "d(G(0.3), G(0.8)): 0.048794002294273255, took: 2.4808 minutes\n",
      "d(G(0.3), G(0.82)): 0.04887506583413523, took: 2.4308 minutes\n",
      "d(G(0.3), G(0.84)): 0.04886067282151621, took: 2.4478 minutes\n",
      "d(G(0.3), G(0.86)): 0.04894944306894578, took: 2.5023 minutes\n",
      "d(G(0.3), G(0.88)): 0.04903698927371465, took: 2.5168 minutes\n",
      "d(G(0.3), G(0.9)): 0.049196929383657516, took: 2.4477 minutes\n",
      "d(G(0.3), G(0.92)): 0.04868063292969535, took: 2.4053 minutes\n",
      "d(G(0.3), G(0.94)): 0.049064734366715025, took: 2.5082 minutes\n",
      "d(G(0.3), G(0.96)): 0.04914563697488469, took: 2.4485 minutes\n",
      "d(G(0.3), G(0.98)): 0.04903176874455635, took: 2.4544 minutes\n",
      "d(G(0.3), G(1.0)): 0.04885749194261571, took: 2.4769 minutes\n",
      "Process took 124.91064076821009 minutes with an average of 2.498192347208659 per p\n"
     ]
    }
   ],
   "source": [
    "exp_unnormL.fit_SGD()"
   ]
  },
  {
   "cell_type": "code",
   "execution_count": 23,
   "metadata": {},
   "outputs": [],
   "source": [
    "exp_sgd_dic[p0] = exp_unnormL.rep_sgd"
   ]
  },
  {
   "cell_type": "markdown",
   "metadata": {},
   "source": [
    "## SGD between G(0.4) and G(p)"
   ]
  },
  {
   "cell_type": "code",
   "execution_count": 24,
   "metadata": {},
   "outputs": [
    {
     "name": "stdout",
     "output_type": "stream",
     "text": [
      "Eigen-decomposition of reference model with rewiring prob p : 0.4 completed.\n"
     ]
    }
   ],
   "source": [
    "p0 = 0.4\n",
    "exp_unnormL.reset_G_p0(new_p0 = p0, new_G_p0 = readWSmodels['G_p0'][p0])\n",
    "exp_unnormL.eigenspectrum_G_p0()"
   ]
  },
  {
   "cell_type": "code",
   "execution_count": 25,
   "metadata": {},
   "outputs": [
    {
     "name": "stdout",
     "output_type": "stream",
     "text": [
      "The spectral distance between G(0.4) and G(p) is an average  of the SGD between G(0.4) and the 100 replicate models generated per each of the 50 rewiring probability.\n",
      "d(G(0.4), G(0.02)): 0.06327672871221854, took: 2.5072 minutes\n",
      "d(G(0.4), G(0.04)): 0.05978503034397879, took: 2.4196 minutes\n",
      "d(G(0.4), G(0.06)): 0.058287647258247, took: 2.4231 minutes\n",
      "d(G(0.4), G(0.08)): 0.05671488807866994, took: 2.4581 minutes\n",
      "d(G(0.4), G(0.1)): 0.05553642975391946, took: 2.3939 minutes\n",
      "d(G(0.4), G(0.12)): 0.05479752386706423, took: 2.4203 minutes\n",
      "d(G(0.4), G(0.14)): 0.05407426807301026, took: 2.4796 minutes\n",
      "d(G(0.4), G(0.16)): 0.05372780730970713, took: 2.4109 minutes\n",
      "d(G(0.4), G(0.18)): 0.05312844278161683, took: 2.3898 minutes\n",
      "d(G(0.4), G(0.2)): 0.052859128769483864, took: 2.412 minutes\n",
      "d(G(0.4), G(0.22)): 0.052032319586638565, took: 2.4322 minutes\n",
      "d(G(0.4), G(0.24)): 0.052037689857427634, took: 2.4216 minutes\n",
      "d(G(0.4), G(0.26)): 0.0519172025618777, took: 2.4763 minutes\n",
      "d(G(0.4), G(0.28)): 0.0514797236157337, took: 2.3994 minutes\n",
      "d(G(0.4), G(0.3)): 0.05099972971323318, took: 2.3761 minutes\n",
      "d(G(0.4), G(0.32)): 0.05074621544526564, took: 2.3984 minutes\n",
      "d(G(0.4), G(0.34)): 0.05096699325484045, took: 2.3191 minutes\n",
      "d(G(0.4), G(0.36)): 0.05056173569370761, took: 2.4089 minutes\n",
      "d(G(0.4), G(0.38)): 0.050580744362804596, took: 2.3691 minutes\n",
      "d(G(0.4), G(0.4)): 0.050283414319106344, took: 2.4128 minutes\n",
      "d(G(0.4), G(0.42)): 0.050714162003159514, took: 2.4242 minutes\n",
      "d(G(0.4), G(0.44)): 0.050296581037717676, took: 2.4524 minutes\n",
      "d(G(0.4), G(0.46)): 0.05019946844606772, took: 2.4667 minutes\n",
      "d(G(0.4), G(0.48)): 0.050065915431977984, took: 2.5394 minutes\n",
      "d(G(0.4), G(0.5)): 0.05035166304411546, took: 2.5146 minutes\n",
      "d(G(0.4), G(0.52)): 0.050341010472598154, took: 2.3784 minutes\n",
      "d(G(0.4), G(0.54)): 0.04996112116299647, took: 2.4274 minutes\n",
      "d(G(0.4), G(0.56)): 0.05006674610371132, took: 2.4807 minutes\n",
      "d(G(0.4), G(0.58)): 0.049989957603556665, took: 2.5004 minutes\n",
      "d(G(0.4), G(0.6)): 0.0498342474558904, took: 2.4718 minutes\n",
      "d(G(0.4), G(0.62)): 0.049955980188147356, took: 2.5172 minutes\n",
      "d(G(0.4), G(0.64)): 0.04988401047558628, took: 2.4817 minutes\n",
      "d(G(0.4), G(0.66)): 0.0500401795488787, took: 2.452 minutes\n",
      "d(G(0.4), G(0.68)): 0.05013456581248588, took: 2.5054 minutes\n",
      "d(G(0.4), G(0.7)): 0.049844816390935194, took: 2.4995 minutes\n",
      "d(G(0.4), G(0.72)): 0.050304764088213653, took: 2.5179 minutes\n",
      "d(G(0.4), G(0.74)): 0.05006732392606301, took: 2.5021 minutes\n",
      "d(G(0.4), G(0.76)): 0.049948530284443564, took: 2.4742 minutes\n",
      "d(G(0.4), G(0.78)): 0.050169542849827914, took: 2.5152 minutes\n",
      "d(G(0.4), G(0.8)): 0.04998855067292289, took: 2.4079 minutes\n",
      "d(G(0.4), G(0.82)): 0.04987792927777182, took: 2.3977 minutes\n",
      "d(G(0.4), G(0.84)): 0.04989057373889962, took: 2.4707 minutes\n",
      "d(G(0.4), G(0.86)): 0.04989847254073057, took: 2.3969 minutes\n",
      "d(G(0.4), G(0.88)): 0.049964028356504694, took: 2.4229 minutes\n",
      "d(G(0.4), G(0.9)): 0.05024935389109504, took: 2.4015 minutes\n",
      "d(G(0.4), G(0.92)): 0.0503109934559228, took: 2.47 minutes\n",
      "d(G(0.4), G(0.94)): 0.050291020313024334, took: 2.4423 minutes\n",
      "d(G(0.4), G(0.96)): 0.05006909744015561, took: 2.5509 minutes\n",
      "d(G(0.4), G(0.98)): 0.05021457313090224, took: 2.4443 minutes\n",
      "d(G(0.4), G(1.0)): 0.049711672266681856, took: 2.4082 minutes\n",
      "Process took 122.26365761359533 minutes with an average of 2.4452597695191702 per p\n"
     ]
    }
   ],
   "source": [
    "exp_unnormL.fit_SGD()"
   ]
  },
  {
   "cell_type": "code",
   "execution_count": 26,
   "metadata": {},
   "outputs": [],
   "source": [
    "exp_sgd_dic[p0] = exp_unnormL.rep_sgd"
   ]
  },
  {
   "cell_type": "markdown",
   "metadata": {},
   "source": [
    "## SGD between G(0.5) and G(p)"
   ]
  },
  {
   "cell_type": "code",
   "execution_count": 27,
   "metadata": {},
   "outputs": [
    {
     "name": "stdout",
     "output_type": "stream",
     "text": [
      "Eigen-decomposition of reference model with rewiring prob p : 0.5 completed.\n"
     ]
    }
   ],
   "source": [
    "p0 = 0.5\n",
    "exp_unnormL.reset_G_p0(new_p0 = p0, new_G_p0 = readWSmodels['G_p0'][p0])\n",
    "exp_unnormL.eigenspectrum_G_p0()"
   ]
  },
  {
   "cell_type": "code",
   "execution_count": 28,
   "metadata": {},
   "outputs": [
    {
     "name": "stdout",
     "output_type": "stream",
     "text": [
      "The spectral distance between G(0.5) and G(p) is an average  of the SGD between G(0.5) and the 100 replicate models generated per each of the 50 rewiring probability.\n",
      "d(G(0.5), G(0.02)): 0.06006773582925451, took: 2.4316 minutes\n",
      "d(G(0.5), G(0.04)): 0.05772428488770532, took: 2.3922 minutes\n",
      "d(G(0.5), G(0.06)): 0.05650059915310036, took: 2.4165 minutes\n",
      "d(G(0.5), G(0.08)): 0.05504586872930152, took: 2.4071 minutes\n",
      "d(G(0.5), G(0.1)): 0.05412429661079104, took: 2.4126 minutes\n",
      "d(G(0.5), G(0.12)): 0.05338462459725188, took: 2.6552 minutes\n",
      "d(G(0.5), G(0.14)): 0.052913441285735094, took: 2.7046 minutes\n",
      "d(G(0.5), G(0.16)): 0.05203248116629897, took: 2.4237 minutes\n",
      "d(G(0.5), G(0.18)): 0.051397940594306885, took: 2.4706 minutes\n",
      "d(G(0.5), G(0.2)): 0.05151312444567404, took: 2.6585 minutes\n",
      "d(G(0.5), G(0.22)): 0.05065393112619777, took: 2.432 minutes\n",
      "d(G(0.5), G(0.24)): 0.050052722017074246, took: 2.4764 minutes\n",
      "d(G(0.5), G(0.26)): 0.049628607817794705, took: 2.4622 minutes\n",
      "d(G(0.5), G(0.28)): 0.04953539283217715, took: 2.4759 minutes\n",
      "d(G(0.5), G(0.3)): 0.04916699937000791, took: 2.4699 minutes\n",
      "d(G(0.5), G(0.32)): 0.04873033849915357, took: 2.5468 minutes\n",
      "d(G(0.5), G(0.34)): 0.04828687998097115, took: 2.4681 minutes\n",
      "d(G(0.5), G(0.36)): 0.04832813313915367, took: 2.385 minutes\n",
      "d(G(0.5), G(0.38)): 0.0479811313088839, took: 2.4108 minutes\n",
      "d(G(0.5), G(0.4)): 0.04794361838483176, took: 2.4149 minutes\n",
      "d(G(0.5), G(0.42)): 0.047685784902999885, took: 2.4649 minutes\n",
      "d(G(0.5), G(0.44)): 0.047614533982034, took: 2.3315 minutes\n",
      "d(G(0.5), G(0.46)): 0.047549669800967365, took: 2.4392 minutes\n",
      "d(G(0.5), G(0.48)): 0.047269090584827804, took: 2.3441 minutes\n",
      "d(G(0.5), G(0.5)): 0.047313228023822214, took: 2.4091 minutes\n",
      "d(G(0.5), G(0.52)): 0.04729281519580331, took: 2.5175 minutes\n",
      "d(G(0.5), G(0.54)): 0.04731574981664204, took: 2.5064 minutes\n",
      "d(G(0.5), G(0.56)): 0.04714621162384844, took: 2.4944 minutes\n",
      "d(G(0.5), G(0.58)): 0.047198184350903595, took: 2.4647 minutes\n",
      "d(G(0.5), G(0.6)): 0.04700136065619513, took: 2.5252 minutes\n",
      "d(G(0.5), G(0.62)): 0.04746326825574783, took: 2.5409 minutes\n",
      "d(G(0.5), G(0.64)): 0.04696366017809063, took: 2.6542 minutes\n",
      "d(G(0.5), G(0.66)): 0.0472908327098872, took: 2.4893 minutes\n",
      "d(G(0.5), G(0.68)): 0.047142285516527, took: 2.4404 minutes\n",
      "d(G(0.5), G(0.7)): 0.04720708351584214, took: 2.4231 minutes\n",
      "d(G(0.5), G(0.72)): 0.04749230605332256, took: 2.4169 minutes\n",
      "d(G(0.5), G(0.74)): 0.04745584001401197, took: 2.4671 minutes\n",
      "d(G(0.5), G(0.76)): 0.047446868686726394, took: 2.4959 minutes\n",
      "d(G(0.5), G(0.78)): 0.047257307590208075, took: 2.4008 minutes\n",
      "d(G(0.5), G(0.8)): 0.04739861118726283, took: 2.4832 minutes\n",
      "d(G(0.5), G(0.82)): 0.04780375007310887, took: 2.4285 minutes\n",
      "d(G(0.5), G(0.84)): 0.04765453641005713, took: 2.4301 minutes\n",
      "d(G(0.5), G(0.86)): 0.04774800601644479, took: 2.426 minutes\n",
      "d(G(0.5), G(0.88)): 0.04752681657863016, took: 2.4445 minutes\n",
      "d(G(0.5), G(0.9)): 0.04774307883955414, took: 2.4894 minutes\n",
      "d(G(0.5), G(0.92)): 0.04774872740654297, took: 2.4399 minutes\n",
      "d(G(0.5), G(0.94)): 0.0476840763254434, took: 2.4888 minutes\n",
      "d(G(0.5), G(0.96)): 0.04761189270343717, took: 2.556 minutes\n",
      "d(G(0.5), G(0.98)): 0.04779840341143842, took: 2.4281 minutes\n",
      "d(G(0.5), G(1.0)): 0.047622743538997675, took: 2.4662 minutes\n",
      "Process took 123.42158284982045 minutes with an average of 2.468418620665868 per p\n"
     ]
    }
   ],
   "source": [
    "exp_unnormL.fit_SGD()"
   ]
  },
  {
   "cell_type": "code",
   "execution_count": 29,
   "metadata": {},
   "outputs": [],
   "source": [
    "exp_sgd_dic[p0] = exp_unnormL.rep_sgd"
   ]
  },
  {
   "cell_type": "markdown",
   "metadata": {},
   "source": [
    "## SGD between G(0.6) and G(p)"
   ]
  },
  {
   "cell_type": "code",
   "execution_count": 30,
   "metadata": {},
   "outputs": [
    {
     "name": "stdout",
     "output_type": "stream",
     "text": [
      "Eigen-decomposition of reference model with rewiring prob p : 0.6 completed.\n"
     ]
    }
   ],
   "source": [
    "p0 = 0.6\n",
    "exp_unnormL.reset_G_p0(new_p0 = p0, new_G_p0 = readWSmodels['G_p0'][p0])\n",
    "exp_unnormL.eigenspectrum_G_p0()"
   ]
  },
  {
   "cell_type": "code",
   "execution_count": 31,
   "metadata": {},
   "outputs": [
    {
     "name": "stdout",
     "output_type": "stream",
     "text": [
      "The spectral distance between G(0.6) and G(p) is an average  of the SGD between G(0.6) and the 100 replicate models generated per each of the 50 rewiring probability.\n",
      "d(G(0.6), G(0.02)): 0.061645276735912254, took: 2.3831 minutes\n",
      "d(G(0.6), G(0.04)): 0.05917051219513918, took: 2.3819 minutes\n",
      "d(G(0.6), G(0.06)): 0.05758003226736446, took: 2.4333 minutes\n",
      "d(G(0.6), G(0.08)): 0.056301908995541744, took: 2.4119 minutes\n",
      "d(G(0.6), G(0.1)): 0.05500511430507417, took: 2.4209 minutes\n",
      "d(G(0.6), G(0.12)): 0.054675175779981086, took: 2.4341 minutes\n",
      "d(G(0.6), G(0.14)): 0.0537912882007511, took: 2.5429 minutes\n",
      "d(G(0.6), G(0.16)): 0.0528346522413393, took: 2.4098 minutes\n",
      "d(G(0.6), G(0.18)): 0.052523317376015705, took: 2.413 minutes\n",
      "d(G(0.6), G(0.2)): 0.052556726799520684, took: 2.4776 minutes\n",
      "d(G(0.6), G(0.22)): 0.0514675439507113, took: 2.3931 minutes\n",
      "d(G(0.6), G(0.24)): 0.05109164118957988, took: 2.451 minutes\n",
      "d(G(0.6), G(0.26)): 0.0507857162080474, took: 2.426 minutes\n",
      "d(G(0.6), G(0.28)): 0.05048933583315774, took: 2.408 minutes\n",
      "d(G(0.6), G(0.3)): 0.05010043425914343, took: 2.4194 minutes\n",
      "d(G(0.6), G(0.32)): 0.04960944010367856, took: 2.3889 minutes\n",
      "d(G(0.6), G(0.34)): 0.04937559864475856, took: 2.3669 minutes\n",
      "d(G(0.6), G(0.36)): 0.049476476776828704, took: 2.416 minutes\n",
      "d(G(0.6), G(0.38)): 0.04912770868257086, took: 2.4749 minutes\n",
      "d(G(0.6), G(0.4)): 0.04873290535195876, took: 2.4812 minutes\n",
      "d(G(0.6), G(0.42)): 0.048779540157788216, took: 2.4372 minutes\n",
      "d(G(0.6), G(0.44)): 0.04849229882466083, took: 2.3664 minutes\n",
      "d(G(0.6), G(0.46)): 0.04810197828146508, took: 2.4646 minutes\n",
      "d(G(0.6), G(0.48)): 0.047899319880515004, took: 2.4139 minutes\n",
      "d(G(0.6), G(0.5)): 0.04794338016617569, took: 2.4327 minutes\n",
      "d(G(0.6), G(0.52)): 0.0480895913143343, took: 2.4204 minutes\n",
      "d(G(0.6), G(0.54)): 0.04778915513216786, took: 2.3929 minutes\n",
      "d(G(0.6), G(0.56)): 0.047632482391967546, took: 2.3454 minutes\n",
      "d(G(0.6), G(0.58)): 0.04741566768613569, took: 2.4834 minutes\n",
      "d(G(0.6), G(0.6)): 0.04735648635904071, took: 2.5276 minutes\n",
      "d(G(0.6), G(0.62)): 0.04800147217801878, took: 2.5022 minutes\n",
      "d(G(0.6), G(0.64)): 0.04721218038244637, took: 2.487 minutes\n",
      "d(G(0.6), G(0.66)): 0.04751626978785394, took: 2.4935 minutes\n",
      "d(G(0.6), G(0.68)): 0.04745158628393246, took: 2.498 minutes\n",
      "d(G(0.6), G(0.7)): 0.04773436097440533, took: 2.4701 minutes\n",
      "d(G(0.6), G(0.72)): 0.047938895144460744, took: 2.4186 minutes\n",
      "d(G(0.6), G(0.74)): 0.04780874695911379, took: 2.4274 minutes\n",
      "d(G(0.6), G(0.76)): 0.047746020711200036, took: 2.4476 minutes\n",
      "d(G(0.6), G(0.78)): 0.047750168890690864, took: 2.3492 minutes\n",
      "d(G(0.6), G(0.8)): 0.047649462808118326, took: 2.4753 minutes\n",
      "d(G(0.6), G(0.82)): 0.04751193957720224, took: 2.4841 minutes\n",
      "d(G(0.6), G(0.84)): 0.04777499727139171, took: 2.4649 minutes\n",
      "d(G(0.6), G(0.86)): 0.047894190900722854, took: 2.5104 minutes\n",
      "d(G(0.6), G(0.88)): 0.04761864910254308, took: 2.4944 minutes\n",
      "d(G(0.6), G(0.9)): 0.048018514757292116, took: 2.4775 minutes\n",
      "d(G(0.6), G(0.92)): 0.04771388557402665, took: 2.482 minutes\n",
      "d(G(0.6), G(0.94)): 0.04793009497153479, took: 2.4843 minutes\n",
      "d(G(0.6), G(0.96)): 0.048115483544955547, took: 2.4854 minutes\n",
      "d(G(0.6), G(0.98)): 0.04793279938044848, took: 2.4779 minutes\n",
      "d(G(0.6), G(1.0)): 0.04801873207619043, took: 2.5041 minutes\n",
      "Process took 122.25295001665751 minutes with an average of 2.445048909743627 per p\n"
     ]
    }
   ],
   "source": [
    "exp_unnormL.fit_SGD()"
   ]
  },
  {
   "cell_type": "code",
   "execution_count": 32,
   "metadata": {},
   "outputs": [],
   "source": [
    "exp_sgd_dic[p0] = exp_unnormL.rep_sgd"
   ]
  },
  {
   "cell_type": "markdown",
   "metadata": {},
   "source": [
    "## SGD between G(0.7) and G(p)"
   ]
  },
  {
   "cell_type": "code",
   "execution_count": 33,
   "metadata": {},
   "outputs": [
    {
     "name": "stdout",
     "output_type": "stream",
     "text": [
      "Eigen-decomposition of reference model with rewiring prob p : 0.7 completed.\n"
     ]
    }
   ],
   "source": [
    "p0 = 0.7\n",
    "exp_unnormL.reset_G_p0(new_p0 = p0, new_G_p0 = readWSmodels['G_p0'][p0])\n",
    "exp_unnormL.eigenspectrum_G_p0()"
   ]
  },
  {
   "cell_type": "code",
   "execution_count": 34,
   "metadata": {},
   "outputs": [
    {
     "name": "stdout",
     "output_type": "stream",
     "text": [
      "The spectral distance between G(0.7) and G(p) is an average  of the SGD between G(0.7) and the 100 replicate models generated per each of the 50 rewiring probability.\n",
      "d(G(0.7), G(0.02)): 0.06292090724693504, took: 2.4459 minutes\n",
      "d(G(0.7), G(0.04)): 0.059938308875056336, took: 2.4657 minutes\n",
      "d(G(0.7), G(0.06)): 0.0585382646402529, took: 2.4767 minutes\n",
      "d(G(0.7), G(0.08)): 0.057143531237241835, took: 2.4979 minutes\n",
      "d(G(0.7), G(0.1)): 0.055966067510923805, took: 2.3239 minutes\n",
      "d(G(0.7), G(0.12)): 0.05516746700483221, took: 2.2563 minutes\n",
      "d(G(0.7), G(0.14)): 0.054281540961511325, took: 2.3061 minutes\n",
      "d(G(0.7), G(0.16)): 0.053477927418306176, took: 2.2892 minutes\n",
      "d(G(0.7), G(0.18)): 0.05273358288812116, took: 2.2876 minutes\n",
      "d(G(0.7), G(0.2)): 0.05261022887809634, took: 2.2847 minutes\n",
      "d(G(0.7), G(0.22)): 0.051664341789674884, took: 2.2857 minutes\n",
      "d(G(0.7), G(0.24)): 0.05133252849332938, took: 2.2911 minutes\n",
      "d(G(0.7), G(0.26)): 0.051137080699508335, took: 2.383 minutes\n",
      "d(G(0.7), G(0.28)): 0.05057484739790924, took: 2.3143 minutes\n",
      "d(G(0.7), G(0.3)): 0.050010965960783936, took: 2.2584 minutes\n",
      "d(G(0.7), G(0.32)): 0.049831204880868604, took: 2.254 minutes\n",
      "d(G(0.7), G(0.34)): 0.04966965892446146, took: 2.2497 minutes\n",
      "d(G(0.7), G(0.36)): 0.04924765092924971, took: 2.2676 minutes\n",
      "d(G(0.7), G(0.38)): 0.04882478657019866, took: 2.2621 minutes\n",
      "d(G(0.7), G(0.4)): 0.04859249473830849, took: 2.2645 minutes\n",
      "d(G(0.7), G(0.42)): 0.04828968587531886, took: 2.2846 minutes\n",
      "d(G(0.7), G(0.44)): 0.04842850783521141, took: 2.2659 minutes\n",
      "d(G(0.7), G(0.46)): 0.04805470032026442, took: 2.2792 minutes\n",
      "d(G(0.7), G(0.48)): 0.048092992112261986, took: 2.2631 minutes\n",
      "d(G(0.7), G(0.5)): 0.04778115006248649, took: 2.2634 minutes\n",
      "d(G(0.7), G(0.52)): 0.0477799755553108, took: 2.2488 minutes\n",
      "d(G(0.7), G(0.54)): 0.04780862780021976, took: 2.2546 minutes\n",
      "d(G(0.7), G(0.56)): 0.04734622091605607, took: 2.2589 minutes\n",
      "d(G(0.7), G(0.58)): 0.047331961418310205, took: 2.2688 minutes\n",
      "d(G(0.7), G(0.6)): 0.047366317793046925, took: 2.2443 minutes\n",
      "d(G(0.7), G(0.62)): 0.04746547978065176, took: 2.2269 minutes\n",
      "d(G(0.7), G(0.64)): 0.04702105607907245, took: 2.233 minutes\n",
      "d(G(0.7), G(0.66)): 0.04688489606861909, took: 2.2324 minutes\n",
      "d(G(0.7), G(0.68)): 0.0469863185647082, took: 2.2288 minutes\n",
      "d(G(0.7), G(0.7)): 0.04734856822074009, took: 2.2238 minutes\n",
      "d(G(0.7), G(0.72)): 0.0473167867665364, took: 2.2275 minutes\n",
      "d(G(0.7), G(0.74)): 0.046781540668650326, took: 2.2368 minutes\n",
      "d(G(0.7), G(0.76)): 0.046969147340589004, took: 2.2488 minutes\n",
      "d(G(0.7), G(0.78)): 0.04708807897688138, took: 2.2474 minutes\n",
      "d(G(0.7), G(0.8)): 0.04707384202956135, took: 2.2378 minutes\n",
      "d(G(0.7), G(0.82)): 0.0472825743296342, took: 2.234 minutes\n",
      "d(G(0.7), G(0.84)): 0.047120580205131005, took: 2.2377 minutes\n",
      "d(G(0.7), G(0.86)): 0.04696139923857072, took: 2.2385 minutes\n",
      "d(G(0.7), G(0.88)): 0.04694163259280855, took: 2.2276 minutes\n",
      "d(G(0.7), G(0.9)): 0.04711492380869075, took: 2.2374 minutes\n",
      "d(G(0.7), G(0.92)): 0.04696496712873321, took: 2.297 minutes\n",
      "d(G(0.7), G(0.94)): 0.04707003319002446, took: 2.2703 minutes\n",
      "d(G(0.7), G(0.96)): 0.04728516153978783, took: 2.2643 minutes\n",
      "d(G(0.7), G(0.98)): 0.04713623302683834, took: 2.2557 minutes\n",
      "d(G(0.7), G(1.0)): 0.04684547274373558, took: 2.2326 minutes\n",
      "Process took 113.93507871627807 minutes with an average of 2.2786933116118115 per p\n"
     ]
    }
   ],
   "source": [
    "exp_unnormL.fit_SGD()"
   ]
  },
  {
   "cell_type": "code",
   "execution_count": 35,
   "metadata": {},
   "outputs": [],
   "source": [
    "exp_sgd_dic[p0] = exp_unnormL.rep_sgd"
   ]
  },
  {
   "cell_type": "markdown",
   "metadata": {},
   "source": [
    "## SGD between G(0.8) and G(p)"
   ]
  },
  {
   "cell_type": "code",
   "execution_count": 36,
   "metadata": {},
   "outputs": [
    {
     "name": "stdout",
     "output_type": "stream",
     "text": [
      "Eigen-decomposition of reference model with rewiring prob p : 0.8 completed.\n"
     ]
    }
   ],
   "source": [
    "p0 = 0.8\n",
    "exp_unnormL.reset_G_p0(new_p0 = p0, new_G_p0 = readWSmodels['G_p0'][p0])\n",
    "exp_unnormL.eigenspectrum_G_p0()"
   ]
  },
  {
   "cell_type": "code",
   "execution_count": 37,
   "metadata": {},
   "outputs": [
    {
     "name": "stdout",
     "output_type": "stream",
     "text": [
      "The spectral distance between G(0.8) and G(p) is an average  of the SGD between G(0.8) and the 100 replicate models generated per each of the 50 rewiring probability.\n",
      "d(G(0.8), G(0.02)): 0.06132525185629805, took: 2.2408 minutes\n",
      "d(G(0.8), G(0.04)): 0.05868014625665018, took: 2.229 minutes\n",
      "d(G(0.8), G(0.06)): 0.057396955755032605, took: 2.242 minutes\n",
      "d(G(0.8), G(0.08)): 0.055911573895631596, took: 2.276 minutes\n",
      "d(G(0.8), G(0.1)): 0.054851517594423554, took: 2.2374 minutes\n",
      "d(G(0.8), G(0.12)): 0.054085195949203066, took: 2.237 minutes\n",
      "d(G(0.8), G(0.14)): 0.05352912028439909, took: 2.2376 minutes\n",
      "d(G(0.8), G(0.16)): 0.05234280424601426, took: 2.2283 minutes\n",
      "d(G(0.8), G(0.18)): 0.052247087105280074, took: 2.2194 minutes\n",
      "d(G(0.8), G(0.2)): 0.05188677117895835, took: 2.2258 minutes\n",
      "d(G(0.8), G(0.22)): 0.05108948235127585, took: 2.2301 minutes\n",
      "d(G(0.8), G(0.24)): 0.05053186292838703, took: 2.2383 minutes\n",
      "d(G(0.8), G(0.26)): 0.050278511760523614, took: 2.2486 minutes\n",
      "d(G(0.8), G(0.28)): 0.0499614147688472, took: 2.2352 minutes\n",
      "d(G(0.8), G(0.3)): 0.049673719495981025, took: 2.2216 minutes\n",
      "d(G(0.8), G(0.32)): 0.049209966996391186, took: 2.2248 minutes\n",
      "d(G(0.8), G(0.34)): 0.0489947790120229, took: 2.2214 minutes\n",
      "d(G(0.8), G(0.36)): 0.04878752849034993, took: 2.2226 minutes\n",
      "d(G(0.8), G(0.38)): 0.048515111972643125, took: 2.2332 minutes\n",
      "d(G(0.8), G(0.4)): 0.048159124935255176, took: 2.2216 minutes\n",
      "d(G(0.8), G(0.42)): 0.047999553441566326, took: 2.2271 minutes\n",
      "d(G(0.8), G(0.44)): 0.0481049208479761, took: 2.2296 minutes\n",
      "d(G(0.8), G(0.46)): 0.04745133539083699, took: 2.2354 minutes\n",
      "d(G(0.8), G(0.48)): 0.04706356128111604, took: 2.2257 minutes\n",
      "d(G(0.8), G(0.5)): 0.04708250190979707, took: 2.2345 minutes\n",
      "d(G(0.8), G(0.52)): 0.04705626877156435, took: 2.2766 minutes\n",
      "d(G(0.8), G(0.54)): 0.04699192740376502, took: 2.2347 minutes\n",
      "d(G(0.8), G(0.56)): 0.04679224947813232, took: 2.24 minutes\n",
      "d(G(0.8), G(0.58)): 0.04640334083448855, took: 2.2318 minutes\n",
      "d(G(0.8), G(0.6)): 0.046249499521710716, took: 2.2816 minutes\n",
      "d(G(0.8), G(0.62)): 0.04629618794969703, took: 2.238 minutes\n",
      "d(G(0.8), G(0.64)): 0.04624809980717951, took: 2.2364 minutes\n",
      "d(G(0.8), G(0.66)): 0.0461984525204995, took: 2.2397 minutes\n",
      "d(G(0.8), G(0.68)): 0.04603643559506515, took: 2.2462 minutes\n",
      "d(G(0.8), G(0.7)): 0.04598446425846652, took: 2.2408 minutes\n",
      "d(G(0.8), G(0.72)): 0.04638341925574169, took: 2.2511 minutes\n",
      "d(G(0.8), G(0.74)): 0.046132704158981123, took: 2.2246 minutes\n",
      "d(G(0.8), G(0.76)): 0.04622650458165991, took: 2.2331 minutes\n",
      "d(G(0.8), G(0.78)): 0.046098474488625495, took: 2.2821 minutes\n",
      "d(G(0.8), G(0.8)): 0.046172675827500564, took: 2.2499 minutes\n",
      "d(G(0.8), G(0.82)): 0.046406757464408296, took: 2.2271 minutes\n",
      "d(G(0.8), G(0.84)): 0.04613857978305798, took: 2.2361 minutes\n",
      "d(G(0.8), G(0.86)): 0.04635102945287631, took: 2.2432 minutes\n",
      "d(G(0.8), G(0.88)): 0.04617029092988458, took: 2.2348 minutes\n",
      "d(G(0.8), G(0.9)): 0.04628345399554047, took: 2.2414 minutes\n",
      "d(G(0.8), G(0.92)): 0.04604770906263696, took: 2.2492 minutes\n",
      "d(G(0.8), G(0.94)): 0.046330045656477976, took: 2.2266 minutes\n",
      "d(G(0.8), G(0.96)): 0.046434578543962955, took: 2.2219 minutes\n",
      "d(G(0.8), G(0.98)): 0.04647108267640724, took: 2.2277 minutes\n",
      "d(G(0.8), G(1.0)): 0.0462005716537239, took: 2.2249 minutes\n",
      "Process took 111.86256106297175 minutes with an average of 2.237246048053106 per p\n"
     ]
    }
   ],
   "source": [
    "exp_unnormL.fit_SGD()"
   ]
  },
  {
   "cell_type": "code",
   "execution_count": 38,
   "metadata": {},
   "outputs": [],
   "source": [
    "exp_sgd_dic[p0] = exp_unnormL.rep_sgd"
   ]
  },
  {
   "cell_type": "markdown",
   "metadata": {},
   "source": [
    "## SGD between G(0.9) and G(p)"
   ]
  },
  {
   "cell_type": "code",
   "execution_count": 39,
   "metadata": {},
   "outputs": [
    {
     "name": "stdout",
     "output_type": "stream",
     "text": [
      "Eigen-decomposition of reference model with rewiring prob p : 0.9 completed.\n"
     ]
    }
   ],
   "source": [
    "p0 = 0.9\n",
    "exp_unnormL.reset_G_p0(new_p0 = p0, new_G_p0 = readWSmodels['G_p0'][p0])\n",
    "exp_unnormL.eigenspectrum_G_p0()"
   ]
  },
  {
   "cell_type": "code",
   "execution_count": 40,
   "metadata": {},
   "outputs": [
    {
     "name": "stdout",
     "output_type": "stream",
     "text": [
      "The spectral distance between G(0.9) and G(p) is an average  of the SGD between G(0.9) and the 100 replicate models generated per each of the 50 rewiring probability.\n",
      "d(G(0.9), G(0.02)): 0.06275223426697812, took: 2.2157 minutes\n",
      "d(G(0.9), G(0.04)): 0.060484358081178274, took: 2.2219 minutes\n",
      "d(G(0.9), G(0.06)): 0.059052625607994964, took: 2.2261 minutes\n",
      "d(G(0.9), G(0.08)): 0.05773481031405245, took: 2.2112 minutes\n",
      "d(G(0.9), G(0.1)): 0.056701057049078234, took: 2.2194 minutes\n",
      "d(G(0.9), G(0.12)): 0.05603663620791744, took: 2.2119 minutes\n",
      "d(G(0.9), G(0.14)): 0.05526872222945801, took: 2.2225 minutes\n",
      "d(G(0.9), G(0.16)): 0.05439055021802632, took: 2.2177 minutes\n",
      "d(G(0.9), G(0.18)): 0.05402474478165692, took: 2.2184 minutes\n",
      "d(G(0.9), G(0.2)): 0.05372106725409833, took: 2.215 minutes\n",
      "d(G(0.9), G(0.22)): 0.05289818096942201, took: 2.2153 minutes\n",
      "d(G(0.9), G(0.24)): 0.052420513489216516, took: 2.2203 minutes\n",
      "d(G(0.9), G(0.26)): 0.051913289949314406, took: 2.2113 minutes\n",
      "d(G(0.9), G(0.28)): 0.051781364518399015, took: 2.2122 minutes\n",
      "d(G(0.9), G(0.3)): 0.05114698761934019, took: 2.2132 minutes\n",
      "d(G(0.9), G(0.32)): 0.051031288475519014, took: 2.2703 minutes\n",
      "d(G(0.9), G(0.34)): 0.0507508313060672, took: 2.2249 minutes\n",
      "d(G(0.9), G(0.36)): 0.05037426258751694, took: 2.2244 minutes\n",
      "d(G(0.9), G(0.38)): 0.050506508773112524, took: 2.2239 minutes\n",
      "d(G(0.9), G(0.4)): 0.050294783488191976, took: 2.2238 minutes\n",
      "d(G(0.9), G(0.42)): 0.04968309757600876, took: 2.2259 minutes\n",
      "d(G(0.9), G(0.44)): 0.049595298520809905, took: 2.2362 minutes\n",
      "d(G(0.9), G(0.46)): 0.04914308665535654, took: 2.2315 minutes\n",
      "d(G(0.9), G(0.48)): 0.049222313159382906, took: 2.2277 minutes\n",
      "d(G(0.9), G(0.5)): 0.04908912257031207, took: 2.2479 minutes\n",
      "d(G(0.9), G(0.52)): 0.04866292615874023, took: 2.2285 minutes\n",
      "d(G(0.9), G(0.54)): 0.048811587731862255, took: 2.2261 minutes\n",
      "d(G(0.9), G(0.56)): 0.04851077042662385, took: 2.2259 minutes\n",
      "d(G(0.9), G(0.58)): 0.04811414659832987, took: 2.2287 minutes\n",
      "d(G(0.9), G(0.6)): 0.047873157331521504, took: 2.254 minutes\n",
      "d(G(0.9), G(0.62)): 0.04819667754087765, took: 2.2333 minutes\n",
      "d(G(0.9), G(0.64)): 0.04777557638709942, took: 2.2361 minutes\n",
      "d(G(0.9), G(0.66)): 0.04769323546381133, took: 2.2304 minutes\n",
      "d(G(0.9), G(0.68)): 0.047758854079270455, took: 2.2507 minutes\n",
      "d(G(0.9), G(0.7)): 0.047775794203580794, took: 2.2427 minutes\n",
      "d(G(0.9), G(0.72)): 0.04824025847254425, took: 2.2337 minutes\n",
      "d(G(0.9), G(0.74)): 0.04812053218857977, took: 2.218 minutes\n",
      "d(G(0.9), G(0.76)): 0.04821287723699837, took: 2.2253 minutes\n",
      "d(G(0.9), G(0.78)): 0.0477740363201131, took: 2.219 minutes\n",
      "d(G(0.9), G(0.8)): 0.04780032695233222, took: 2.2148 minutes\n",
      "d(G(0.9), G(0.82)): 0.04825815550124049, took: 2.2198 minutes\n",
      "d(G(0.9), G(0.84)): 0.04791323600288346, took: 2.21 minutes\n",
      "d(G(0.9), G(0.86)): 0.04825152539461189, took: 2.2211 minutes\n",
      "d(G(0.9), G(0.88)): 0.048103029978183755, took: 2.2213 minutes\n",
      "d(G(0.9), G(0.9)): 0.04808343968442665, took: 2.2145 minutes\n",
      "d(G(0.9), G(0.92)): 0.0477736717015198, took: 2.216 minutes\n",
      "d(G(0.9), G(0.94)): 0.04792168354961797, took: 2.2148 minutes\n",
      "d(G(0.9), G(0.96)): 0.048155936257145246, took: 2.221 minutes\n",
      "d(G(0.9), G(0.98)): 0.04818691461715272, took: 2.2165 minutes\n",
      "d(G(0.9), G(1.0)): 0.04779340531084371, took: 2.2243 minutes\n",
      "Process took 111.23549460172653 minutes with an average of 2.224704292456309 per p\n"
     ]
    }
   ],
   "source": [
    "exp_unnormL.fit_SGD()"
   ]
  },
  {
   "cell_type": "code",
   "execution_count": 41,
   "metadata": {},
   "outputs": [],
   "source": [
    "exp_sgd_dic[p0] = exp_unnormL.rep_sgd"
   ]
  },
  {
   "cell_type": "code",
   "execution_count": 72,
   "metadata": {},
   "outputs": [],
   "source": [
    "mean_dic = {}\n",
    "std_dic = {}\n",
    "A_dic_ref = {}\n",
    "for key, value in exp_sgd_dic.items():\n",
    "    A_dic_ref[key] = (nx.adjacency_matrix(readWSmodels['G_p0'][key])).todense()\n",
    "    mean_dic[key] = [np.mean(value[i]) for i in exp_unnormL.p]\n",
    "    std_dic[key] = [np.std(value[i]) for i in exp_unnormL.p]"
   ]
  },
  {
   "cell_type": "code",
   "execution_count": 121,
   "metadata": {},
   "outputs": [],
   "source": [
    "Hamming_dist_dic = {}\n",
    "Hamming_dist_avg_dic = {}\n",
    "for key, A_p0 in A_dic_ref.items():\n",
    "    Hamming_dist_dic[key] = f.hamming_dist_models(A_p0, exp_unnormL.A_dic_G_p)\n",
    "    Hamming_dist_avg_dic[key] = [np.mean(Hamming_dist_dic[key][ps]) for ps in exp_unnormL.p]"
   ]
  },
  {
   "cell_type": "code",
   "execution_count": 55,
   "metadata": {},
   "outputs": [],
   "source": [
    "#json.dump( exp_sgd_dic, open( \"101120.json\", 'w' ) )"
   ]
  },
  {
   "cell_type": "code",
   "execution_count": 65,
   "metadata": {
    "scrolled": false
   },
   "outputs": [
    {
     "data": {
      "image/png": "[encoded data removed]",
      "text/plain": [
       "<Figure size 864x576 with 9 Axes>"
      ]
     },
     "metadata": {
      "needs_background": "light"
     },
     "output_type": "display_data"
    }
   ],
   "source": [
    "p0_list = list(exp_sgd_dic.keys())\n",
    "p0=p0_list[0]\n",
    "fig = plt.figure(figsize=(12, 8))\n",
    "for i in range(9):\n",
    "    p0=p0_list[i]\n",
    "    plt.subplot(3, 3, i+1)\n",
    "    plt.tight_layout()\n",
    "    plt.title('p_0 = ' + str(p0))\n",
    "    plt.xlabel('p')\n",
    "    plt.ylabel('SGD')\n",
    "    plt.plot(exp_unnormL.p, mean_dic[p0], '-o', color = 'red')\n",
    "    plt.axvline(x = p0, color = 'blue', linestyle = '--', label = \"p_0 = \"+ str(p0))\n",
    "    plt.fill_between(exp_unnormL.p, [mean_dic[p0][i] - std_dic[p0][i] for i in range(len(mean_dic[p0]))],\n",
    "                     [mean_dic[p0][i] + std_dic[p0][i] for i in range(len(std_dic[p0]))], \n",
    "                     color = 'lightgrey')\n"
   ]
  },
  {
   "cell_type": "code",
   "execution_count": 149,
   "metadata": {},
   "outputs": [
    {
     "data": {
      "image/png": "[encoded data removed]",
      "text/plain": [
       "<Figure size 864x576 with 9 Axes>"
      ]
     },
     "metadata": {
      "needs_background": "light"
     },
     "output_type": "display_data"
    }
   ],
   "source": [
    "p0_list = list(exp_sgd_dic.keys())\n",
    "p0=p0_list[0]\n",
    "fig = plt.figure(figsize=(12, 8))\n",
    "for i in range(9):\n",
    "    p0=p0_list[i]\n",
    "    plt.subplot(3, 3, i+1)\n",
    "    plt.tight_layout()\n",
    "    plt.title('p_0 = ' + str(p0))\n",
    "    plt.xlabel('p')\n",
    "    plt.ylabel('SGD')\n",
    "    plt.axvline(x = p0, color = 'blue', linestyle = '--', label = \"p_0 = \"+ str(p0))\n",
    "    plt.plot(exp_unnormL.p, Hamming_dist_avg_dic[p0], '-o', color = 'red')"
   ]
  }
 ],
 "metadata": {
  "kernelspec": {
   "display_name": "Python 3",
   "language": "python",
   "name": "python3"
  },
  "language_info": {
   "codemirror_mode": {
    "name": "ipython",
    "version": 3
   },
   "file_extension": ".py",
   "mimetype": "text/x-python",
   "name": "python",
   "nbconvert_exporter": "python",
   "pygments_lexer": "ipython3",
   "version": "3.6.8"
  }
 },
 "nbformat": 4,
 "nbformat_minor": 2
}
